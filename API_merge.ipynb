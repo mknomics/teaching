{
  "nbformat": 4,
  "nbformat_minor": 0,
  "metadata": {
    "colab": {
      "name": "AlphaAdvantageAPI.ipynb",
      "provenance": [],
      "toc_visible": true,
      "authorship_tag": "ABX9TyM1bmNWJt4E1C2jVaEemVAR",
      "include_colab_link": true
    },
    "kernelspec": {
      "name": "python3",
      "display_name": "Python 3"
    },
    "language_info": {
      "name": "python"
    }
  },
  "cells": [
    {
      "cell_type": "markdown",
      "metadata": {
        "id": "view-in-github",
        "colab_type": "text"
      },
      "source": [
        "<a href=\"https://colab.research.google.com/github/mknomics/teaching/blob/main/API_merge.ipynb\" target=\"_parent\"><img src=\"https://colab.research.google.com/assets/colab-badge.svg\" alt=\"Open In Colab\"/></a>"
      ]
    },
    {
      "cell_type": "markdown",
      "source": [
        "# Stock Data from AlphaAdvantage API\n",
        "\n",
        "\n"
      ],
      "metadata": {
        "id": "YzOKNuDgJL42"
      }
    },
    {
      "cell_type": "markdown",
      "source": [
        "## Preliminaries\n",
        "**Option 1:**\n",
        "\n",
        "\n",
        "1.   Check WolfDen for a document that has your name and API key.  This is a special key that is better than the free key that you can get from the site.\n",
        "2.   Make a record of your API key and keep it private for your own use. \n",
        "\n",
        "**Option 2:** \n",
        "\n",
        "\n",
        "1. [Register for a free API key](https://www.alphavantage.co/support/#api-key) with Alpha Advantage\n",
        "2. Use your Newberry.edu email for registration\n",
        "3. Record your key in a safe place\n"
      ],
      "metadata": {
        "id": "LzFeHVhDM3Ly"
      }
    },
    {
      "cell_type": "markdown",
      "source": [
        "## Read the API Documentation\n",
        "[Link to API Doccumentation](https://www.alphavantage.co/documentation/)\n",
        "\n",
        "Alpha Vantage APIs are grouped into five categories: \n",
        "1. Time Series Stock APIs\n",
        "2. Fundamental Data, \n",
        "3. Physical and Digital/Crypto Currencies (e.g., Bitcoin), \n",
        "4. Economic Indicators, and \n",
        "5. Technical Indicators. \n",
        "\n",
        "This API uses http protocol, so we structure our queries in what looks like an internet (http) address.  The address is structured using API Parameters according to the syntax in the documentation.  Some parameters are required and others are optional.  \n",
        "\n",
        "The left menu of the [Documentation](https://www.alphavantage.co/documentation/) shows all of the API Data types that are available at Alpha Advantage.  We will start by extracting Weekly Adjusted Stock data.\n",
        "\n"
      ],
      "metadata": {
        "id": "4N7JRa6XJaIT"
      }
    },
    {
      "cell_type": "code",
      "source": [
        "import requests \n",
        "import pandas as pd\n",
        "from google.colab import files\n",
        "\n",
        "def quarter(month=True):\n",
        "  temp=month/3\n",
        "  if temp<=1:\n",
        "    return 1\n",
        "  elif temp>1 and temp<=2:\n",
        "    return 2\n",
        "  elif temp>2 and temp<=3:\n",
        "    return 3\n",
        "  else:\n",
        "    return 4\n",
        "\n",
        "\n",
        "def Stocks(ticker=True):\n",
        "  url='https://www.alphavantage.co/query?function=TIME_SERIES_MONTHLY_ADJUSTED&symbol='+ticker+'&apikey=A601RIXZHX349L2M'\n",
        "  r = requests.get(url)\n",
        "  data = r.json()\n",
        "  stock=pd.DataFrame.from_dict(data['Monthly Adjusted Time Series']).T\n",
        "  stock.reset_index(inplace=True)\n",
        "  stock.rename(columns={'index':'date'},inplace=True)\n",
        "  stock['date']= pd.to_datetime(stock['date'])\n",
        "  stock['year']=stock['date'].dt.year\n",
        "  stock['month']=stock['date'].dt.month\n",
        "  columns=stock.columns\n",
        "  for i in columns[1:8]:\n",
        "    stock[i]=stock[i].astype(float)\n",
        "  stock['quarter']=stock.apply(lambda x: quarter(x['month']),axis=1)\n",
        "  stock=stock.groupby(['year','quarter'])['1. open','7. dividend amount'].mean().reset_index()\n",
        "  stock.rename(columns={'1. open':'open','7. dividend amount':'dividend'},inplace=True)\n",
        "  stock['ticker']=ticker\n",
        "  return stock\n"
      ],
      "metadata": {
        "id": "3MHfAcqZmazS"
      },
      "execution_count": 1,
      "outputs": []
    },
    {
      "cell_type": "code",
      "source": [
        "# Outline for how to concatinate multiple time-series into a single panel\n",
        "\n",
        "# Toy Example with two dataframes\n",
        "A=Stocks(ticker='A')\n",
        "IBM=Stocks(ticker='IBM')\n",
        "pd.concat([IBM,A])\n",
        "\n",
        "\n",
        "# General format to concatinate over a list of ticker names:\n",
        "\n",
        "stock_list=['IBM','A'] #List of ticker names of arbitrary length.  Here the length is = 2\n",
        "temp=pd.DataFrame() # Initialize empty dataframe\n",
        "\n",
        "for j in stock_list:  #Loop over the list\n",
        "  T=Stocks(ticker=j) # Defines a dataframe \"T\" for ticker \"j\" on the list\n",
        "  temp=pd.concat([temp,T]) # Redefines \"temp\".  Run through how this line works on each iteration of the loop.\n",
        "temp"
      ],
      "metadata": {
        "id": "wCckQ-Riuuzx"
      },
      "execution_count": null,
      "outputs": []
    },
    {
      "cell_type": "code",
      "source": [
        "# You can run this block line-by-line as a learning tool. \n",
        "ticker='IBM'\n",
        "url='https://www.alphavantage.co/query?function=TIME_SERIES_MONTHLY_ADJUSTED&symbol='+ticker+'&apikey=A601RIXZHX349L2M'\n",
        "r = requests.get(url)\n",
        "data = r.json()\n",
        "stock=pd.DataFrame.from_dict(data['Monthly Adjusted Time Series']).T\n",
        "stock.reset_index(inplace=True)\n",
        "stock.rename(columns={'index':'date'},inplace=True)\n",
        "stock['date']=pd.to_datetime(stock['date'])\n",
        "stock.dtypes\n",
        "stock['month']=stock['date'].dt.month\n",
        "stock['year']=stock['date'].dt.year\n",
        "stock.head()\n",
        "stock['quarter'] = stock.apply(lambda x: quarterly(x['month']),axis=1)\n",
        "stock.head()\n",
        "#stock.groupby(['year','quarter'])['1. open'].mean()\n",
        "columns=stock.columns"
      ],
      "metadata": {
        "id": "YPAAJNAwghzJ",
        "outputId": "c76849a4-eefb-4861-ba89-84f96d753578",
        "colab": {
          "base_uri": "https://localhost:8080/"
        }
      },
      "execution_count": 58,
      "outputs": [
        {
          "output_type": "execute_result",
          "data": {
            "text/plain": [
              "Index(['date', '1. open', '2. high', '3. low', '4. close', '5. adjusted close',\n",
              "       '6. volume', '7. dividend amount', 'month', 'year', 'quarter'],\n",
              "      dtype='object')"
            ]
          },
          "metadata": {},
          "execution_count": 58
        }
      ]
    },
    {
      "cell_type": "markdown",
      "source": [
        "### Earnings Data\n",
        "Use the API to get Earning Data for IBM\n",
        "\n",
        "**Always Begin by Looking at API Documentation**\n",
        "https://www.alphavantage.co/documentation/"
      ],
      "metadata": {
        "id": "u6nIttc6saPe"
      }
    },
    {
      "cell_type": "code",
      "source": [
        "# replace the \"demo\" apikey below with your own key from https://www.alphavantage.co/support/#api-key\n",
        "url = 'https://www.alphavantage.co/query?function=EARNINGS&symbol=IBM&apikey=demo'\n",
        "r = requests.get(url)\n",
        "data = r.json()\n",
        "data.keys()\n",
        "\n",
        "earnings=pd.DataFrame.from_dict(data['quarterlyEarnings'])\n",
        "earnings.rename(columns={'fiscalDateEnding':'date'},inplace=True)\n",
        "earnings['date']= pd.to_datetime(earnings['date'])\n",
        "earnings['month']=earnings['date'].dt.month\n",
        "earnings['quarter']=earnings['month']/3\n",
        "earnings.head()"
      ],
      "metadata": {
        "id": "cmPOYfE0fu4O",
        "outputId": "dc98e7b0-c32c-48fe-952d-83e2fc9ee29c",
        "colab": {
          "base_uri": "https://localhost:8080/",
          "height": 206
        }
      },
      "execution_count": 44,
      "outputs": [
        {
          "output_type": "execute_result",
          "data": {
            "text/plain": [
              "        date reportedDate reportedEPS estimatedEPS surprise  \\\n",
              "0 2022-03-31   2022-04-19         1.4         1.38     0.02   \n",
              "1 2021-12-31   2022-01-24        3.35          3.3     0.05   \n",
              "2 2021-09-30   2021-10-20        2.52       2.5147   0.0053   \n",
              "3 2021-06-30   2021-07-19        2.33       2.2884   0.0416   \n",
              "4 2021-03-31   2021-04-19        1.77       1.6524   0.1176   \n",
              "\n",
              "  surprisePercentage  month  quarter  \n",
              "0             1.4493      3      1.0  \n",
              "1             1.5152     12      4.0  \n",
              "2             0.2108      9      3.0  \n",
              "3             1.8179      6      2.0  \n",
              "4             7.1169      3      1.0  "
            ],
            "text/html": [
              "\n",
              "  <div id=\"df-053b7b87-3845-4a19-b38a-eef8449c054f\">\n",
              "    <div class=\"colab-df-container\">\n",
              "      <div>\n",
              "<style scoped>\n",
              "    .dataframe tbody tr th:only-of-type {\n",
              "        vertical-align: middle;\n",
              "    }\n",
              "\n",
              "    .dataframe tbody tr th {\n",
              "        vertical-align: top;\n",
              "    }\n",
              "\n",
              "    .dataframe thead th {\n",
              "        text-align: right;\n",
              "    }\n",
              "</style>\n",
              "<table border=\"1\" class=\"dataframe\">\n",
              "  <thead>\n",
              "    <tr style=\"text-align: right;\">\n",
              "      <th></th>\n",
              "      <th>date</th>\n",
              "      <th>reportedDate</th>\n",
              "      <th>reportedEPS</th>\n",
              "      <th>estimatedEPS</th>\n",
              "      <th>surprise</th>\n",
              "      <th>surprisePercentage</th>\n",
              "      <th>month</th>\n",
              "      <th>quarter</th>\n",
              "    </tr>\n",
              "  </thead>\n",
              "  <tbody>\n",
              "    <tr>\n",
              "      <th>0</th>\n",
              "      <td>2022-03-31</td>\n",
              "      <td>2022-04-19</td>\n",
              "      <td>1.4</td>\n",
              "      <td>1.38</td>\n",
              "      <td>0.02</td>\n",
              "      <td>1.4493</td>\n",
              "      <td>3</td>\n",
              "      <td>1.0</td>\n",
              "    </tr>\n",
              "    <tr>\n",
              "      <th>1</th>\n",
              "      <td>2021-12-31</td>\n",
              "      <td>2022-01-24</td>\n",
              "      <td>3.35</td>\n",
              "      <td>3.3</td>\n",
              "      <td>0.05</td>\n",
              "      <td>1.5152</td>\n",
              "      <td>12</td>\n",
              "      <td>4.0</td>\n",
              "    </tr>\n",
              "    <tr>\n",
              "      <th>2</th>\n",
              "      <td>2021-09-30</td>\n",
              "      <td>2021-10-20</td>\n",
              "      <td>2.52</td>\n",
              "      <td>2.5147</td>\n",
              "      <td>0.0053</td>\n",
              "      <td>0.2108</td>\n",
              "      <td>9</td>\n",
              "      <td>3.0</td>\n",
              "    </tr>\n",
              "    <tr>\n",
              "      <th>3</th>\n",
              "      <td>2021-06-30</td>\n",
              "      <td>2021-07-19</td>\n",
              "      <td>2.33</td>\n",
              "      <td>2.2884</td>\n",
              "      <td>0.0416</td>\n",
              "      <td>1.8179</td>\n",
              "      <td>6</td>\n",
              "      <td>2.0</td>\n",
              "    </tr>\n",
              "    <tr>\n",
              "      <th>4</th>\n",
              "      <td>2021-03-31</td>\n",
              "      <td>2021-04-19</td>\n",
              "      <td>1.77</td>\n",
              "      <td>1.6524</td>\n",
              "      <td>0.1176</td>\n",
              "      <td>7.1169</td>\n",
              "      <td>3</td>\n",
              "      <td>1.0</td>\n",
              "    </tr>\n",
              "  </tbody>\n",
              "</table>\n",
              "</div>\n",
              "      <button class=\"colab-df-convert\" onclick=\"convertToInteractive('df-053b7b87-3845-4a19-b38a-eef8449c054f')\"\n",
              "              title=\"Convert this dataframe to an interactive table.\"\n",
              "              style=\"display:none;\">\n",
              "        \n",
              "  <svg xmlns=\"http://www.w3.org/2000/svg\" height=\"24px\"viewBox=\"0 0 24 24\"\n",
              "       width=\"24px\">\n",
              "    <path d=\"M0 0h24v24H0V0z\" fill=\"none\"/>\n",
              "    <path d=\"M18.56 5.44l.94 2.06.94-2.06 2.06-.94-2.06-.94-.94-2.06-.94 2.06-2.06.94zm-11 1L8.5 8.5l.94-2.06 2.06-.94-2.06-.94L8.5 2.5l-.94 2.06-2.06.94zm10 10l.94 2.06.94-2.06 2.06-.94-2.06-.94-.94-2.06-.94 2.06-2.06.94z\"/><path d=\"M17.41 7.96l-1.37-1.37c-.4-.4-.92-.59-1.43-.59-.52 0-1.04.2-1.43.59L10.3 9.45l-7.72 7.72c-.78.78-.78 2.05 0 2.83L4 21.41c.39.39.9.59 1.41.59.51 0 1.02-.2 1.41-.59l7.78-7.78 2.81-2.81c.8-.78.8-2.07 0-2.86zM5.41 20L4 18.59l7.72-7.72 1.47 1.35L5.41 20z\"/>\n",
              "  </svg>\n",
              "      </button>\n",
              "      \n",
              "  <style>\n",
              "    .colab-df-container {\n",
              "      display:flex;\n",
              "      flex-wrap:wrap;\n",
              "      gap: 12px;\n",
              "    }\n",
              "\n",
              "    .colab-df-convert {\n",
              "      background-color: #E8F0FE;\n",
              "      border: none;\n",
              "      border-radius: 50%;\n",
              "      cursor: pointer;\n",
              "      display: none;\n",
              "      fill: #1967D2;\n",
              "      height: 32px;\n",
              "      padding: 0 0 0 0;\n",
              "      width: 32px;\n",
              "    }\n",
              "\n",
              "    .colab-df-convert:hover {\n",
              "      background-color: #E2EBFA;\n",
              "      box-shadow: 0px 1px 2px rgba(60, 64, 67, 0.3), 0px 1px 3px 1px rgba(60, 64, 67, 0.15);\n",
              "      fill: #174EA6;\n",
              "    }\n",
              "\n",
              "    [theme=dark] .colab-df-convert {\n",
              "      background-color: #3B4455;\n",
              "      fill: #D2E3FC;\n",
              "    }\n",
              "\n",
              "    [theme=dark] .colab-df-convert:hover {\n",
              "      background-color: #434B5C;\n",
              "      box-shadow: 0px 1px 3px 1px rgba(0, 0, 0, 0.15);\n",
              "      filter: drop-shadow(0px 1px 2px rgba(0, 0, 0, 0.3));\n",
              "      fill: #FFFFFF;\n",
              "    }\n",
              "  </style>\n",
              "\n",
              "      <script>\n",
              "        const buttonEl =\n",
              "          document.querySelector('#df-053b7b87-3845-4a19-b38a-eef8449c054f button.colab-df-convert');\n",
              "        buttonEl.style.display =\n",
              "          google.colab.kernel.accessAllowed ? 'block' : 'none';\n",
              "\n",
              "        async function convertToInteractive(key) {\n",
              "          const element = document.querySelector('#df-053b7b87-3845-4a19-b38a-eef8449c054f');\n",
              "          const dataTable =\n",
              "            await google.colab.kernel.invokeFunction('convertToInteractive',\n",
              "                                                     [key], {});\n",
              "          if (!dataTable) return;\n",
              "\n",
              "          const docLinkHtml = 'Like what you see? Visit the ' +\n",
              "            '<a target=\"_blank\" href=https://colab.research.google.com/notebooks/data_table.ipynb>data table notebook</a>'\n",
              "            + ' to learn more about interactive tables.';\n",
              "          element.innerHTML = '';\n",
              "          dataTable['output_type'] = 'display_data';\n",
              "          await google.colab.output.renderOutput(dataTable, element);\n",
              "          const docLink = document.createElement('div');\n",
              "          docLink.innerHTML = docLinkHtml;\n",
              "          element.appendChild(docLink);\n",
              "        }\n",
              "      </script>\n",
              "    </div>\n",
              "  </div>\n",
              "  "
            ]
          },
          "metadata": {},
          "execution_count": 44
        }
      ]
    }
  ]
}