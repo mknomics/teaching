{
  "nbformat": 4,
  "nbformat_minor": 0,
  "metadata": {
    "colab": {
      "name": "Untitled17.ipynb",
      "provenance": [],
      "authorship_tag": "ABX9TyOdAiX4mlXG0oraOOy71Woh",
      "include_colab_link": true
    },
    "kernelspec": {
      "name": "python3",
      "display_name": "Python 3"
    },
    "language_info": {
      "name": "python"
    }
  },
  "cells": [
    {
      "cell_type": "markdown",
      "metadata": {
        "id": "view-in-github",
        "colab_type": "text"
      },
      "source": [
        "<a href=\"https://colab.research.google.com/github/mknomics/teaching/blob/main/Dummy_Variables.ipynb\" target=\"_parent\"><img src=\"https://colab.research.google.com/assets/colab-badge.svg\" alt=\"Open In Colab\"/></a>"
      ]
    },
    {
      "cell_type": "code",
      "execution_count": 29,
      "metadata": {
        "id": "z5RkequITDSd"
      },
      "outputs": [],
      "source": [
        "import pandas as pd\n",
        "import numpy as np\n",
        "\n",
        "import matplotlib.pyplot as plt\n",
        "%matplotlib inline\n",
        "\n",
        "from sklearn.linear_model import LinearRegression\n",
        "from sklearn.metrics import mean_squared_error\n",
        "from sklearn import metrics\n",
        "from sklearn.model_selection import train_test_split\n",
        "from sklearn.preprocessing import PolynomialFeatures\n",
        "from sklearn.pipeline import Pipeline\n",
        "from sklearn.preprocessing import StandardScaler\n",
        "\n",
        "import statsmodels.api as sm\n",
        "import statsmodels.formula.api as smf\n",
        "import seaborn as sns\n",
        "%matplotlib inline "
      ]
    },
    {
      "cell_type": "code",
      "source": [
        "def model(X=True, Y=True):\n",
        "  lm = LinearRegression()\n",
        "\n",
        "  lm.fit(X,Y)\n",
        "  Yhat = lm.predict(X)\n",
        "  mse= mean_squared_error(Y, Yhat)\n",
        "  print('mse = '+ str(mse))\n",
        "\n",
        "  plt.figure()\n",
        "  ax1 = sns.distplot(Y, hist=False, color=\"r\", label=\"Actual Value\")\n",
        "  sns.distplot(Yhat, hist=False, color=\"b\", label=\"Fitted Values\" , ax=ax1)\n",
        "  plt.title('Actual vs Fitted Values for Price')\n",
        "  plt.xlabel('Price (in dollars)')\n",
        "  plt.ylabel('Proportion of Cars')\n",
        "  plt.show()\n",
        "  plt.close()\n",
        "\n",
        "  reg_model = sm.OLS(Y, X).fit()\n",
        "  #X = sm.add_constant(X,  has_constant='add')\n",
        "  print(X.head())\n",
        "  #predictions = reg_model.predict(X) \n",
        "  print(reg_model.summary())\n",
        "  return"
      ],
      "metadata": {
        "id": "BXEUXSFLvunP"
      },
      "execution_count": 33,
      "outputs": []
    },
    {
      "cell_type": "markdown",
      "source": [
        "## Load Data into Colab"
      ],
      "metadata": {
        "id": "qp3i_SCPwE6A"
      }
    },
    {
      "cell_type": "code",
      "source": [
        "house_data_path='https://raw.githubusercontent.com/data-doctors/kaggle-house-prices-advanced-regression-techniques/master/data/train.csv'\n",
        "df_house=pd.read_csv(house_data_path) # invoke Pandas and use read_csv() method passing in the parameter of the csv location, in this case a url address\n",
        "df_house.head(1) # Visually Inspect that it loaded correctly\n",
        "df_house.info() # info() is prefered to .dtypes method because info() gives null counts and dtypes and does not cut the output shortd"
      ],
      "metadata": {
        "colab": {
          "base_uri": "https://localhost:8080/"
        },
        "id": "1cQYdYSMWmlL",
        "outputId": "32fd681b-467c-4eac-eb3c-8a42f828afc6"
      },
      "execution_count": 36,
      "outputs": [
        {
          "output_type": "stream",
          "name": "stdout",
          "text": [
            "<class 'pandas.core.frame.DataFrame'>\n",
            "RangeIndex: 1460 entries, 0 to 1459\n",
            "Data columns (total 81 columns):\n",
            " #   Column         Non-Null Count  Dtype  \n",
            "---  ------         --------------  -----  \n",
            " 0   Id             1460 non-null   int64  \n",
            " 1   MSSubClass     1460 non-null   int64  \n",
            " 2   MSZoning       1460 non-null   object \n",
            " 3   LotFrontage    1201 non-null   float64\n",
            " 4   LotArea        1460 non-null   int64  \n",
            " 5   Street         1460 non-null   object \n",
            " 6   Alley          91 non-null     object \n",
            " 7   LotShape       1460 non-null   object \n",
            " 8   LandContour    1460 non-null   object \n",
            " 9   Utilities      1460 non-null   object \n",
            " 10  LotConfig      1460 non-null   object \n",
            " 11  LandSlope      1460 non-null   object \n",
            " 12  Neighborhood   1460 non-null   object \n",
            " 13  Condition1     1460 non-null   object \n",
            " 14  Condition2     1460 non-null   object \n",
            " 15  BldgType       1460 non-null   object \n",
            " 16  HouseStyle     1460 non-null   object \n",
            " 17  OverallQual    1460 non-null   int64  \n",
            " 18  OverallCond    1460 non-null   int64  \n",
            " 19  YearBuilt      1460 non-null   int64  \n",
            " 20  YearRemodAdd   1460 non-null   int64  \n",
            " 21  RoofStyle      1460 non-null   object \n",
            " 22  RoofMatl       1460 non-null   object \n",
            " 23  Exterior1st    1460 non-null   object \n",
            " 24  Exterior2nd    1460 non-null   object \n",
            " 25  MasVnrType     1452 non-null   object \n",
            " 26  MasVnrArea     1452 non-null   float64\n",
            " 27  ExterQual      1460 non-null   object \n",
            " 28  ExterCond      1460 non-null   object \n",
            " 29  Foundation     1460 non-null   object \n",
            " 30  BsmtQual       1423 non-null   object \n",
            " 31  BsmtCond       1423 non-null   object \n",
            " 32  BsmtExposure   1422 non-null   object \n",
            " 33  BsmtFinType1   1423 non-null   object \n",
            " 34  BsmtFinSF1     1460 non-null   int64  \n",
            " 35  BsmtFinType2   1422 non-null   object \n",
            " 36  BsmtFinSF2     1460 non-null   int64  \n",
            " 37  BsmtUnfSF      1460 non-null   int64  \n",
            " 38  TotalBsmtSF    1460 non-null   int64  \n",
            " 39  Heating        1460 non-null   object \n",
            " 40  HeatingQC      1460 non-null   object \n",
            " 41  CentralAir     1460 non-null   object \n",
            " 42  Electrical     1459 non-null   object \n",
            " 43  1stFlrSF       1460 non-null   int64  \n",
            " 44  2ndFlrSF       1460 non-null   int64  \n",
            " 45  LowQualFinSF   1460 non-null   int64  \n",
            " 46  GrLivArea      1460 non-null   int64  \n",
            " 47  BsmtFullBath   1460 non-null   int64  \n",
            " 48  BsmtHalfBath   1460 non-null   int64  \n",
            " 49  FullBath       1460 non-null   int64  \n",
            " 50  HalfBath       1460 non-null   int64  \n",
            " 51  BedroomAbvGr   1460 non-null   int64  \n",
            " 52  KitchenAbvGr   1460 non-null   int64  \n",
            " 53  KitchenQual    1460 non-null   object \n",
            " 54  TotRmsAbvGrd   1460 non-null   int64  \n",
            " 55  Functional     1460 non-null   object \n",
            " 56  Fireplaces     1460 non-null   int64  \n",
            " 57  FireplaceQu    770 non-null    object \n",
            " 58  GarageType     1379 non-null   object \n",
            " 59  GarageYrBlt    1379 non-null   float64\n",
            " 60  GarageFinish   1379 non-null   object \n",
            " 61  GarageCars     1460 non-null   int64  \n",
            " 62  GarageArea     1460 non-null   int64  \n",
            " 63  GarageQual     1379 non-null   object \n",
            " 64  GarageCond     1379 non-null   object \n",
            " 65  PavedDrive     1460 non-null   object \n",
            " 66  WoodDeckSF     1460 non-null   int64  \n",
            " 67  OpenPorchSF    1460 non-null   int64  \n",
            " 68  EnclosedPorch  1460 non-null   int64  \n",
            " 69  3SsnPorch      1460 non-null   int64  \n",
            " 70  ScreenPorch    1460 non-null   int64  \n",
            " 71  PoolArea       1460 non-null   int64  \n",
            " 72  PoolQC         7 non-null      object \n",
            " 73  Fence          281 non-null    object \n",
            " 74  MiscFeature    54 non-null     object \n",
            " 75  MiscVal        1460 non-null   int64  \n",
            " 76  MoSold         1460 non-null   int64  \n",
            " 77  YrSold         1460 non-null   int64  \n",
            " 78  SaleType       1460 non-null   object \n",
            " 79  SaleCondition  1460 non-null   object \n",
            " 80  SalePrice      1460 non-null   int64  \n",
            "dtypes: float64(3), int64(35), object(43)\n",
            "memory usage: 924.0+ KB\n"
          ]
        }
      ]
    },
    {
      "cell_type": "markdown",
      "source": [
        "# Stats Models Formula smf()"
      ],
      "metadata": {
        "id": "S1wn18M-mmt5"
      }
    },
    {
      "cell_type": "markdown",
      "source": [
        "# Predictive Models"
      ],
      "metadata": {
        "id": "CIWwOP9Sm-Uk"
      }
    },
    {
      "cell_type": "code",
      "source": [
        "model(X=df_house[['LotArea','OverallQual']], Y=df_house['SalePrice'])"
      ],
      "metadata": {
        "id": "te3AqFBNVzI5",
        "outputId": "f7b62a5c-9bbc-4244-bd5a-6985349450c8",
        "colab": {
          "base_uri": "https://localhost:8080/",
          "height": 992
        }
      },
      "execution_count": 35,
      "outputs": [
        {
          "output_type": "stream",
          "name": "stdout",
          "text": [
            "mse = 2153929600.839024\n"
          ]
        },
        {
          "output_type": "stream",
          "name": "stderr",
          "text": [
            "/usr/local/lib/python3.7/dist-packages/seaborn/distributions.py:2619: FutureWarning: `distplot` is a deprecated function and will be removed in a future version. Please adapt your code to use either `displot` (a figure-level function with similar flexibility) or `kdeplot` (an axes-level function for kernel density plots).\n",
            "  warnings.warn(msg, FutureWarning)\n",
            "/usr/local/lib/python3.7/dist-packages/seaborn/distributions.py:2619: FutureWarning: `distplot` is a deprecated function and will be removed in a future version. Please adapt your code to use either `displot` (a figure-level function with similar flexibility) or `kdeplot` (an axes-level function for kernel density plots).\n",
            "  warnings.warn(msg, FutureWarning)\n"
          ]
        },
        {
          "output_type": "display_data",
          "data": {
            "text/plain": [
              "<Figure size 432x288 with 1 Axes>"
            ],
            "image/png": "[encoded data removed]"
          },
          "metadata": {
            "needs_background": "light"
          }
        },
        {
          "output_type": "stream",
          "name": "stdout",
          "text": [
            "   LotArea  OverallQual\n",
            "0     8450            7\n",
            "1     9600            6\n",
            "2    11250            7\n",
            "3     9550            7\n",
            "4    14260            8\n",
            "                                 OLS Regression Results                                \n",
            "=======================================================================================\n",
            "Dep. Variable:              SalePrice   R-squared (uncentered):                   0.931\n",
            "Model:                            OLS   Adj. R-squared (uncentered):              0.931\n",
            "Method:                 Least Squares   F-statistic:                              9888.\n",
            "Date:                Tue, 22 Nov 2022   Prob (F-statistic):                        0.00\n",
            "Time:                        13:49:04   Log-Likelihood:                         -17919.\n",
            "No. Observations:                1460   AIC:                                  3.584e+04\n",
            "Df Residuals:                    1458   BIC:                                  3.585e+04\n",
            "Df Model:                           2                                                  \n",
            "Covariance Type:            nonrobust                                                  \n",
            "===============================================================================\n",
            "                  coef    std err          t      P>|t|      [0.025      0.975]\n",
            "-------------------------------------------------------------------------------\n",
            "LotArea         1.1507      0.136      8.491      0.000       0.885       1.416\n",
            "OverallQual   2.85e+04    314.121     90.740      0.000    2.79e+04    2.91e+04\n",
            "==============================================================================\n",
            "Omnibus:                      849.459   Durbin-Watson:                   1.952\n",
            "Prob(Omnibus):                  0.000   Jarque-Bera (JB):            11876.126\n",
            "Skew:                           2.434   Prob(JB):                         0.00\n",
            "Kurtosis:                      16.097   Cond. No.                     3.36e+03\n",
            "==============================================================================\n",
            "\n",
            "Notes:\n",
            "[1] R² is computed without centering (uncentered) since the model does not contain a constant.\n",
            "[2] Standard Errors assume that the covariance matrix of the errors is correctly specified.\n",
            "[3] The condition number is large, 3.36e+03. This might indicate that there are\n",
            "strong multicollinearity or other numerical problems.\n"
          ]
        }
      ]
    },
    {
      "cell_type": "markdown",
      "source": [
        "# Dummy Variables\n",
        "Transform Categorical variables into \"Dummy Variables\".  Dummy Variables only take the value zero or one.  Lets consider the variable \"BldgType\" as an example.\n",
        "\n",
        "Note the \"BldgType\" is an object datatype.  You can see this by typing:\n",
        "\n",
        "```\n",
        "df_house['BldgType'].dtype\n",
        "```\n",
        "This returns \"O\" for object, which we can easily see is a string that represents the type of building.  \n",
        "\n",
        "How many categories does BldgType have?\n",
        "\n",
        "Find this by typing:\n",
        "\n",
        "\n",
        "```\n",
        "df_house['BldgType'].unique()\n",
        "```\n",
        "\n",
        "Which returns: ['1Fam', '2fmCon', 'Duplex', 'TwnhsE', 'Twnhs']\n",
        "\n",
        "BldgType has 5 categories and we create 5 new columns of data, with the string category as the column name.  The values of each column will be 1 if that row is equal to the column name and zero otherwise.  \n",
        "\n",
        "For example:  Suppose the first 5 rows of df_house['BldgType'] were:\n",
        "\n",
        "'1Fam'\n",
        "\n",
        "'1Fam'\n",
        "\n",
        "'Duplex'\n",
        "\n",
        "'TwnhsE'\n",
        "\n",
        "'1Fam'\n",
        "\n",
        "\n",
        "The Dummy variables would be: \n",
        "\n",
        "'1Fam', '2fmCon', 'Duplex', 'TwnhsE', 'Twnhs'\n",
        "\n",
        "1       0          0         0         0\n",
        "\n",
        "1       0          0         0         0\n",
        "\n",
        "0       0          1         0         0\n",
        "\n",
        "0       0          0         1         0\n",
        "\n",
        "1       0          0         0         0"
      ],
      "metadata": {
        "id": "Jag-XOs7XBdw"
      }
    },
    {
      "cell_type": "markdown",
      "source": [
        "## get_dummies()"
      ],
      "metadata": {
        "id": "PtViFlx4agOJ"
      }
    },
    {
      "cell_type": "code",
      "source": [
        "pd.get_dummies(df_house['BldgType'])"
      ],
      "metadata": {
        "id": "4ws6BHpCV1XG",
        "outputId": "1ec2396b-b769-464c-b18d-63ace2648b5a",
        "colab": {
          "base_uri": "https://localhost:8080/",
          "height": 424
        }
      },
      "execution_count": 38,
      "outputs": [
        {
          "output_type": "execute_result",
          "data": {
            "text/plain": [
              "      1Fam  2fmCon  Duplex  Twnhs  TwnhsE\n",
              "0        1       0       0      0       0\n",
              "1        1       0       0      0       0\n",
              "2        1       0       0      0       0\n",
              "3        1       0       0      0       0\n",
              "4        1       0       0      0       0\n",
              "...    ...     ...     ...    ...     ...\n",
              "1455     1       0       0      0       0\n",
              "1456     1       0       0      0       0\n",
              "1457     1       0       0      0       0\n",
              "1458     1       0       0      0       0\n",
              "1459     1       0       0      0       0\n",
              "\n",
              "[1460 rows x 5 columns]"
            ],
            "text/html": [
              "\n",
              "  <div id=\"df-152025df-7577-4004-aeeb-209efe345849\">\n",
              "    <div class=\"colab-df-container\">\n",
              "      <div>\n",
              "<style scoped>\n",
              "    .dataframe tbody tr th:only-of-type {\n",
              "        vertical-align: middle;\n",
              "    }\n",
              "\n",
              "    .dataframe tbody tr th {\n",
              "        vertical-align: top;\n",
              "    }\n",
              "\n",
              "    .dataframe thead th {\n",
              "        text-align: right;\n",
              "    }\n",
              "</style>\n",
              "<table border=\"1\" class=\"dataframe\">\n",
              "  <thead>\n",
              "    <tr style=\"text-align: right;\">\n",
              "      <th></th>\n",
              "      <th>1Fam</th>\n",
              "      <th>2fmCon</th>\n",
              "      <th>Duplex</th>\n",
              "      <th>Twnhs</th>\n",
              "      <th>TwnhsE</th>\n",
              "    </tr>\n",
              "  </thead>\n",
              "  <tbody>\n",
              "    <tr>\n",
              "      <th>0</th>\n",
              "      <td>1</td>\n",
              "      <td>0</td>\n",
              "      <td>0</td>\n",
              "      <td>0</td>\n",
              "      <td>0</td>\n",
              "    </tr>\n",
              "    <tr>\n",
              "      <th>1</th>\n",
              "      <td>1</td>\n",
              "      <td>0</td>\n",
              "      <td>0</td>\n",
              "      <td>0</td>\n",
              "      <td>0</td>\n",
              "    </tr>\n",
              "    <tr>\n",
              "      <th>2</th>\n",
              "      <td>1</td>\n",
              "      <td>0</td>\n",
              "      <td>0</td>\n",
              "      <td>0</td>\n",
              "      <td>0</td>\n",
              "    </tr>\n",
              "    <tr>\n",
              "      <th>3</th>\n",
              "      <td>1</td>\n",
              "      <td>0</td>\n",
              "      <td>0</td>\n",
              "      <td>0</td>\n",
              "      <td>0</td>\n",
              "    </tr>\n",
              "    <tr>\n",
              "      <th>4</th>\n",
              "      <td>1</td>\n",
              "      <td>0</td>\n",
              "      <td>0</td>\n",
              "      <td>0</td>\n",
              "      <td>0</td>\n",
              "    </tr>\n",
              "    <tr>\n",
              "      <th>...</th>\n",
              "      <td>...</td>\n",
              "      <td>...</td>\n",
              "      <td>...</td>\n",
              "      <td>...</td>\n",
              "      <td>...</td>\n",
              "    </tr>\n",
              "    <tr>\n",
              "      <th>1455</th>\n",
              "      <td>1</td>\n",
              "      <td>0</td>\n",
              "      <td>0</td>\n",
              "      <td>0</td>\n",
              "      <td>0</td>\n",
              "    </tr>\n",
              "    <tr>\n",
              "      <th>1456</th>\n",
              "      <td>1</td>\n",
              "      <td>0</td>\n",
              "      <td>0</td>\n",
              "      <td>0</td>\n",
              "      <td>0</td>\n",
              "    </tr>\n",
              "    <tr>\n",
              "      <th>1457</th>\n",
              "      <td>1</td>\n",
              "      <td>0</td>\n",
              "      <td>0</td>\n",
              "      <td>0</td>\n",
              "      <td>0</td>\n",
              "    </tr>\n",
              "    <tr>\n",
              "      <th>1458</th>\n",
              "      <td>1</td>\n",
              "      <td>0</td>\n",
              "      <td>0</td>\n",
              "      <td>0</td>\n",
              "      <td>0</td>\n",
              "    </tr>\n",
              "    <tr>\n",
              "      <th>1459</th>\n",
              "      <td>1</td>\n",
              "      <td>0</td>\n",
              "      <td>0</td>\n",
              "      <td>0</td>\n",
              "      <td>0</td>\n",
              "    </tr>\n",
              "  </tbody>\n",
              "</table>\n",
              "<p>1460 rows × 5 columns</p>\n",
              "</div>\n",
              "      <button class=\"colab-df-convert\" onclick=\"convertToInteractive('df-152025df-7577-4004-aeeb-209efe345849')\"\n",
              "              title=\"Convert this dataframe to an interactive table.\"\n",
              "              style=\"display:none;\">\n",
              "        \n",
              "  <svg xmlns=\"http://www.w3.org/2000/svg\" height=\"24px\"viewBox=\"0 0 24 24\"\n",
              "       width=\"24px\">\n",
              "    <path d=\"M0 0h24v24H0V0z\" fill=\"none\"/>\n",
              "    <path d=\"M18.56 5.44l.94 2.06.94-2.06 2.06-.94-2.06-.94-.94-2.06-.94 2.06-2.06.94zm-11 1L8.5 8.5l.94-2.06 2.06-.94-2.06-.94L8.5 2.5l-.94 2.06-2.06.94zm10 10l.94 2.06.94-2.06 2.06-.94-2.06-.94-.94-2.06-.94 2.06-2.06.94z\"/><path d=\"M17.41 7.96l-1.37-1.37c-.4-.4-.92-.59-1.43-.59-.52 0-1.04.2-1.43.59L10.3 9.45l-7.72 7.72c-.78.78-.78 2.05 0 2.83L4 21.41c.39.39.9.59 1.41.59.51 0 1.02-.2 1.41-.59l7.78-7.78 2.81-2.81c.8-.78.8-2.07 0-2.86zM5.41 20L4 18.59l7.72-7.72 1.47 1.35L5.41 20z\"/>\n",
              "  </svg>\n",
              "      </button>\n",
              "      \n",
              "  <style>\n",
              "    .colab-df-container {\n",
              "      display:flex;\n",
              "      flex-wrap:wrap;\n",
              "      gap: 12px;\n",
              "    }\n",
              "\n",
              "    .colab-df-convert {\n",
              "      background-color: #E8F0FE;\n",
              "      border: none;\n",
              "      border-radius: 50%;\n",
              "      cursor: pointer;\n",
              "      display: none;\n",
              "      fill: #1967D2;\n",
              "      height: 32px;\n",
              "      padding: 0 0 0 0;\n",
              "      width: 32px;\n",
              "    }\n",
              "\n",
              "    .colab-df-convert:hover {\n",
              "      background-color: #E2EBFA;\n",
              "      box-shadow: 0px 1px 2px rgba(60, 64, 67, 0.3), 0px 1px 3px 1px rgba(60, 64, 67, 0.15);\n",
              "      fill: #174EA6;\n",
              "    }\n",
              "\n",
              "    [theme=dark] .colab-df-convert {\n",
              "      background-color: #3B4455;\n",
              "      fill: #D2E3FC;\n",
              "    }\n",
              "\n",
              "    [theme=dark] .colab-df-convert:hover {\n",
              "      background-color: #434B5C;\n",
              "      box-shadow: 0px 1px 3px 1px rgba(0, 0, 0, 0.15);\n",
              "      filter: drop-shadow(0px 1px 2px rgba(0, 0, 0, 0.3));\n",
              "      fill: #FFFFFF;\n",
              "    }\n",
              "  </style>\n",
              "\n",
              "      <script>\n",
              "        const buttonEl =\n",
              "          document.querySelector('#df-152025df-7577-4004-aeeb-209efe345849 button.colab-df-convert');\n",
              "        buttonEl.style.display =\n",
              "          google.colab.kernel.accessAllowed ? 'block' : 'none';\n",
              "\n",
              "        async function convertToInteractive(key) {\n",
              "          const element = document.querySelector('#df-152025df-7577-4004-aeeb-209efe345849');\n",
              "          const dataTable =\n",
              "            await google.colab.kernel.invokeFunction('convertToInteractive',\n",
              "                                                     [key], {});\n",
              "          if (!dataTable) return;\n",
              "\n",
              "          const docLinkHtml = 'Like what you see? Visit the ' +\n",
              "            '<a target=\"_blank\" href=https://colab.research.google.com/notebooks/data_table.ipynb>data table notebook</a>'\n",
              "            + ' to learn more about interactive tables.';\n",
              "          element.innerHTML = '';\n",
              "          dataTable['output_type'] = 'display_data';\n",
              "          await google.colab.output.renderOutput(dataTable, element);\n",
              "          const docLink = document.createElement('div');\n",
              "          docLink.innerHTML = docLinkHtml;\n",
              "          element.appendChild(docLink);\n",
              "        }\n",
              "      </script>\n",
              "    </div>\n",
              "  </div>\n",
              "  "
            ]
          },
          "metadata": {},
          "execution_count": 38
        }
      ]
    },
    {
      "cell_type": "markdown",
      "source": [
        "## join dummies to original df"
      ],
      "metadata": {
        "id": "HDCPOgurakAn"
      }
    },
    {
      "cell_type": "code",
      "source": [
        "df_house=pd.get_dummies(df_house['BldgType']).join(df_house)\n"
      ],
      "metadata": {
        "id": "e4oR2SU1a2YN"
      },
      "execution_count": 40,
      "outputs": []
    },
    {
      "cell_type": "code",
      "source": [
        "df_house.head(2)"
      ],
      "metadata": {
        "id": "T2HiNE0Hap3k",
        "outputId": "8f33398a-355b-456b-f104-f590c5d59b8d",
        "colab": {
          "base_uri": "https://localhost:8080/",
          "height": 141
        }
      },
      "execution_count": null,
      "outputs": [
        {
          "output_type": "execute_result",
          "data": {
            "text/plain": [
              "   1Fam  2fmCon  Duplex  Twnhs  TwnhsE  Id  MSSubClass MSZoning  LotFrontage  \\\n",
              "0     1       0       0      0       0   1          60       RL         65.0   \n",
              "1     1       0       0      0       0   2          20       RL         80.0   \n",
              "\n",
              "   LotArea  ... PoolArea PoolQC Fence MiscFeature MiscVal MoSold YrSold  \\\n",
              "0     8450  ...        0    NaN   NaN         NaN       0      2   2008   \n",
              "1     9600  ...        0    NaN   NaN         NaN       0      5   2007   \n",
              "\n",
              "  SaleType SaleCondition SalePrice  \n",
              "0       WD        Normal    208500  \n",
              "1       WD        Normal    181500  \n",
              "\n",
              "[2 rows x 86 columns]"
            ],
            "text/html": [
              "\n",
              "  <div id=\"df-292fa505-7417-436a-b401-f7a386cf88af\">\n",
              "    <div class=\"colab-df-container\">\n",
              "      <div>\n",
              "<style scoped>\n",
              "    .dataframe tbody tr th:only-of-type {\n",
              "        vertical-align: middle;\n",
              "    }\n",
              "\n",
              "    .dataframe tbody tr th {\n",
              "        vertical-align: top;\n",
              "    }\n",
              "\n",
              "    .dataframe thead th {\n",
              "        text-align: right;\n",
              "    }\n",
              "</style>\n",
              "<table border=\"1\" class=\"dataframe\">\n",
              "  <thead>\n",
              "    <tr style=\"text-align: right;\">\n",
              "      <th></th>\n",
              "      <th>1Fam</th>\n",
              "      <th>2fmCon</th>\n",
              "      <th>Duplex</th>\n",
              "      <th>Twnhs</th>\n",
              "      <th>TwnhsE</th>\n",
              "      <th>Id</th>\n",
              "      <th>MSSubClass</th>\n",
              "      <th>MSZoning</th>\n",
              "      <th>LotFrontage</th>\n",
              "      <th>LotArea</th>\n",
              "      <th>...</th>\n",
              "      <th>PoolArea</th>\n",
              "      <th>PoolQC</th>\n",
              "      <th>Fence</th>\n",
              "      <th>MiscFeature</th>\n",
              "      <th>MiscVal</th>\n",
              "      <th>MoSold</th>\n",
              "      <th>YrSold</th>\n",
              "      <th>SaleType</th>\n",
              "      <th>SaleCondition</th>\n",
              "      <th>SalePrice</th>\n",
              "    </tr>\n",
              "  </thead>\n",
              "  <tbody>\n",
              "    <tr>\n",
              "      <th>0</th>\n",
              "      <td>1</td>\n",
              "      <td>0</td>\n",
              "      <td>0</td>\n",
              "      <td>0</td>\n",
              "      <td>0</td>\n",
              "      <td>1</td>\n",
              "      <td>60</td>\n",
              "      <td>RL</td>\n",
              "      <td>65.0</td>\n",
              "      <td>8450</td>\n",
              "      <td>...</td>\n",
              "      <td>0</td>\n",
              "      <td>NaN</td>\n",
              "      <td>NaN</td>\n",
              "      <td>NaN</td>\n",
              "      <td>0</td>\n",
              "      <td>2</td>\n",
              "      <td>2008</td>\n",
              "      <td>WD</td>\n",
              "      <td>Normal</td>\n",
              "      <td>208500</td>\n",
              "    </tr>\n",
              "    <tr>\n",
              "      <th>1</th>\n",
              "      <td>1</td>\n",
              "      <td>0</td>\n",
              "      <td>0</td>\n",
              "      <td>0</td>\n",
              "      <td>0</td>\n",
              "      <td>2</td>\n",
              "      <td>20</td>\n",
              "      <td>RL</td>\n",
              "      <td>80.0</td>\n",
              "      <td>9600</td>\n",
              "      <td>...</td>\n",
              "      <td>0</td>\n",
              "      <td>NaN</td>\n",
              "      <td>NaN</td>\n",
              "      <td>NaN</td>\n",
              "      <td>0</td>\n",
              "      <td>5</td>\n",
              "      <td>2007</td>\n",
              "      <td>WD</td>\n",
              "      <td>Normal</td>\n",
              "      <td>181500</td>\n",
              "    </tr>\n",
              "  </tbody>\n",
              "</table>\n",
              "<p>2 rows × 86 columns</p>\n",
              "</div>\n",
              "      <button class=\"colab-df-convert\" onclick=\"convertToInteractive('df-292fa505-7417-436a-b401-f7a386cf88af')\"\n",
              "              title=\"Convert this dataframe to an interactive table.\"\n",
              "              style=\"display:none;\">\n",
              "        \n",
              "  <svg xmlns=\"http://www.w3.org/2000/svg\" height=\"24px\"viewBox=\"0 0 24 24\"\n",
              "       width=\"24px\">\n",
              "    <path d=\"M0 0h24v24H0V0z\" fill=\"none\"/>\n",
              "    <path d=\"M18.56 5.44l.94 2.06.94-2.06 2.06-.94-2.06-.94-.94-2.06-.94 2.06-2.06.94zm-11 1L8.5 8.5l.94-2.06 2.06-.94-2.06-.94L8.5 2.5l-.94 2.06-2.06.94zm10 10l.94 2.06.94-2.06 2.06-.94-2.06-.94-.94-2.06-.94 2.06-2.06.94z\"/><path d=\"M17.41 7.96l-1.37-1.37c-.4-.4-.92-.59-1.43-.59-.52 0-1.04.2-1.43.59L10.3 9.45l-7.72 7.72c-.78.78-.78 2.05 0 2.83L4 21.41c.39.39.9.59 1.41.59.51 0 1.02-.2 1.41-.59l7.78-7.78 2.81-2.81c.8-.78.8-2.07 0-2.86zM5.41 20L4 18.59l7.72-7.72 1.47 1.35L5.41 20z\"/>\n",
              "  </svg>\n",
              "      </button>\n",
              "      \n",
              "  <style>\n",
              "    .colab-df-container {\n",
              "      display:flex;\n",
              "      flex-wrap:wrap;\n",
              "      gap: 12px;\n",
              "    }\n",
              "\n",
              "    .colab-df-convert {\n",
              "      background-color: #E8F0FE;\n",
              "      border: none;\n",
              "      border-radius: 50%;\n",
              "      cursor: pointer;\n",
              "      display: none;\n",
              "      fill: #1967D2;\n",
              "      height: 32px;\n",
              "      padding: 0 0 0 0;\n",
              "      width: 32px;\n",
              "    }\n",
              "\n",
              "    .colab-df-convert:hover {\n",
              "      background-color: #E2EBFA;\n",
              "      box-shadow: 0px 1px 2px rgba(60, 64, 67, 0.3), 0px 1px 3px 1px rgba(60, 64, 67, 0.15);\n",
              "      fill: #174EA6;\n",
              "    }\n",
              "\n",
              "    [theme=dark] .colab-df-convert {\n",
              "      background-color: #3B4455;\n",
              "      fill: #D2E3FC;\n",
              "    }\n",
              "\n",
              "    [theme=dark] .colab-df-convert:hover {\n",
              "      background-color: #434B5C;\n",
              "      box-shadow: 0px 1px 3px 1px rgba(0, 0, 0, 0.15);\n",
              "      filter: drop-shadow(0px 1px 2px rgba(0, 0, 0, 0.3));\n",
              "      fill: #FFFFFF;\n",
              "    }\n",
              "  </style>\n",
              "\n",
              "      <script>\n",
              "        const buttonEl =\n",
              "          document.querySelector('#df-292fa505-7417-436a-b401-f7a386cf88af button.colab-df-convert');\n",
              "        buttonEl.style.display =\n",
              "          google.colab.kernel.accessAllowed ? 'block' : 'none';\n",
              "\n",
              "        async function convertToInteractive(key) {\n",
              "          const element = document.querySelector('#df-292fa505-7417-436a-b401-f7a386cf88af');\n",
              "          const dataTable =\n",
              "            await google.colab.kernel.invokeFunction('convertToInteractive',\n",
              "                                                     [key], {});\n",
              "          if (!dataTable) return;\n",
              "\n",
              "          const docLinkHtml = 'Like what you see? Visit the ' +\n",
              "            '<a target=\"_blank\" href=https://colab.research.google.com/notebooks/data_table.ipynb>data table notebook</a>'\n",
              "            + ' to learn more about interactive tables.';\n",
              "          element.innerHTML = '';\n",
              "          dataTable['output_type'] = 'display_data';\n",
              "          await google.colab.output.renderOutput(dataTable, element);\n",
              "          const docLink = document.createElement('div');\n",
              "          docLink.innerHTML = docLinkHtml;\n",
              "          element.appendChild(docLink);\n",
              "        }\n",
              "      </script>\n",
              "    </div>\n",
              "  </div>\n",
              "  "
            ]
          },
          "metadata": {},
          "execution_count": 26
        }
      ]
    },
    {
      "cell_type": "code",
      "source": [],
      "metadata": {
        "id": "ub6iwdnJawLV"
      },
      "execution_count": null,
      "outputs": []
    },
    {
      "cell_type": "markdown",
      "source": [
        "# Modeling with dummies\n",
        "\n",
        "We can now include these dummies in our model but we have to watch out not to violate one of the most imporant conditions of our Regression model, which can be stated in the following non-technical terms:\n",
        "\n",
        "The information of any given column must contain unique information.  If we include all dummy variables then we violate this condition.  How?\n",
        "\n",
        "Consider a simple dummy variable, \"Gender\" which takes on two values for this discussion sake, \"Male\" and \"Female\".  If we make a dummy variable for Male and Female then notice that \n",
        "\n",
        "Male = 1 - Female\n",
        "\n",
        "In other words, if you give me either column then I can tell you what the value of the second column is without even looking at it.  Full information on Gender is contained in a single column so adding a second column gives no new information. \n",
        "\n",
        "The technical jargon is that (𝐗ᵀ𝐗)^-1 is full rank, meaning that no column is a linear combination of other columns.  \n",
        "\n",
        "**bottom line** You always have to exclude one category when adding dummy variables to your model and the dummy that you exclude should not be sparce (having only a few values of 1)\n",
        "\n",
        "If you violate this then be prepared for wild results. "
      ],
      "metadata": {
        "id": "TmgwTvE7bNU4"
      }
    },
    {
      "cell_type": "code",
      "source": [
        "pd.get_dummies(df_house['BldgType']).value_counts()"
      ],
      "metadata": {
        "id": "iw-71xzGnw25",
        "outputId": "334947f0-e3fe-44f3-c6f3-7cc457183f28",
        "colab": {
          "base_uri": "https://localhost:8080/"
        }
      },
      "execution_count": 41,
      "outputs": [
        {
          "output_type": "execute_result",
          "data": {
            "text/plain": [
              "1Fam  2fmCon  Duplex  Twnhs  TwnhsE\n",
              "1     0       0       0      0         1220\n",
              "0     0       0       0      1          114\n",
              "              1       0      0           52\n",
              "              0       1      0           43\n",
              "      1       0       0      0           31\n",
              "dtype: int64"
            ]
          },
          "metadata": {},
          "execution_count": 41
        }
      ]
    },
    {
      "cell_type": "markdown",
      "source": [
        "It seems that there are sufficient numbers in all categories, but barely so, since 2fmCon only has 31 observations.  We can increase the variability by grouping all categories, other than 1Fam, together into a single group.  \n",
        "\n",
        "Let's explore the influence on total square feet and price and allow this influence to differ based on building type.  In other words we will create three categories:  1Fam, 2fmCon and Other"
      ],
      "metadata": {
        "id": "7n_ktz-Xn5uB"
      }
    },
    {
      "cell_type": "code",
      "source": [
        "# Feature Engineer Total Square Foot\n",
        "df_house['SF']=df_house['1stFlrSF']+df_house['2ndFlrSF']\n",
        "df_house['constant']=1\n",
        "df_house['SF_1Fam']=df_house['SF']*df_house['1Fam']\n",
        "df_house['SF_2fmCon'] = df_house['SF']*df_house['2fmCon']"
      ],
      "metadata": {
        "id": "a9LzzSY6pG7b"
      },
      "execution_count": 55,
      "outputs": []
    },
    {
      "cell_type": "code",
      "source": [
        "model(X=df_house[['constant','SF','1Fam','2fmCon','SF_1Fam','SF_2fmCon']], Y=df_house['SalePrice'])"
      ],
      "metadata": {
        "id": "mNPaLsevp4oy",
        "outputId": "aa05a9ba-3dc1-4641-838b-7f82f1cd787d",
        "colab": {
          "base_uri": "https://localhost:8080/",
          "height": 1000
        }
      },
      "execution_count": 56,
      "outputs": [
        {
          "output_type": "stream",
          "name": "stdout",
          "text": [
            "mse = 2906988307.5587487\n"
          ]
        },
        {
          "output_type": "stream",
          "name": "stderr",
          "text": [
            "/usr/local/lib/python3.7/dist-packages/seaborn/distributions.py:2619: FutureWarning: `distplot` is a deprecated function and will be removed in a future version. Please adapt your code to use either `displot` (a figure-level function with similar flexibility) or `kdeplot` (an axes-level function for kernel density plots).\n",
            "  warnings.warn(msg, FutureWarning)\n",
            "/usr/local/lib/python3.7/dist-packages/seaborn/distributions.py:2619: FutureWarning: `distplot` is a deprecated function and will be removed in a future version. Please adapt your code to use either `displot` (a figure-level function with similar flexibility) or `kdeplot` (an axes-level function for kernel density plots).\n",
            "  warnings.warn(msg, FutureWarning)\n"
          ]
        },
        {
          "output_type": "display_data",
          "data": {
            "text/plain": [
              "<Figure size 432x288 with 1 Axes>"
            ],
            "image/png": "[encoded data removed]"
          },
          "metadata": {
            "needs_background": "light"
          }
        },
        {
          "output_type": "stream",
          "name": "stdout",
          "text": [
            "   constant    SF  1Fam  2fmCon  SF_1Fam  SF_2fmCon\n",
            "0         1  1710     1       0     1710          0\n",
            "1         1  1262     1       0     1262          0\n",
            "2         1  1786     1       0     1786          0\n",
            "3         1  1717     1       0     1717          0\n",
            "4         1  2198     1       0     2198          0\n",
            "                            OLS Regression Results                            \n",
            "==============================================================================\n",
            "Dep. Variable:              SalePrice   R-squared:                       0.539\n",
            "Model:                            OLS   Adj. R-squared:                  0.537\n",
            "Method:                 Least Squares   F-statistic:                     340.1\n",
            "Date:                Tue, 22 Nov 2022   Prob (F-statistic):          1.70e-241\n",
            "Time:                        14:09:05   Log-Likelihood:                -17979.\n",
            "No. Observations:                1460   AIC:                         3.597e+04\n",
            "Df Residuals:                    1454   BIC:                         3.600e+04\n",
            "Df Model:                           5                                         \n",
            "Covariance Type:            nonrobust                                         \n",
            "==============================================================================\n",
            "                 coef    std err          t      P>|t|      [0.025      0.975]\n",
            "------------------------------------------------------------------------------\n",
            "constant    7.623e+04   1.46e+04      5.223      0.000    4.76e+04    1.05e+05\n",
            "SF            61.5896     10.320      5.968      0.000      41.346      81.833\n",
            "1Fam       -6.591e+04   1.53e+04     -4.302      0.000    -9.6e+04   -3.59e+04\n",
            "2fmCon      3403.4017    3.3e+04      0.103      0.918   -6.13e+04    6.81e+04\n",
            "SF_1Fam       52.8324     10.711      4.933      0.000      31.822      73.842\n",
            "SF_2fmCon    -29.8472     20.912     -1.427      0.154     -70.869      11.174\n",
            "==============================================================================\n",
            "Omnibus:                      283.458   Durbin-Watson:                   2.017\n",
            "Prob(Omnibus):                  0.000   Jarque-Bera (JB):             5543.483\n",
            "Skew:                           0.325   Prob(JB):                         0.00\n",
            "Kurtosis:                      12.524   Cond. No.                     5.27e+04\n",
            "==============================================================================\n",
            "\n",
            "Notes:\n",
            "[1] Standard Errors assume that the covariance matrix of the errors is correctly specified.\n",
            "[2] The condition number is large, 5.27e+04. This might indicate that there are\n",
            "strong multicollinearity or other numerical problems.\n"
          ]
        }
      ]
    },
    {
      "cell_type": "code",
      "source": [
        "model2 = smf.ols(formula='SalePrice ~ SF', data=df_house).fit()\n",
        "print(model2.summary())"
      ],
      "metadata": {
        "id": "_r-b7kadns9N",
        "outputId": "327d1ff7-5af6-4a0b-d58c-dfd62146d8af",
        "colab": {
          "base_uri": "https://localhost:8080/"
        }
      },
      "execution_count": 49,
      "outputs": [
        {
          "output_type": "stream",
          "name": "stdout",
          "text": [
            "                            OLS Regression Results                            \n",
            "==============================================================================\n",
            "Dep. Variable:              SalePrice   R-squared:                       0.514\n",
            "Model:                            OLS   Adj. R-squared:                  0.514\n",
            "Method:                 Least Squares   F-statistic:                     1542.\n",
            "Date:                Tue, 22 Nov 2022   Prob (F-statistic):          1.18e-230\n",
            "Time:                        14:04:20   Log-Likelihood:                -18017.\n",
            "No. Observations:                1460   AIC:                         3.604e+04\n",
            "Df Residuals:                    1458   BIC:                         3.605e+04\n",
            "Df Model:                           1                                         \n",
            "Covariance Type:            nonrobust                                         \n",
            "==============================================================================\n",
            "                 coef    std err          t      P>|t|      [0.025      0.975]\n",
            "------------------------------------------------------------------------------\n",
            "Intercept   1.596e+04   4444.833      3.590      0.000    7236.170    2.47e+04\n",
            "SF           109.2766      2.783     39.262      0.000     103.817     114.736\n",
            "==============================================================================\n",
            "Omnibus:                      266.260   Durbin-Watson:                   2.031\n",
            "Prob(Omnibus):                  0.000   Jarque-Bera (JB):             3865.861\n",
            "Skew:                           0.388   Prob(JB):                         0.00\n",
            "Kurtosis:                      10.934   Cond. No.                     4.90e+03\n",
            "==============================================================================\n",
            "\n",
            "Notes:\n",
            "[1] Standard Errors assume that the covariance matrix of the errors is correctly specified.\n",
            "[2] The condition number is large, 4.9e+03. This might indicate that there are\n",
            "strong multicollinearity or other numerical problems.\n"
          ]
        }
      ]
    }
  ]
}