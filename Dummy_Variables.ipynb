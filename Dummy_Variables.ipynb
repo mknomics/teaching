{
  "nbformat": 4,
  "nbformat_minor": 0,
  "metadata": {
    "colab": {
      "name": "Untitled17.ipynb",
      "provenance": [],
      "toc_visible": true,
      "authorship_tag": "ABX9TyNPh8fRpj7CvTzVTOTVDMGs",
      "include_colab_link": true
    },
    "kernelspec": {
      "name": "python3",
      "display_name": "Python 3"
    },
    "language_info": {
      "name": "python"
    }
  },
  "cells": [
    {
      "cell_type": "markdown",
      "metadata": {
        "id": "view-in-github",
        "colab_type": "text"
      },
      "source": [
        "<a href=\"https://colab.research.google.com/github/mknomics/teaching/blob/main/Dummy_Variables.ipynb\" target=\"_parent\"><img src=\"https://colab.research.google.com/assets/colab-badge.svg\" alt=\"Open In Colab\"/></a>"
      ]
    },
    {
      "cell_type": "code",
      "execution_count": 1,
      "metadata": {
        "id": "z5RkequITDSd"
      },
      "outputs": [],
      "source": [
        "import pandas as pd\n",
        "import numpy as np\n",
        "\n",
        "import matplotlib.pyplot as plt\n",
        "%matplotlib inline\n",
        "\n",
        "from sklearn.linear_model import LinearRegression\n",
        "from sklearn.metrics import mean_squared_error\n",
        "from sklearn import metrics\n",
        "from sklearn.model_selection import train_test_split\n",
        "from sklearn.preprocessing import PolynomialFeatures\n",
        "from sklearn.pipeline import Pipeline\n",
        "from sklearn.preprocessing import StandardScaler\n",
        "\n",
        "import statsmodels.api as sm\n",
        "import statsmodels.formula.api as smf\n",
        "import seaborn as sns\n",
        "%matplotlib inline "
      ]
    },
    {
      "cell_type": "code",
      "source": [
        "def model(X=True, Y=True):\n",
        "  reg_model = sm.GLS(Y, X).fit()\n",
        "  #X = sm.add_constant(X,  has_constant='add')  This method did not work for me\n",
        "  #predictions = reg_model.predict(X) This method can make predictions but we don't need them in this example\n",
        "  print(reg_model.summary())\n",
        "  return"
      ],
      "metadata": {
        "id": "BXEUXSFLvunP"
      },
      "execution_count": 23,
      "outputs": []
    },
    {
      "cell_type": "markdown",
      "source": [
        "## Load Data into Colab"
      ],
      "metadata": {
        "id": "qp3i_SCPwE6A"
      }
    },
    {
      "cell_type": "code",
      "source": [
        "house_data_path='https://raw.githubusercontent.com/data-doctors/kaggle-house-prices-advanced-regression-techniques/master/data/train.csv'\n",
        "df_house=pd.read_csv(house_data_path) # invoke Pandas and use read_csv() method passing in the parameter of the csv location, in this case a url address\n",
        "df_house.head(1) # Visually Inspect that it loaded correctly\n",
        "#df_house.info() # info() is prefered to .dtypes method because info() gives null counts and dtypes and does not cut the output shortd"
      ],
      "metadata": {
        "colab": {
          "base_uri": "https://localhost:8080/",
          "height": 174
        },
        "id": "1cQYdYSMWmlL",
        "outputId": "e42554dd-b67c-47f5-8524-a92d9768adee"
      },
      "execution_count": 3,
      "outputs": [
        {
          "output_type": "execute_result",
          "data": {
            "text/plain": [
              "   Id  MSSubClass MSZoning  LotFrontage  LotArea Street Alley LotShape  \\\n",
              "0   1          60       RL         65.0     8450   Pave   NaN      Reg   \n",
              "\n",
              "  LandContour Utilities  ... PoolArea PoolQC Fence MiscFeature MiscVal MoSold  \\\n",
              "0         Lvl    AllPub  ...        0    NaN   NaN         NaN       0      2   \n",
              "\n",
              "  YrSold  SaleType  SaleCondition  SalePrice  \n",
              "0   2008        WD         Normal     208500  \n",
              "\n",
              "[1 rows x 81 columns]"
            ],
            "text/html": [
              "\n",
              "  <div id=\"df-7c89e52e-8c92-494b-8a67-b43aa4195b28\">\n",
              "    <div class=\"colab-df-container\">\n",
              "      <div>\n",
              "<style scoped>\n",
              "    .dataframe tbody tr th:only-of-type {\n",
              "        vertical-align: middle;\n",
              "    }\n",
              "\n",
              "    .dataframe tbody tr th {\n",
              "        vertical-align: top;\n",
              "    }\n",
              "\n",
              "    .dataframe thead th {\n",
              "        text-align: right;\n",
              "    }\n",
              "</style>\n",
              "<table border=\"1\" class=\"dataframe\">\n",
              "  <thead>\n",
              "    <tr style=\"text-align: right;\">\n",
              "      <th></th>\n",
              "      <th>Id</th>\n",
              "      <th>MSSubClass</th>\n",
              "      <th>MSZoning</th>\n",
              "      <th>LotFrontage</th>\n",
              "      <th>LotArea</th>\n",
              "      <th>Street</th>\n",
              "      <th>Alley</th>\n",
              "      <th>LotShape</th>\n",
              "      <th>LandContour</th>\n",
              "      <th>Utilities</th>\n",
              "      <th>...</th>\n",
              "      <th>PoolArea</th>\n",
              "      <th>PoolQC</th>\n",
              "      <th>Fence</th>\n",
              "      <th>MiscFeature</th>\n",
              "      <th>MiscVal</th>\n",
              "      <th>MoSold</th>\n",
              "      <th>YrSold</th>\n",
              "      <th>SaleType</th>\n",
              "      <th>SaleCondition</th>\n",
              "      <th>SalePrice</th>\n",
              "    </tr>\n",
              "  </thead>\n",
              "  <tbody>\n",
              "    <tr>\n",
              "      <th>0</th>\n",
              "      <td>1</td>\n",
              "      <td>60</td>\n",
              "      <td>RL</td>\n",
              "      <td>65.0</td>\n",
              "      <td>8450</td>\n",
              "      <td>Pave</td>\n",
              "      <td>NaN</td>\n",
              "      <td>Reg</td>\n",
              "      <td>Lvl</td>\n",
              "      <td>AllPub</td>\n",
              "      <td>...</td>\n",
              "      <td>0</td>\n",
              "      <td>NaN</td>\n",
              "      <td>NaN</td>\n",
              "      <td>NaN</td>\n",
              "      <td>0</td>\n",
              "      <td>2</td>\n",
              "      <td>2008</td>\n",
              "      <td>WD</td>\n",
              "      <td>Normal</td>\n",
              "      <td>208500</td>\n",
              "    </tr>\n",
              "  </tbody>\n",
              "</table>\n",
              "<p>1 rows × 81 columns</p>\n",
              "</div>\n",
              "      <button class=\"colab-df-convert\" onclick=\"convertToInteractive('df-7c89e52e-8c92-494b-8a67-b43aa4195b28')\"\n",
              "              title=\"Convert this dataframe to an interactive table.\"\n",
              "              style=\"display:none;\">\n",
              "        \n",
              "  <svg xmlns=\"http://www.w3.org/2000/svg\" height=\"24px\"viewBox=\"0 0 24 24\"\n",
              "       width=\"24px\">\n",
              "    <path d=\"M0 0h24v24H0V0z\" fill=\"none\"/>\n",
              "    <path d=\"M18.56 5.44l.94 2.06.94-2.06 2.06-.94-2.06-.94-.94-2.06-.94 2.06-2.06.94zm-11 1L8.5 8.5l.94-2.06 2.06-.94-2.06-.94L8.5 2.5l-.94 2.06-2.06.94zm10 10l.94 2.06.94-2.06 2.06-.94-2.06-.94-.94-2.06-.94 2.06-2.06.94z\"/><path d=\"M17.41 7.96l-1.37-1.37c-.4-.4-.92-.59-1.43-.59-.52 0-1.04.2-1.43.59L10.3 9.45l-7.72 7.72c-.78.78-.78 2.05 0 2.83L4 21.41c.39.39.9.59 1.41.59.51 0 1.02-.2 1.41-.59l7.78-7.78 2.81-2.81c.8-.78.8-2.07 0-2.86zM5.41 20L4 18.59l7.72-7.72 1.47 1.35L5.41 20z\"/>\n",
              "  </svg>\n",
              "      </button>\n",
              "      \n",
              "  <style>\n",
              "    .colab-df-container {\n",
              "      display:flex;\n",
              "      flex-wrap:wrap;\n",
              "      gap: 12px;\n",
              "    }\n",
              "\n",
              "    .colab-df-convert {\n",
              "      background-color: #E8F0FE;\n",
              "      border: none;\n",
              "      border-radius: 50%;\n",
              "      cursor: pointer;\n",
              "      display: none;\n",
              "      fill: #1967D2;\n",
              "      height: 32px;\n",
              "      padding: 0 0 0 0;\n",
              "      width: 32px;\n",
              "    }\n",
              "\n",
              "    .colab-df-convert:hover {\n",
              "      background-color: #E2EBFA;\n",
              "      box-shadow: 0px 1px 2px rgba(60, 64, 67, 0.3), 0px 1px 3px 1px rgba(60, 64, 67, 0.15);\n",
              "      fill: #174EA6;\n",
              "    }\n",
              "\n",
              "    [theme=dark] .colab-df-convert {\n",
              "      background-color: #3B4455;\n",
              "      fill: #D2E3FC;\n",
              "    }\n",
              "\n",
              "    [theme=dark] .colab-df-convert:hover {\n",
              "      background-color: #434B5C;\n",
              "      box-shadow: 0px 1px 3px 1px rgba(0, 0, 0, 0.15);\n",
              "      filter: drop-shadow(0px 1px 2px rgba(0, 0, 0, 0.3));\n",
              "      fill: #FFFFFF;\n",
              "    }\n",
              "  </style>\n",
              "\n",
              "      <script>\n",
              "        const buttonEl =\n",
              "          document.querySelector('#df-7c89e52e-8c92-494b-8a67-b43aa4195b28 button.colab-df-convert');\n",
              "        buttonEl.style.display =\n",
              "          google.colab.kernel.accessAllowed ? 'block' : 'none';\n",
              "\n",
              "        async function convertToInteractive(key) {\n",
              "          const element = document.querySelector('#df-7c89e52e-8c92-494b-8a67-b43aa4195b28');\n",
              "          const dataTable =\n",
              "            await google.colab.kernel.invokeFunction('convertToInteractive',\n",
              "                                                     [key], {});\n",
              "          if (!dataTable) return;\n",
              "\n",
              "          const docLinkHtml = 'Like what you see? Visit the ' +\n",
              "            '<a target=\"_blank\" href=https://colab.research.google.com/notebooks/data_table.ipynb>data table notebook</a>'\n",
              "            + ' to learn more about interactive tables.';\n",
              "          element.innerHTML = '';\n",
              "          dataTable['output_type'] = 'display_data';\n",
              "          await google.colab.output.renderOutput(dataTable, element);\n",
              "          const docLink = document.createElement('div');\n",
              "          docLink.innerHTML = docLinkHtml;\n",
              "          element.appendChild(docLink);\n",
              "        }\n",
              "      </script>\n",
              "    </div>\n",
              "  </div>\n",
              "  "
            ]
          },
          "metadata": {},
          "execution_count": 3
        }
      ]
    },
    {
      "cell_type": "markdown",
      "source": [
        "# Research Question\n",
        "We are interested in exploring the determinants of house prices.  This dataset has a rich number of features to explore and we will only scratch the surface here.  This process is fundamentally different than the Predictive Analytics that we have done to date.  In Predictive Analytics, we are interested in making accurate predictions period.  Now we turn our attention away from the target variable $Y$ and focus on the coefficients $\\beta$.  \n",
        "\n",
        "We will only address two of the many dimensions in this data set:\n",
        "\n",
        "\n",
        "1.   Square Footage\n",
        "2.   Building Type\n",
        "\n",
        "There are many \"rocks left unturned\" in this exercise.  But by the end of the exercise, you should be able to\n",
        "\n",
        "\n",
        "1.   Create Dummy Variables and use them in a regression model\n",
        "2.   Interpret the coefficients of dummy variables and the coefficients on dummy variables interacted with other independent variables $X$.  \n",
        "3.   Understand how to use information to \"question\" the dataset, like a detective questions a suspect; building evidence that convinces you.  \n",
        "4.   Tell a story using data:  You must convince yourself what is going on before you can convince others. \n",
        "\n",
        "\n",
        "\n"
      ],
      "metadata": {
        "id": "S1wn18M-mmt5"
      }
    },
    {
      "cell_type": "markdown",
      "source": [
        "## Preliminary Exploration\n",
        "\n",
        "A first best step is always to scatter the data.  I purposefully chose one independent $X$ variable that is continuous (Square Foot) and another that is categorical (Building Type).  So let's start by scattering the continuous independent variable against the dependant variable $Y$, being SalePrice. "
      ],
      "metadata": {
        "id": "LPpP65dQ6lvV"
      }
    },
    {
      "cell_type": "code",
      "source": [
        "# Feature Engineer Total Square Foot\n",
        "df_house['SF']=df_house['1stFlrSF']+df_house['2ndFlrSF'] \n",
        "df_house['constant']=1 # add a constant for later use in the regressions\n",
        "sns.set_style('whitegrid')\n",
        "sns.lmplot(x ='SF', y ='SalePrice', data = df_house)"
      ],
      "metadata": {
        "id": "TIbxFQAg7RFf",
        "outputId": "41bb0bd7-8624-45d7-d8a3-056bd3b2a36e",
        "colab": {
          "base_uri": "https://localhost:8080/",
          "height": 386
        }
      },
      "execution_count": 22,
      "outputs": [
        {
          "output_type": "execute_result",
          "data": {
            "text/plain": [
              "<seaborn.axisgrid.FacetGrid at 0x7f7f403ebe50>"
            ]
          },
          "metadata": {},
          "execution_count": 22
        },
        {
          "output_type": "display_data",
          "data": {
            "text/plain": [
              "<Figure size 360x360 with 1 Axes>"
            ],
            "image/png": "[encoded data removed]"
          },
          "metadata": {}
        }
      ]
    },
    {
      "cell_type": "markdown",
      "source": [
        "## Interpretation\n",
        "We clearly see a positive correlation between Total Square Footage and Sale Price in the scatter plot above.  \n"
      ],
      "metadata": {
        "id": "MKXKWgnO7hOq"
      }
    },
    {
      "cell_type": "markdown",
      "source": [
        "## Notice Any Data Abnomalities and Patterns\n",
        "\n",
        "**Observation 1** There are a couple of outliers that have significant leverage in the data set.  Notice the two points in the bottom right quadrant.  Understand their effect using the following analogy:  Think of the regression line as if it were a teeter-totter or seesaw that is sitting on the mean of $X$, or Square Foot in our case.  Points that have a high error or distance from $\\hat{Y}$, aka are far from the regression line, are like big kids sitting on the seesaw.  Points that are farther from the mean (center mass) of Square Foot are like kids sitting on the end of the seesaw, while points closer to the mean are like kids sitting near the middle of the seesaw.  \n",
        "\n",
        "In our case, we have two very big kids sitting on the end of our seesaw, which has the effect of pulling the regression line downward, thus reducing the slope of the regression line.  \n",
        "\n",
        "We will not address this here in this exercise but this point is just to bring awareness to a potential data issue and also bring awareness to the usefullness of scattering your data!!!\n",
        "\n",
        "**Observation 2** The scatter also takes on a familiar cone shape.  Notice that the data \"fans\" outward towards the Northeast quadrant almost like a triangle.  This is a sign of what is technically called \"heteroskedasticity\", which is a fancy way of saying that the errors of a linear regression model are a function of $X$.  You can clearly see that the errors, $\\epsilon_i = \\hat{Y_i}-Y_i$ get larger as $X$ increases.  Look at $\\hat{Y}$ in the graph, which is the regression line and notice that the distance between the the line and the scatter points is larger for larger values of $X$.  In this case Genaralized Least Squares (GLS) is preferred to Ordinary Least Squares (OLS). \n",
        "\n",
        "GLS is a more robust methodology than OLS for this reason. "
      ],
      "metadata": {
        "id": "SrfaRyS3_Y4E"
      }
    },
    {
      "cell_type": "markdown",
      "source": [
        "## Questioning the Data \n",
        "\n",
        "How might this relationship between Price and Square Footage change for different types of buildings?  \n",
        "\n",
        "Let's scatter Square Foot and Sale Price but this time let us assign a different color to each type and also fit a separate regression line for each type."
      ],
      "metadata": {
        "id": "Ull2OHvW9rZn"
      }
    },
    {
      "cell_type": "code",
      "source": [
        "sns.set_style('whitegrid')\n",
        "sns.lmplot(x ='SF', y ='SalePrice', data = df_house, \n",
        "           hue ='BldgType')"
      ],
      "metadata": {
        "id": "iyB2Y1Jq37G9",
        "outputId": "d626b5ab-a299-4ae5-f9df-6bc6e3d3e06b",
        "colab": {
          "base_uri": "https://localhost:8080/",
          "height": 386
        }
      },
      "execution_count": 21,
      "outputs": [
        {
          "output_type": "execute_result",
          "data": {
            "text/plain": [
              "<seaborn.axisgrid.FacetGrid at 0x7f7f403eb610>"
            ]
          },
          "metadata": {},
          "execution_count": 21
        },
        {
          "output_type": "display_data",
          "data": {
            "text/plain": [
              "<Figure size 434.875x360 with 1 Axes>"
            ],
            "image/png": "[encoded data removed]"
          },
          "metadata": {}
        }
      ]
    },
    {
      "cell_type": "markdown",
      "source": [
        "### Interpretation\n",
        "We can clearly see that the correlation between Square Foot and SalePrice appears to differ by building type.  The regression lines seem to have different slopes.  Notably 2fmCon is much flatter while TwnhsE is steeper than 1Fam.  "
      ],
      "metadata": {
        "id": "AwEJc_8b-feU"
      }
    },
    {
      "cell_type": "markdown",
      "source": [
        "# Mechanics of Creating Dummy Variables\n",
        "Transform Categorical variables into \"Dummy Variables\".  Dummy Variables only take the value zero or one.  Lets consider the variable \"BldgType\" as an example.\n",
        "\n",
        "Note the \"BldgType\" is an object datatype.  You can see this by typing:\n",
        "\n",
        "```\n",
        "df_house['BldgType'].dtype\n",
        "```\n",
        "This returns \"O\" for object, which we can easily see is a string that represents the type of building.  \n",
        "\n",
        "How many categories does BldgType have?\n",
        "\n",
        "Find this by typing:\n",
        "\n",
        "\n",
        "```\n",
        "df_house['BldgType'].unique()\n",
        "```\n",
        "\n",
        "Which returns: ['1Fam', '2fmCon', 'Duplex', 'TwnhsE', 'Twnhs']\n",
        "\n",
        "BldgType has 5 categories and we create 5 new columns of data, with the string category as the column name.  The values of each column will be 1 if that row is equal to the column name and zero otherwise.  \n",
        "\n",
        "For example:  Suppose the first 5 rows of df_house['BldgType'] were:\n",
        "\n",
        "'1Fam'\n",
        "\n",
        "'1Fam'\n",
        "\n",
        "'Duplex'\n",
        "\n",
        "'TwnhsE'\n",
        "\n",
        "'1Fam'\n",
        "\n",
        "\n",
        "The Dummy variables would be: \n",
        "\n",
        "'1Fam', '2fmCon', 'Duplex', 'TwnhsE', 'Twnhs'\n",
        "\n",
        "1       0          0         0         0\n",
        "\n",
        "1       0          0         0         0\n",
        "\n",
        "0       0          1         0         0\n",
        "\n",
        "0       0          0         1         0\n",
        "\n",
        "1       0          0         0         0"
      ],
      "metadata": {
        "id": "Jag-XOs7XBdw"
      }
    },
    {
      "cell_type": "markdown",
      "source": [
        "## get_dummies()"
      ],
      "metadata": {
        "id": "PtViFlx4agOJ"
      }
    },
    {
      "cell_type": "code",
      "source": [
        "pd.get_dummies(df_house['BldgType'])"
      ],
      "metadata": {
        "id": "4ws6BHpCV1XG",
        "outputId": "ce66f843-bd78-48b8-a1e1-ed9ccd203c70",
        "colab": {
          "base_uri": "https://localhost:8080/",
          "height": 424
        }
      },
      "execution_count": 4,
      "outputs": [
        {
          "output_type": "execute_result",
          "data": {
            "text/plain": [
              "      1Fam  2fmCon  Duplex  Twnhs  TwnhsE\n",
              "0        1       0       0      0       0\n",
              "1        1       0       0      0       0\n",
              "2        1       0       0      0       0\n",
              "3        1       0       0      0       0\n",
              "4        1       0       0      0       0\n",
              "...    ...     ...     ...    ...     ...\n",
              "1455     1       0       0      0       0\n",
              "1456     1       0       0      0       0\n",
              "1457     1       0       0      0       0\n",
              "1458     1       0       0      0       0\n",
              "1459     1       0       0      0       0\n",
              "\n",
              "[1460 rows x 5 columns]"
            ],
            "text/html": [
              "\n",
              "  <div id=\"df-19c38e8d-3b89-4eb8-8889-6e58ac571e82\">\n",
              "    <div class=\"colab-df-container\">\n",
              "      <div>\n",
              "<style scoped>\n",
              "    .dataframe tbody tr th:only-of-type {\n",
              "        vertical-align: middle;\n",
              "    }\n",
              "\n",
              "    .dataframe tbody tr th {\n",
              "        vertical-align: top;\n",
              "    }\n",
              "\n",
              "    .dataframe thead th {\n",
              "        text-align: right;\n",
              "    }\n",
              "</style>\n",
              "<table border=\"1\" class=\"dataframe\">\n",
              "  <thead>\n",
              "    <tr style=\"text-align: right;\">\n",
              "      <th></th>\n",
              "      <th>1Fam</th>\n",
              "      <th>2fmCon</th>\n",
              "      <th>Duplex</th>\n",
              "      <th>Twnhs</th>\n",
              "      <th>TwnhsE</th>\n",
              "    </tr>\n",
              "  </thead>\n",
              "  <tbody>\n",
              "    <tr>\n",
              "      <th>0</th>\n",
              "      <td>1</td>\n",
              "      <td>0</td>\n",
              "      <td>0</td>\n",
              "      <td>0</td>\n",
              "      <td>0</td>\n",
              "    </tr>\n",
              "    <tr>\n",
              "      <th>1</th>\n",
              "      <td>1</td>\n",
              "      <td>0</td>\n",
              "      <td>0</td>\n",
              "      <td>0</td>\n",
              "      <td>0</td>\n",
              "    </tr>\n",
              "    <tr>\n",
              "      <th>2</th>\n",
              "      <td>1</td>\n",
              "      <td>0</td>\n",
              "      <td>0</td>\n",
              "      <td>0</td>\n",
              "      <td>0</td>\n",
              "    </tr>\n",
              "    <tr>\n",
              "      <th>3</th>\n",
              "      <td>1</td>\n",
              "      <td>0</td>\n",
              "      <td>0</td>\n",
              "      <td>0</td>\n",
              "      <td>0</td>\n",
              "    </tr>\n",
              "    <tr>\n",
              "      <th>4</th>\n",
              "      <td>1</td>\n",
              "      <td>0</td>\n",
              "      <td>0</td>\n",
              "      <td>0</td>\n",
              "      <td>0</td>\n",
              "    </tr>\n",
              "    <tr>\n",
              "      <th>...</th>\n",
              "      <td>...</td>\n",
              "      <td>...</td>\n",
              "      <td>...</td>\n",
              "      <td>...</td>\n",
              "      <td>...</td>\n",
              "    </tr>\n",
              "    <tr>\n",
              "      <th>1455</th>\n",
              "      <td>1</td>\n",
              "      <td>0</td>\n",
              "      <td>0</td>\n",
              "      <td>0</td>\n",
              "      <td>0</td>\n",
              "    </tr>\n",
              "    <tr>\n",
              "      <th>1456</th>\n",
              "      <td>1</td>\n",
              "      <td>0</td>\n",
              "      <td>0</td>\n",
              "      <td>0</td>\n",
              "      <td>0</td>\n",
              "    </tr>\n",
              "    <tr>\n",
              "      <th>1457</th>\n",
              "      <td>1</td>\n",
              "      <td>0</td>\n",
              "      <td>0</td>\n",
              "      <td>0</td>\n",
              "      <td>0</td>\n",
              "    </tr>\n",
              "    <tr>\n",
              "      <th>1458</th>\n",
              "      <td>1</td>\n",
              "      <td>0</td>\n",
              "      <td>0</td>\n",
              "      <td>0</td>\n",
              "      <td>0</td>\n",
              "    </tr>\n",
              "    <tr>\n",
              "      <th>1459</th>\n",
              "      <td>1</td>\n",
              "      <td>0</td>\n",
              "      <td>0</td>\n",
              "      <td>0</td>\n",
              "      <td>0</td>\n",
              "    </tr>\n",
              "  </tbody>\n",
              "</table>\n",
              "<p>1460 rows × 5 columns</p>\n",
              "</div>\n",
              "      <button class=\"colab-df-convert\" onclick=\"convertToInteractive('df-19c38e8d-3b89-4eb8-8889-6e58ac571e82')\"\n",
              "              title=\"Convert this dataframe to an interactive table.\"\n",
              "              style=\"display:none;\">\n",
              "        \n",
              "  <svg xmlns=\"http://www.w3.org/2000/svg\" height=\"24px\"viewBox=\"0 0 24 24\"\n",
              "       width=\"24px\">\n",
              "    <path d=\"M0 0h24v24H0V0z\" fill=\"none\"/>\n",
              "    <path d=\"M18.56 5.44l.94 2.06.94-2.06 2.06-.94-2.06-.94-.94-2.06-.94 2.06-2.06.94zm-11 1L8.5 8.5l.94-2.06 2.06-.94-2.06-.94L8.5 2.5l-.94 2.06-2.06.94zm10 10l.94 2.06.94-2.06 2.06-.94-2.06-.94-.94-2.06-.94 2.06-2.06.94z\"/><path d=\"M17.41 7.96l-1.37-1.37c-.4-.4-.92-.59-1.43-.59-.52 0-1.04.2-1.43.59L10.3 9.45l-7.72 7.72c-.78.78-.78 2.05 0 2.83L4 21.41c.39.39.9.59 1.41.59.51 0 1.02-.2 1.41-.59l7.78-7.78 2.81-2.81c.8-.78.8-2.07 0-2.86zM5.41 20L4 18.59l7.72-7.72 1.47 1.35L5.41 20z\"/>\n",
              "  </svg>\n",
              "      </button>\n",
              "      \n",
              "  <style>\n",
              "    .colab-df-container {\n",
              "      display:flex;\n",
              "      flex-wrap:wrap;\n",
              "      gap: 12px;\n",
              "    }\n",
              "\n",
              "    .colab-df-convert {\n",
              "      background-color: #E8F0FE;\n",
              "      border: none;\n",
              "      border-radius: 50%;\n",
              "      cursor: pointer;\n",
              "      display: none;\n",
              "      fill: #1967D2;\n",
              "      height: 32px;\n",
              "      padding: 0 0 0 0;\n",
              "      width: 32px;\n",
              "    }\n",
              "\n",
              "    .colab-df-convert:hover {\n",
              "      background-color: #E2EBFA;\n",
              "      box-shadow: 0px 1px 2px rgba(60, 64, 67, 0.3), 0px 1px 3px 1px rgba(60, 64, 67, 0.15);\n",
              "      fill: #174EA6;\n",
              "    }\n",
              "\n",
              "    [theme=dark] .colab-df-convert {\n",
              "      background-color: #3B4455;\n",
              "      fill: #D2E3FC;\n",
              "    }\n",
              "\n",
              "    [theme=dark] .colab-df-convert:hover {\n",
              "      background-color: #434B5C;\n",
              "      box-shadow: 0px 1px 3px 1px rgba(0, 0, 0, 0.15);\n",
              "      filter: drop-shadow(0px 1px 2px rgba(0, 0, 0, 0.3));\n",
              "      fill: #FFFFFF;\n",
              "    }\n",
              "  </style>\n",
              "\n",
              "      <script>\n",
              "        const buttonEl =\n",
              "          document.querySelector('#df-19c38e8d-3b89-4eb8-8889-6e58ac571e82 button.colab-df-convert');\n",
              "        buttonEl.style.display =\n",
              "          google.colab.kernel.accessAllowed ? 'block' : 'none';\n",
              "\n",
              "        async function convertToInteractive(key) {\n",
              "          const element = document.querySelector('#df-19c38e8d-3b89-4eb8-8889-6e58ac571e82');\n",
              "          const dataTable =\n",
              "            await google.colab.kernel.invokeFunction('convertToInteractive',\n",
              "                                                     [key], {});\n",
              "          if (!dataTable) return;\n",
              "\n",
              "          const docLinkHtml = 'Like what you see? Visit the ' +\n",
              "            '<a target=\"_blank\" href=https://colab.research.google.com/notebooks/data_table.ipynb>data table notebook</a>'\n",
              "            + ' to learn more about interactive tables.';\n",
              "          element.innerHTML = '';\n",
              "          dataTable['output_type'] = 'display_data';\n",
              "          await google.colab.output.renderOutput(dataTable, element);\n",
              "          const docLink = document.createElement('div');\n",
              "          docLink.innerHTML = docLinkHtml;\n",
              "          element.appendChild(docLink);\n",
              "        }\n",
              "      </script>\n",
              "    </div>\n",
              "  </div>\n",
              "  "
            ]
          },
          "metadata": {},
          "execution_count": 4
        }
      ]
    },
    {
      "cell_type": "markdown",
      "source": [
        "## join dummies to original df"
      ],
      "metadata": {
        "id": "HDCPOgurakAn"
      }
    },
    {
      "cell_type": "code",
      "source": [
        "df_house=pd.get_dummies(df_house['BldgType']).join(df_house)\n"
      ],
      "metadata": {
        "id": "e4oR2SU1a2YN"
      },
      "execution_count": 5,
      "outputs": []
    },
    {
      "cell_type": "code",
      "source": [
        "df_house.head(2)"
      ],
      "metadata": {
        "id": "T2HiNE0Hap3k",
        "outputId": "544facff-6d84-4fa2-fd1d-d33e5ca3cc7f",
        "colab": {
          "base_uri": "https://localhost:8080/",
          "height": 141
        }
      },
      "execution_count": 6,
      "outputs": [
        {
          "output_type": "execute_result",
          "data": {
            "text/plain": [
              "   1Fam  2fmCon  Duplex  Twnhs  TwnhsE  Id  MSSubClass MSZoning  LotFrontage  \\\n",
              "0     1       0       0      0       0   1          60       RL         65.0   \n",
              "1     1       0       0      0       0   2          20       RL         80.0   \n",
              "\n",
              "   LotArea  ... PoolArea PoolQC Fence MiscFeature MiscVal MoSold YrSold  \\\n",
              "0     8450  ...        0    NaN   NaN         NaN       0      2   2008   \n",
              "1     9600  ...        0    NaN   NaN         NaN       0      5   2007   \n",
              "\n",
              "  SaleType SaleCondition SalePrice  \n",
              "0       WD        Normal    208500  \n",
              "1       WD        Normal    181500  \n",
              "\n",
              "[2 rows x 86 columns]"
            ],
            "text/html": [
              "\n",
              "  <div id=\"df-0943a917-be4a-4d0b-aba1-9ea2f62851bc\">\n",
              "    <div class=\"colab-df-container\">\n",
              "      <div>\n",
              "<style scoped>\n",
              "    .dataframe tbody tr th:only-of-type {\n",
              "        vertical-align: middle;\n",
              "    }\n",
              "\n",
              "    .dataframe tbody tr th {\n",
              "        vertical-align: top;\n",
              "    }\n",
              "\n",
              "    .dataframe thead th {\n",
              "        text-align: right;\n",
              "    }\n",
              "</style>\n",
              "<table border=\"1\" class=\"dataframe\">\n",
              "  <thead>\n",
              "    <tr style=\"text-align: right;\">\n",
              "      <th></th>\n",
              "      <th>1Fam</th>\n",
              "      <th>2fmCon</th>\n",
              "      <th>Duplex</th>\n",
              "      <th>Twnhs</th>\n",
              "      <th>TwnhsE</th>\n",
              "      <th>Id</th>\n",
              "      <th>MSSubClass</th>\n",
              "      <th>MSZoning</th>\n",
              "      <th>LotFrontage</th>\n",
              "      <th>LotArea</th>\n",
              "      <th>...</th>\n",
              "      <th>PoolArea</th>\n",
              "      <th>PoolQC</th>\n",
              "      <th>Fence</th>\n",
              "      <th>MiscFeature</th>\n",
              "      <th>MiscVal</th>\n",
              "      <th>MoSold</th>\n",
              "      <th>YrSold</th>\n",
              "      <th>SaleType</th>\n",
              "      <th>SaleCondition</th>\n",
              "      <th>SalePrice</th>\n",
              "    </tr>\n",
              "  </thead>\n",
              "  <tbody>\n",
              "    <tr>\n",
              "      <th>0</th>\n",
              "      <td>1</td>\n",
              "      <td>0</td>\n",
              "      <td>0</td>\n",
              "      <td>0</td>\n",
              "      <td>0</td>\n",
              "      <td>1</td>\n",
              "      <td>60</td>\n",
              "      <td>RL</td>\n",
              "      <td>65.0</td>\n",
              "      <td>8450</td>\n",
              "      <td>...</td>\n",
              "      <td>0</td>\n",
              "      <td>NaN</td>\n",
              "      <td>NaN</td>\n",
              "      <td>NaN</td>\n",
              "      <td>0</td>\n",
              "      <td>2</td>\n",
              "      <td>2008</td>\n",
              "      <td>WD</td>\n",
              "      <td>Normal</td>\n",
              "      <td>208500</td>\n",
              "    </tr>\n",
              "    <tr>\n",
              "      <th>1</th>\n",
              "      <td>1</td>\n",
              "      <td>0</td>\n",
              "      <td>0</td>\n",
              "      <td>0</td>\n",
              "      <td>0</td>\n",
              "      <td>2</td>\n",
              "      <td>20</td>\n",
              "      <td>RL</td>\n",
              "      <td>80.0</td>\n",
              "      <td>9600</td>\n",
              "      <td>...</td>\n",
              "      <td>0</td>\n",
              "      <td>NaN</td>\n",
              "      <td>NaN</td>\n",
              "      <td>NaN</td>\n",
              "      <td>0</td>\n",
              "      <td>5</td>\n",
              "      <td>2007</td>\n",
              "      <td>WD</td>\n",
              "      <td>Normal</td>\n",
              "      <td>181500</td>\n",
              "    </tr>\n",
              "  </tbody>\n",
              "</table>\n",
              "<p>2 rows × 86 columns</p>\n",
              "</div>\n",
              "      <button class=\"colab-df-convert\" onclick=\"convertToInteractive('df-0943a917-be4a-4d0b-aba1-9ea2f62851bc')\"\n",
              "              title=\"Convert this dataframe to an interactive table.\"\n",
              "              style=\"display:none;\">\n",
              "        \n",
              "  <svg xmlns=\"http://www.w3.org/2000/svg\" height=\"24px\"viewBox=\"0 0 24 24\"\n",
              "       width=\"24px\">\n",
              "    <path d=\"M0 0h24v24H0V0z\" fill=\"none\"/>\n",
              "    <path d=\"M18.56 5.44l.94 2.06.94-2.06 2.06-.94-2.06-.94-.94-2.06-.94 2.06-2.06.94zm-11 1L8.5 8.5l.94-2.06 2.06-.94-2.06-.94L8.5 2.5l-.94 2.06-2.06.94zm10 10l.94 2.06.94-2.06 2.06-.94-2.06-.94-.94-2.06-.94 2.06-2.06.94z\"/><path d=\"M17.41 7.96l-1.37-1.37c-.4-.4-.92-.59-1.43-.59-.52 0-1.04.2-1.43.59L10.3 9.45l-7.72 7.72c-.78.78-.78 2.05 0 2.83L4 21.41c.39.39.9.59 1.41.59.51 0 1.02-.2 1.41-.59l7.78-7.78 2.81-2.81c.8-.78.8-2.07 0-2.86zM5.41 20L4 18.59l7.72-7.72 1.47 1.35L5.41 20z\"/>\n",
              "  </svg>\n",
              "      </button>\n",
              "      \n",
              "  <style>\n",
              "    .colab-df-container {\n",
              "      display:flex;\n",
              "      flex-wrap:wrap;\n",
              "      gap: 12px;\n",
              "    }\n",
              "\n",
              "    .colab-df-convert {\n",
              "      background-color: #E8F0FE;\n",
              "      border: none;\n",
              "      border-radius: 50%;\n",
              "      cursor: pointer;\n",
              "      display: none;\n",
              "      fill: #1967D2;\n",
              "      height: 32px;\n",
              "      padding: 0 0 0 0;\n",
              "      width: 32px;\n",
              "    }\n",
              "\n",
              "    .colab-df-convert:hover {\n",
              "      background-color: #E2EBFA;\n",
              "      box-shadow: 0px 1px 2px rgba(60, 64, 67, 0.3), 0px 1px 3px 1px rgba(60, 64, 67, 0.15);\n",
              "      fill: #174EA6;\n",
              "    }\n",
              "\n",
              "    [theme=dark] .colab-df-convert {\n",
              "      background-color: #3B4455;\n",
              "      fill: #D2E3FC;\n",
              "    }\n",
              "\n",
              "    [theme=dark] .colab-df-convert:hover {\n",
              "      background-color: #434B5C;\n",
              "      box-shadow: 0px 1px 3px 1px rgba(0, 0, 0, 0.15);\n",
              "      filter: drop-shadow(0px 1px 2px rgba(0, 0, 0, 0.3));\n",
              "      fill: #FFFFFF;\n",
              "    }\n",
              "  </style>\n",
              "\n",
              "      <script>\n",
              "        const buttonEl =\n",
              "          document.querySelector('#df-0943a917-be4a-4d0b-aba1-9ea2f62851bc button.colab-df-convert');\n",
              "        buttonEl.style.display =\n",
              "          google.colab.kernel.accessAllowed ? 'block' : 'none';\n",
              "\n",
              "        async function convertToInteractive(key) {\n",
              "          const element = document.querySelector('#df-0943a917-be4a-4d0b-aba1-9ea2f62851bc');\n",
              "          const dataTable =\n",
              "            await google.colab.kernel.invokeFunction('convertToInteractive',\n",
              "                                                     [key], {});\n",
              "          if (!dataTable) return;\n",
              "\n",
              "          const docLinkHtml = 'Like what you see? Visit the ' +\n",
              "            '<a target=\"_blank\" href=https://colab.research.google.com/notebooks/data_table.ipynb>data table notebook</a>'\n",
              "            + ' to learn more about interactive tables.';\n",
              "          element.innerHTML = '';\n",
              "          dataTable['output_type'] = 'display_data';\n",
              "          await google.colab.output.renderOutput(dataTable, element);\n",
              "          const docLink = document.createElement('div');\n",
              "          docLink.innerHTML = docLinkHtml;\n",
              "          element.appendChild(docLink);\n",
              "        }\n",
              "      </script>\n",
              "    </div>\n",
              "  </div>\n",
              "  "
            ]
          },
          "metadata": {},
          "execution_count": 6
        }
      ]
    },
    {
      "cell_type": "code",
      "source": [],
      "metadata": {
        "id": "ub6iwdnJawLV"
      },
      "execution_count": 6,
      "outputs": []
    },
    {
      "cell_type": "markdown",
      "source": [
        "# Modeling with dummies\n",
        "\n",
        "We can now include these dummies in our model. \n",
        "\n",
        "**Point 1**\n",
        "WE MUST not include all categories of a given categorical variable. The reason is that the information of any given column must contain unique information.  If we include all categories then we violate this condition.  How?\n",
        "\n",
        "Consider a simple categorical variable, \"Gender\" which takes on two values for this discussion sake, \"Male\" and \"Female\".  If we make a dummy variable for Male and Female then notice that \n",
        "\n",
        "Male = 1 - Female\n",
        "\n",
        "In other words, if you give me either column then I can tell you what the value of the second column is without even looking at it.  Full information on Gender is contained in a single column so adding a second column gives no new information. \n",
        "\n",
        "The technical jargon is that (𝐗ᵀ𝐗)^-1 is full rank, meaning that no column is a linear combination of other columns.  \n",
        "\n",
        "Bottom Line:  You always have to exclude one category when adding dummy variables to your model\n",
        "\n",
        "**Point 2** and the dummy that you exclude should not be sparce (having only a few values of 1)\n",
        "\n",
        "We can use the value_counts() method to check how many observations are in each category.  If you have multiple categories then it might be possible to pool some categories if you can do so in a meaningful way.  This is a common approach to dealing with sparce categories.  \n",
        "\n",
        "If you violate this then be prepared for wild results even if your algorithm appears to run without error"
      ],
      "metadata": {
        "id": "TmgwTvE7bNU4"
      }
    },
    {
      "cell_type": "code",
      "source": [
        "pd.get_dummies(df_house['BldgType']).value_counts()"
      ],
      "metadata": {
        "colab": {
          "base_uri": "https://localhost:8080/"
        },
        "id": "iw-71xzGnw25",
        "outputId": "8b7eb9d4-64a7-45e0-f756-ed1224164df0"
      },
      "execution_count": 7,
      "outputs": [
        {
          "output_type": "execute_result",
          "data": {
            "text/plain": [
              "1Fam  2fmCon  Duplex  Twnhs  TwnhsE\n",
              "1     0       0       0      0         1220\n",
              "0     0       0       0      1          114\n",
              "              1       0      0           52\n",
              "              0       1      0           43\n",
              "      1       0       0      0           31\n",
              "dtype: int64"
            ]
          },
          "metadata": {},
          "execution_count": 7
        }
      ]
    },
    {
      "cell_type": "markdown",
      "source": [
        "It seems that there are sufficient numbers in all categories, but barely so, since 2fmCon only has 31 observations.  We can increase the variability by grouping all categories, other than 1Fam, together into a single group.  \n",
        "\n",
        "Let's explore the influence on total square feet and price and allow this influence to differ based on building type.  In other words we will create three categories:  1Fam, 2fmCon and Other"
      ],
      "metadata": {
        "id": "7n_ktz-Xn5uB"
      }
    },
    {
      "cell_type": "markdown",
      "source": [
        "## Testing simple differences in means between groups\n",
        "We can test if there are average differences, in terms of our \"Y\" variable by specifying a simple regression of the form:\n",
        "$SalesPrice= \\beta_0 + \\beta_1\\times D_{1Fam} +  \\beta_2\\times D_{2fmCon} + \\epsilon$\n",
        "\n",
        "**Interpretation:** \n",
        "\n",
        "$\\beta_1$ is the average difference in SalesPrice between houses that are 1Fam versus those that are of the ommitted category, which in this case is the combination of (Duplex, Twnhs and TwnhsE).  \n",
        "\n",
        "$\\beta_2$ is the average difference in SalesPrice between houses that are 2fmCon versus those that are of the ommitted category, which in this case is the combination of (Duplex, Twnhs and TwnhsE).  \n"
      ],
      "metadata": {
        "id": "LABo5vKYkmrZ"
      }
    },
    {
      "cell_type": "code",
      "source": [
        "# Run model and interpret results\n",
        "model(X=df_house[['constant','1Fam','2fmCon']], Y=df_house['SalePrice'])"
      ],
      "metadata": {
        "colab": {
          "base_uri": "https://localhost:8080/"
        },
        "id": "mNPaLsevp4oy",
        "outputId": "37f52762-183e-4cd1-c1d1-ae0fd33fbb6d"
      },
      "execution_count": 24,
      "outputs": [
        {
          "output_type": "stream",
          "name": "stdout",
          "text": [
            "                            GLS Regression Results                            \n",
            "==============================================================================\n",
            "Dep. Variable:              SalePrice   R-squared:                       0.022\n",
            "Model:                            GLS   Adj. R-squared:                  0.021\n",
            "Method:                 Least Squares   F-statistic:                     16.32\n",
            "Date:                Wed, 23 Nov 2022   Prob (F-statistic):           9.83e-08\n",
            "Time:                        15:16:05   Log-Likelihood:                -18528.\n",
            "No. Observations:                1460   AIC:                         3.706e+04\n",
            "Df Residuals:                    1457   BIC:                         3.708e+04\n",
            "Df Model:                           2                                         \n",
            "Covariance Type:            nonrobust                                         \n",
            "==============================================================================\n",
            "                 coef    std err          t      P>|t|      [0.025      0.975]\n",
            "------------------------------------------------------------------------------\n",
            "constant    1.604e+05   5438.363     29.501      0.000     1.5e+05    1.71e+05\n",
            "1Fam        2.533e+04   5885.784      4.303      0.000    1.38e+04    3.69e+04\n",
            "2fmCon     -3.201e+04   1.51e+04     -2.115      0.035   -6.17e+04   -2323.902\n",
            "==============================================================================\n",
            "Omnibus:                      601.874   Durbin-Watson:                   2.002\n",
            "Prob(Omnibus):                  0.000   Jarque-Bera (JB):             3401.802\n",
            "Skew:                           1.846   Prob(JB):                         0.00\n",
            "Kurtosis:                       9.503   Cond. No.                         9.96\n",
            "==============================================================================\n",
            "\n",
            "Notes:\n",
            "[1] Standard Errors assume that the covariance matrix of the errors is correctly specified.\n"
          ]
        }
      ]
    },
    {
      "cell_type": "markdown",
      "source": [
        "### Interpretation:\n",
        "The coefficient on 1Fam is 25,330 and is significant at the 99% Confidence level meaning that 1Fam houses cost $25,330 more than the \"other\" category on avarage.\n",
        "\n",
        "The coefficient on 2fmCon is -32,010 and is significant at the 95% Confidence level meaning that 2fmCon units cost $32,010 less than the \"other\" category on avarage.\n",
        "\n"
      ],
      "metadata": {
        "id": "cdoJYe3Hq0fO"
      }
    },
    {
      "cell_type": "markdown",
      "source": [
        "## Identifying what is driving the differences in average SalesPrice\n",
        "There are many different factors that might be driving these price differences that are not accounted for.  We can further explore what might be driving these differences in averages by adding more controls to our equation.  \n",
        "\n",
        "Let's consider the possibility that single family homes might be bigger in terms of square footage than condos and townhomes.  To explore this possibility, let us add Square Foot to the equation and see what happens to the coeffient on 1Fam.\n",
        "\n",
        "Specify:\n",
        "$SalesPrice= \\beta_0 + \\beta_1\\times D_{1Fam} +  \\beta_2\\times D_{2fmCon} + \\beta_3\\times SF + \\epsilon$"
      ],
      "metadata": {
        "id": "7GPs0asFt17_"
      }
    },
    {
      "cell_type": "code",
      "source": [
        "model(X=df_house[['constant','SF','1Fam','2fmCon','SF']], Y=df_house['SalePrice'])"
      ],
      "metadata": {
        "id": "yoUlCgj9tZcv",
        "outputId": "d9150eb1-4e7d-4348-a7ae-e86cf4bd763c",
        "colab": {
          "base_uri": "https://localhost:8080/"
        }
      },
      "execution_count": 25,
      "outputs": [
        {
          "output_type": "stream",
          "name": "stdout",
          "text": [
            "                            GLS Regression Results                            \n",
            "==============================================================================\n",
            "Dep. Variable:              SalePrice   R-squared:                       0.526\n",
            "Model:                            GLS   Adj. R-squared:                  0.525\n",
            "Method:                 Least Squares   F-statistic:                     537.6\n",
            "Date:                Wed, 23 Nov 2022   Prob (F-statistic):          4.23e-235\n",
            "Time:                        15:16:12   Log-Likelihood:                -18000.\n",
            "No. Observations:                1460   AIC:                         3.601e+04\n",
            "Df Residuals:                    1456   BIC:                         3.603e+04\n",
            "Df Model:                           3                                         \n",
            "Covariance Type:            nonrobust                                         \n",
            "==============================================================================\n",
            "                 coef    std err          t      P>|t|      [0.025      0.975]\n",
            "------------------------------------------------------------------------------\n",
            "constant    1.161e+04   5356.335      2.167      0.030    1098.599    2.21e+04\n",
            "SF            54.4288      1.385     39.312      0.000      51.713      57.145\n",
            "1Fam        7246.0635   4126.508      1.756      0.079    -848.472    1.53e+04\n",
            "2fmCon     -5.052e+04   1.06e+04     -4.787      0.000   -7.12e+04   -2.98e+04\n",
            "SF            54.4288      1.385     39.312      0.000      51.713      57.145\n",
            "==============================================================================\n",
            "Omnibus:                      278.575   Durbin-Watson:                   2.034\n",
            "Prob(Omnibus):                  0.000   Jarque-Bera (JB):             4132.040\n",
            "Skew:                           0.432   Prob(JB):                         0.00\n",
            "Kurtosis:                      11.196   Cond. No.                     1.57e+16\n",
            "==============================================================================\n",
            "\n",
            "Notes:\n",
            "[1] Standard Errors assume that the covariance matrix of the errors is correctly specified.\n",
            "[2] The smallest eigenvalue is 3.02e-23. This might indicate that there are\n",
            "strong multicollinearity problems or that the design matrix is singular.\n"
          ]
        }
      ]
    },
    {
      "cell_type": "markdown",
      "source": [
        "### Interpretation \n",
        "\n",
        "After controlling for SF, we see that $\\beta_1$, the coefficient on 1Fam, is qualitatively smaller, and is now only 7,246 compared to 25,330 in the prior model that does not account for Square Foot.  Also, $\\beta_1$ is no longer statistically different from zero, having a p-value of 0.079, means that we fail to reject the null hypothsis that $\\beta_1=0$.  \n"
      ],
      "metadata": {
        "id": "_LIU6dxetqVE"
      }
    },
    {
      "cell_type": "markdown",
      "source": [
        "### Look for more evidence\n",
        "The comparison of the two results provides some evidence that single family homes are more expensive than the \"other\" category and that these differences might be largely explained by differences in square footage.  In other words, single family homes might be bigger than the \"other\" cateogry.  \n",
        "\n",
        "We can explore this possibility directly with the data by specifying a simple dummy-only model where Square Footage is the Dependent variable:\n",
        "\n",
        "$SF= \\beta_0 + \\beta_1\\times D_{1Fam} +  \\beta_2\\times D_{2fmCon}  + \\epsilon$"
      ],
      "metadata": {
        "id": "pbJlfE2fxMxo"
      }
    },
    {
      "cell_type": "code",
      "source": [
        "model(X=df_house[['constant','1Fam','2fmCon']], Y=df_house['SF'])"
      ],
      "metadata": {
        "id": "K5SyOwfgwutd",
        "outputId": "87802dc9-71b3-4d14-ce61-f2746b378bba",
        "colab": {
          "base_uri": "https://localhost:8080/"
        }
      },
      "execution_count": 26,
      "outputs": [
        {
          "output_type": "stream",
          "name": "stdout",
          "text": [
            "                            GLS Regression Results                            \n",
            "==============================================================================\n",
            "Dep. Variable:                     SF   R-squared:                       0.012\n",
            "Model:                            GLS   Adj. R-squared:                  0.011\n",
            "Method:                 Least Squares   F-statistic:                     9.207\n",
            "Date:                Wed, 23 Nov 2022   Prob (F-statistic):           0.000106\n",
            "Time:                        15:16:16   Log-Likelihood:                -11196.\n",
            "No. Observations:                1460   AIC:                         2.240e+04\n",
            "Df Residuals:                    1457   BIC:                         2.241e+04\n",
            "Df Model:                           2                                         \n",
            "Covariance Type:            nonrobust                                         \n",
            "==============================================================================\n",
            "                 coef    std err          t      P>|t|      [0.025      0.975]\n",
            "------------------------------------------------------------------------------\n",
            "constant    1367.2297     35.849     38.139      0.000    1296.909    1437.550\n",
            "1Fam         166.0794     38.798      4.281      0.000      89.974     242.185\n",
            "2fmCon       170.0607     99.746      1.705      0.088     -25.601     365.722\n",
            "==============================================================================\n",
            "Omnibus:                      414.457   Durbin-Watson:                   1.985\n",
            "Prob(Omnibus):                  0.000   Jarque-Bera (JB):             1810.170\n",
            "Skew:                           1.287   Prob(JB):                         0.00\n",
            "Kurtosis:                       7.810   Cond. No.                         9.96\n",
            "==============================================================================\n",
            "\n",
            "Notes:\n",
            "[1] Standard Errors assume that the covariance matrix of the errors is correctly specified.\n"
          ]
        }
      ]
    },
    {
      "cell_type": "markdown",
      "source": [
        "#### Interpretation\n",
        "We can see that the coeffient on 1Fam is positive and significant at the 99 percent level meaning that 1Fam units are larger on average than the \"other\" category.  This difference in size surely has the potential to explain differences in sales price between these groups.  \n",
        "\n",
        "**Summary** we have discovered that these groups are different in terms of size and that these size differences might explain the differences in price between group.  Thus we need to formulate a strategy to control for these size differences, which we can do either within a regression context or by normalizing the data.  \n"
      ],
      "metadata": {
        "id": "kJDaNeloxWd6"
      }
    },
    {
      "cell_type": "code",
      "source": [
        "sns.set_style('whitegrid')\n",
        "sns.lmplot(x ='SF', y ='SalePrice', data = df_house, \n",
        "           hue ='BldgType')"
      ],
      "metadata": {
        "id": "A5_75ddQEND1",
        "outputId": "603aeaa8-b288-4960-e2f0-982d5314aafe",
        "colab": {
          "base_uri": "https://localhost:8080/",
          "height": 386
        }
      },
      "execution_count": 30,
      "outputs": [
        {
          "output_type": "execute_result",
          "data": {
            "text/plain": [
              "<seaborn.axisgrid.FacetGrid at 0x7f7f401d0f10>"
            ]
          },
          "metadata": {},
          "execution_count": 30
        },
        {
          "output_type": "display_data",
          "data": {
            "text/plain": [
              "<Figure size 434.875x360 with 1 Axes>"
            ],
            "image/png": "[encoded data removed]"
          },
          "metadata": {}
        }
      ]
    },
    {
      "cell_type": "markdown",
      "source": [
        "## Normalization\n",
        "I will not cover normalization here in detail but consider that we might divide our sales price by square foot to get a price per square foot and then use Price/SF as our dependent Y variable.  "
      ],
      "metadata": {
        "id": "hNFNYVBszCn0"
      }
    },
    {
      "cell_type": "code",
      "source": [
        "df_house['Price_SF']=df_house['SalePrice']/df_house['SF']\n",
        "model(X=df_house[['constant','1Fam','2fmCon']], Y=df_house['Price_SF'])"
      ],
      "metadata": {
        "id": "BAO9ExMizH9l",
        "outputId": "500369e8-9bc0-4dff-9238-69e77b02c763",
        "colab": {
          "base_uri": "https://localhost:8080/"
        }
      },
      "execution_count": 27,
      "outputs": [
        {
          "output_type": "stream",
          "name": "stdout",
          "text": [
            "                            GLS Regression Results                            \n",
            "==============================================================================\n",
            "Dep. Variable:               Price_SF   R-squared:                       0.021\n",
            "Model:                            GLS   Adj. R-squared:                  0.020\n",
            "Method:                 Least Squares   F-statistic:                     15.62\n",
            "Date:                Wed, 23 Nov 2022   Prob (F-statistic):           1.95e-07\n",
            "Time:                        15:16:20   Log-Likelihood:                -7078.3\n",
            "No. Observations:                1460   AIC:                         1.416e+04\n",
            "Df Residuals:                    1457   BIC:                         1.418e+04\n",
            "Df Model:                           2                                         \n",
            "Covariance Type:            nonrobust                                         \n",
            "==============================================================================\n",
            "                 coef    std err          t      P>|t|      [0.025      0.975]\n",
            "------------------------------------------------------------------------------\n",
            "constant     120.6541      2.136     56.478      0.000     116.464     124.845\n",
            "1Fam           1.1059      2.312      0.478      0.633      -3.429       5.641\n",
            "2fmCon       -30.2765      5.944     -5.093      0.000     -41.937     -18.616\n",
            "==============================================================================\n",
            "Omnibus:                       65.651   Durbin-Watson:                   2.036\n",
            "Prob(Omnibus):                  0.000   Jarque-Bera (JB):               92.419\n",
            "Skew:                           0.417   Prob(JB):                     8.54e-21\n",
            "Kurtosis:                       3.907   Cond. No.                         9.96\n",
            "==============================================================================\n",
            "\n",
            "Notes:\n",
            "[1] Standard Errors assume that the covariance matrix of the errors is correctly specified.\n"
          ]
        }
      ]
    },
    {
      "cell_type": "markdown",
      "source": [
        "### Interpretation\n",
        "After normalizing Price by Square Foot we can see that there are not any significant differences between 1Fam and the \"other\" cateogry.  The p-value is 0.633 and thus we fail to reject the Null.  \n",
        "\n",
        "This adds more evidence in favor of what we have already learned; the difference in price between 1Fam and the \"other\" category seem to be largely driven by differences in the size of the units.  "
      ],
      "metadata": {
        "id": "VsVdbdfYz5Fw"
      }
    },
    {
      "cell_type": "markdown",
      "source": [],
      "metadata": {
        "id": "rLHyRdcyFYbV"
      }
    },
    {
      "cell_type": "code",
      "source": [
        "# create interactions between our dummy variables and Total Square Foot\n",
        "df_house['SF_1Fam']=df_house['SF']*df_house['1Fam']\n",
        "df_house['SF_2fmCon'] = df_house['SF']*df_house['2fmCon']\n",
        "model(X=df_house[['constant','SF','1Fam','2fmCon','SF_1Fam','SF_2fmCon']], Y=df_house['SalePrice'])"
      ],
      "metadata": {
        "id": "1Y_bVb6rPPtp",
        "outputId": "8bfd9fd9-5a4e-4a42-8b93-c07252202b20",
        "colab": {
          "base_uri": "https://localhost:8080/"
        }
      },
      "execution_count": 28,
      "outputs": [
        {
          "output_type": "stream",
          "name": "stdout",
          "text": [
            "                            GLS Regression Results                            \n",
            "==============================================================================\n",
            "Dep. Variable:              SalePrice   R-squared:                       0.539\n",
            "Model:                            GLS   Adj. R-squared:                  0.537\n",
            "Method:                 Least Squares   F-statistic:                     340.1\n",
            "Date:                Wed, 23 Nov 2022   Prob (F-statistic):          1.70e-241\n",
            "Time:                        15:16:25   Log-Likelihood:                -17979.\n",
            "No. Observations:                1460   AIC:                         3.597e+04\n",
            "Df Residuals:                    1454   BIC:                         3.600e+04\n",
            "Df Model:                           5                                         \n",
            "Covariance Type:            nonrobust                                         \n",
            "==============================================================================\n",
            "                 coef    std err          t      P>|t|      [0.025      0.975]\n",
            "------------------------------------------------------------------------------\n",
            "constant    7.623e+04   1.46e+04      5.223      0.000    4.76e+04    1.05e+05\n",
            "SF            61.5896     10.320      5.968      0.000      41.346      81.833\n",
            "1Fam       -6.591e+04   1.53e+04     -4.302      0.000    -9.6e+04   -3.59e+04\n",
            "2fmCon      3403.4017    3.3e+04      0.103      0.918   -6.13e+04    6.81e+04\n",
            "SF_1Fam       52.8324     10.711      4.933      0.000      31.822      73.842\n",
            "SF_2fmCon    -29.8472     20.912     -1.427      0.154     -70.869      11.174\n",
            "==============================================================================\n",
            "Omnibus:                      283.458   Durbin-Watson:                   2.017\n",
            "Prob(Omnibus):                  0.000   Jarque-Bera (JB):             5543.483\n",
            "Skew:                           0.325   Prob(JB):                         0.00\n",
            "Kurtosis:                      12.524   Cond. No.                     5.27e+04\n",
            "==============================================================================\n",
            "\n",
            "Notes:\n",
            "[1] Standard Errors assume that the covariance matrix of the errors is correctly specified.\n",
            "[2] The condition number is large, 5.27e+04. This might indicate that there are\n",
            "strong multicollinearity or other numerical problems.\n"
          ]
        }
      ]
    },
    {
      "cell_type": "code",
      "source": [
        "model2 = smf.ols(formula='SalePrice ~ SF', data=df_house).fit()\n",
        "print(model2.summary())"
      ],
      "metadata": {
        "id": "_r-b7kadns9N"
      },
      "execution_count": null,
      "outputs": []
    }
  ]
}