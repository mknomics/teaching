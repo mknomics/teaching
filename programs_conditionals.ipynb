{
  "nbformat": 4,
  "nbformat_minor": 0,
  "metadata": {
    "colab": {
      "name": "programs_conditionals.ipynb",
      "provenance": [],
      "toc_visible": true,
      "authorship_tag": "ABX9TyO/ntvcNLJivMBZAl+eKST7",
      "include_colab_link": true
    },
    "kernelspec": {
      "name": "python3",
      "display_name": "Python 3"
    },
    "language_info": {
      "name": "python"
    }
  },
  "cells": [
    {
      "cell_type": "markdown",
      "metadata": {
        "id": "view-in-github",
        "colab_type": "text"
      },
      "source": [
        "<a href=\"https://colab.research.google.com/github/mknomics/teaching/blob/main/programs_conditionals.ipynb\" target=\"_parent\"><img src=\"https://colab.research.google.com/assets/colab-badge.svg\" alt=\"Open In Colab\"/></a>"
      ]
    },
    {
      "cell_type": "markdown",
      "source": [
        "# Whitespace \n",
        "Whitespace (blank space indents) is something that you will all get accustomed to maintaining in this section.  Code runs in blocks defined by whitespace\n",
        "\n",
        "\n",
        "```\n",
        "Example: \n",
        "Block A\n",
        "     block a ; line 1\n",
        "     block a ; line 2\n",
        "\n",
        "Block B\n",
        "     block b ; line 1\n",
        "     block b ; line 2 defines Block C\n",
        "          block c ; line 1\n",
        "          block c ; line 2\n",
        "     block b ; line 3\n",
        "\n",
        "\n",
        "```\n",
        "\n"
      ],
      "metadata": {
        "id": "V951ZmpZC_B5"
      }
    },
    {
      "cell_type": "code",
      "source": [
        "from IPython.core.display import display, HTML\n",
        "display(HTML('<iframe width=\"560\" height=\"315\" src=\"https://www.youtube.com/embed/OkF3dBv0Nog\" title=\"YouTube video player\" frameborder=\"0\" allow=\"accelerometer; autoplay; clipboard-write; encrypted-media; gyroscope; picture-in-picture\" allowfullscreen></iframe>'))\n"
      ],
      "metadata": {
        "colab": {
          "base_uri": "https://localhost:8080/",
          "height": 335
        },
        "id": "PozfJ6fkEp63",
        "outputId": "a74e605f-7f1d-41a3-a3de-5021c875c429"
      },
      "execution_count": 2,
      "outputs": [
        {
          "output_type": "display_data",
          "data": {
            "text/html": [
              "<iframe width=\"560\" height=\"315\" src=\"https://www.youtube.com/embed/OkF3dBv0Nog\" title=\"YouTube video player\" frameborder=\"0\" allow=\"accelerometer; autoplay; clipboard-write; encrypted-media; gyroscope; picture-in-picture\" allowfullscreen></iframe>"
            ],
            "text/plain": [
              "<IPython.core.display.HTML object>"
            ]
          },
          "metadata": {}
        }
      ]
    },
    {
      "cell_type": "markdown",
      "source": [
        "# Conditions and Branching\n",
        "\n",
        "if a logical then run some stuff 🏌\n"
      ],
      "metadata": {
        "id": "8-09qIoLGG9S"
      }
    },
    {
      "cell_type": "markdown",
      "source": [
        "## Class Challenge \n",
        "Write a logical statement that returns True if element is in the list and False if not"
      ],
      "metadata": {
        "id": "rw-NhkO-Go-3"
      }
    },
    {
      "cell_type": "code",
      "source": [
        "L = ['Mountain Lion','Tiger','Bear']\n",
        "x = 'Mountain Lion' # enter your string input for x here\n",
        "# Your code here (should return True)\n",
        "x in L"
      ],
      "metadata": {
        "colab": {
          "base_uri": "https://localhost:8080/"
        },
        "id": "frVaU7nzG__y",
        "outputId": "b3e7a7f2-ea62-4d65-a46f-1afe77485f4b"
      },
      "execution_count": 8,
      "outputs": [
        {
          "output_type": "execute_result",
          "data": {
            "text/plain": [
              "True"
            ]
          },
          "metadata": {},
          "execution_count": 8
        }
      ]
    },
    {
      "cell_type": "markdown",
      "source": [
        "Now you want to write a function that tells you what to do if faced with animal \"x\".  If faced with a Mountain Lion then print fight, elseif faced with a Bear print \"play dead\", else print \"You're toast\""
      ],
      "metadata": {
        "id": "Ebg4cH2bJgZx"
      }
    },
    {
      "cell_type": "code",
      "source": [
        "L = ['Mountain Lion','Tiger','Bear']\n",
        "x = 'rabbit'\n",
        "# your code here\n",
        "if x in L:\n",
        "  if x == 'Mountain Lion':\n",
        "    print('fight')\n",
        "  elif x == 'Tiger':\n",
        "    print('you are toast')\n",
        "  else:\n",
        "    print('play dead')\n",
        "\n"
      ],
      "metadata": {
        "id": "QXzoVbCDJ8oL"
      },
      "execution_count": 15,
      "outputs": []
    },
    {
      "cell_type": "markdown",
      "source": [
        "Now set x = 'rabbit' and run your code above.  Did it produce a desireable response?  If not then try to fix it."
      ],
      "metadata": {
        "id": "uy_IqVE_MZ44"
      }
    },
    {
      "cell_type": "markdown",
      "source": [
        "# Loops"
      ],
      "metadata": {
        "id": "zYxOsUVBDEMq"
      }
    },
    {
      "cell_type": "markdown",
      "source": [
        "## for Loops \n",
        "\n",
        "\n",
        "```\n",
        "for i in List:\n",
        "  do stuff with i\n",
        "\n",
        "```\n",
        "\n"
      ],
      "metadata": {
        "id": "shYgiBYqdFsP"
      }
    },
    {
      "cell_type": "code",
      "source": [
        "M = [3,9,7,2,9,9]\n",
        "for i in M:\n",
        "  print('now the loop is on value ' + str(i))\n",
        "  print('end of iteration, now moving to the next value')"
      ],
      "metadata": {
        "colab": {
          "base_uri": "https://localhost:8080/"
        },
        "id": "0VXp0SJ-PeM2",
        "outputId": "0192b0f3-0973-4912-b848-d5e146e4b942"
      },
      "execution_count": 5,
      "outputs": [
        {
          "output_type": "stream",
          "name": "stdout",
          "text": [
            "now the loop is on value 3\n",
            "end of iteration, now moving to the next value\n",
            "now the loop is on value 9\n",
            "end of iteration, now moving to the next value\n",
            "now the loop is on value 7\n",
            "end of iteration, now moving to the next value\n",
            "now the loop is on value 2\n",
            "end of iteration, now moving to the next value\n",
            "now the loop is on value 9\n",
            "end of iteration, now moving to the next value\n",
            "now the loop is on value 9\n",
            "end of iteration, now moving to the next value\n"
          ]
        }
      ]
    },
    {
      "cell_type": "markdown",
      "source": [
        "### enumerate()\n",
        "gives us both the value s and index number i"
      ],
      "metadata": {
        "id": "0QeMo2ffZLLx"
      }
    },
    {
      "cell_type": "markdown",
      "source": [
        "#### Example: count the number of 9s\n",
        "Look at the following conditional and the output that it produces.  Can you follow the logic between the code and the output?\n",
        "\n",
        "NOTICE THE WHITESPACE"
      ],
      "metadata": {
        "id": "2pm0RHTmauPd"
      }
    },
    {
      "cell_type": "code",
      "source": [
        "M = [3,9,7,2,9,9]\n",
        "\n",
        "c=0 # placeholder counter initialized at zero\n",
        "for i,s in enumerate(M):\n",
        "  print('*****START of for loop')\n",
        "  print('now the loop is on index; i = ' + str(i) + '  and value'+' s = ' + str(s))\n",
        "  if s==9: # embed a conditional\n",
        "    print('***found a 9 so the conditional statement is true, adding one to the counter')\n",
        "    c = c+1 # redefine the counter to be the old value of the counter plus one\n",
        "    print('***current number of 9s found is '+ str(c))\n",
        "  else:\n",
        "    print('did not find a 9 on this iteration')\n",
        "  print('*****END of for loop:  moving onto the next iteration:')\n",
        "print('the total number of 9s is ' + str(c))\n",
        "  "
      ],
      "metadata": {
        "colab": {
          "base_uri": "https://localhost:8080/"
        },
        "id": "e3ochUHxOmys",
        "outputId": "96853de3-ba46-43c7-b141-56091e448a8b"
      },
      "execution_count": 14,
      "outputs": [
        {
          "output_type": "stream",
          "name": "stdout",
          "text": [
            "*****START of for loop\n",
            "now the loop is on index; i = 0  and value s = 3\n",
            "did not find a 9 on this iteration\n",
            "*****END of for loop:  moving onto the next iteration:\n",
            "*****START of for loop\n",
            "now the loop is on index; i = 1  and value s = 9\n",
            "***found a 9 so the conditional statement is true, adding one to the counter\n",
            "***current number of 9s found is 1\n",
            "*****END of for loop:  moving onto the next iteration:\n",
            "*****START of for loop\n",
            "now the loop is on index; i = 2  and value s = 7\n",
            "did not find a 9 on this iteration\n",
            "*****END of for loop:  moving onto the next iteration:\n",
            "*****START of for loop\n",
            "now the loop is on index; i = 3  and value s = 2\n",
            "did not find a 9 on this iteration\n",
            "*****END of for loop:  moving onto the next iteration:\n",
            "*****START of for loop\n",
            "now the loop is on index; i = 4  and value s = 9\n",
            "***found a 9 so the conditional statement is true, adding one to the counter\n",
            "***current number of 9s found is 2\n",
            "*****END of for loop:  moving onto the next iteration:\n",
            "*****START of for loop\n",
            "now the loop is on index; i = 5  and value s = 9\n",
            "***found a 9 so the conditional statement is true, adding one to the counter\n",
            "***current number of 9s found is 3\n",
            "*****END of for loop:  moving onto the next iteration:\n",
            "the total number of 9s is 3\n"
          ]
        }
      ]
    },
    {
      "cell_type": "code",
      "source": [
        "M = [3,9,7,2]\n",
        "for i,s in enumerate(M):\n",
        "  print('*****START of for loop')\n",
        "  print('now on iteration ' + str(i) + '  and s = '+str(s))\n",
        "  if i==0:\n",
        "    print('This will only run on the first iteration, when i==0')\n",
        "    temp=s\n",
        "    print('temp is equal to the first value of M = '+str(s))\n",
        "  else:\n",
        "    print('This block runs on all other iterations')\n",
        "    # your code here\n",
        "    if s>=temp:\n",
        "      print('***FOUND A NEW VALUE that is higher than any one before it')\n",
        "      print('***UPDATE temp to new max = ' + str(s))\n",
        "      temp=s\n",
        "    else:\n",
        "      print('temp is unchanged and is still = '+ str(temp))\n",
        "  print('*****END of for loop')"
      ],
      "metadata": {
        "colab": {
          "base_uri": "https://localhost:8080/"
        },
        "id": "LEfLxxcoRn4Y",
        "outputId": "ea2df5dd-57ce-40e1-e05e-72d181e37eb6"
      },
      "execution_count": 30,
      "outputs": [
        {
          "output_type": "stream",
          "name": "stdout",
          "text": [
            "*****START of for loop\n",
            "now on iteration 0  and s = 3\n",
            "This will only run on the first iteration, when i==0\n",
            "temp is equal to the first value of M = 3\n",
            "*****END of for loop\n",
            "*****START of for loop\n",
            "now on iteration 1  and s = 9\n",
            "This block runs on all other iterations\n",
            "***FOUND A NEW VALUE that is higher than any one before it\n",
            "***UPDATE temp to new max = 9\n",
            "*****END of for loop\n",
            "*****START of for loop\n",
            "now on iteration 2  and s = 7\n",
            "This block runs on all other iterations\n",
            "temp is unchanged and is still = 9\n",
            "*****END of for loop\n",
            "*****START of for loop\n",
            "now on iteration 3  and s = 2\n",
            "This block runs on all other iterations\n",
            "temp is unchanged and is still = 9\n",
            "*****END of for loop\n"
          ]
        }
      ]
    },
    {
      "cell_type": "markdown",
      "source": [
        "#### Loop over a range equal to the length of our list (how many elements)\n",
        "range() method\n",
        "\n",
        "len() menthod finds the length of our list"
      ],
      "metadata": {
        "id": "War7prYFdjhQ"
      }
    },
    {
      "cell_type": "code",
      "source": [
        "# see what len() method does\n",
        "M = [3,9,7,2]\n",
        "len(M)"
      ],
      "metadata": {
        "colab": {
          "base_uri": "https://localhost:8080/"
        },
        "id": "Z9jiWz6Kd4Qh",
        "outputId": "3376c703-96d2-4dc3-83ee-6db030941885"
      },
      "execution_count": 32,
      "outputs": [
        {
          "output_type": "execute_result",
          "data": {
            "text/plain": [
              "4"
            ]
          },
          "metadata": {},
          "execution_count": 32
        }
      ]
    },
    {
      "cell_type": "code",
      "source": [
        "#see what values range produces\n",
        "range(0,len(M))"
      ],
      "metadata": {
        "colab": {
          "base_uri": "https://localhost:8080/"
        },
        "id": "pWMTwJCBeLcN",
        "outputId": "2befe497-8b51-43ce-fc14-3c7cce2e55e3"
      },
      "execution_count": 34,
      "outputs": [
        {
          "output_type": "execute_result",
          "data": {
            "text/plain": [
              "range(0, 4)"
            ]
          },
          "metadata": {},
          "execution_count": 34
        }
      ]
    },
    {
      "cell_type": "code",
      "source": [
        "# here is another way:  first, find the length of M using len() method\n",
        "len(M)\n",
        "for wazzup_class in range(0,len(M)):  # you can create any name for your alias.  This one is silly but it's better to stick to i,j,k,l,m\n",
        "  print('for i in range(0,len(M)) ' + 'i = ' + str(wazzup_class) + '  M[i] = ' + str(M[wazzup_class]))\n",
        "  # accomplish the same goal in this loop"
      ],
      "metadata": {
        "colab": {
          "base_uri": "https://localhost:8080/"
        },
        "id": "CeD5M07CeFME",
        "outputId": "fa8c1d6a-95a8-4650-81ff-452c7ab25c0b"
      },
      "execution_count": 37,
      "outputs": [
        {
          "output_type": "stream",
          "name": "stdout",
          "text": [
            "for i in range(0,len(M)) i = 0  M[i] = 3\n",
            "for i in range(0,len(M)) i = 1  M[i] = 9\n",
            "for i in range(0,len(M)) i = 2  M[i] = 7\n",
            "for i in range(0,len(M)) i = 3  M[i] = 2\n"
          ]
        }
      ]
    },
    {
      "cell_type": "markdown",
      "source": [
        "#### Simple Loop over all elements in M"
      ],
      "metadata": {
        "id": "uIMjdJTlfAGC"
      }
    },
    {
      "cell_type": "code",
      "source": [
        "M = ['old', 'McDonald', 'had', 'a','farm']\n",
        "# here is another way: simply go down the list\n",
        "for i in M:\n",
        "  print('start loop')\n",
        "  print(i)\n",
        "  print('end of loop, now onto the next value')"
      ],
      "metadata": {
        "colab": {
          "base_uri": "https://localhost:8080/"
        },
        "id": "CoZtulpSdszS",
        "outputId": "91ae1cf8-7df7-4a51-aa11-a190bb4b449c"
      },
      "execution_count": 40,
      "outputs": [
        {
          "output_type": "stream",
          "name": "stdout",
          "text": [
            "start loop\n",
            "old\n",
            "end of loop, now onto the next value\n",
            "start loop\n",
            "McDonald\n",
            "end of loop, now onto the next value\n",
            "start loop\n",
            "had\n",
            "end of loop, now onto the next value\n",
            "start loop\n",
            "a\n",
            "end of loop, now onto the next value\n",
            "start loop\n",
            "farm\n",
            "end of loop, now onto the next value\n"
          ]
        }
      ]
    },
    {
      "cell_type": "markdown",
      "source": [
        "## while loops\n",
        "while some condition is true...keep doing the loop"
      ],
      "metadata": {
        "id": "pA1AS-yxezkn"
      }
    },
    {
      "cell_type": "code",
      "source": [
        "j = 0 # initialize the counter to zero \n",
        "while j <5:\n",
        "  print('***START of iteration')\n",
        "  print('old j ' + str(j))\n",
        "  j = j+1\n",
        "  print('make sure to update j or else j never gets bigger and the loop keeps going forever')\n",
        "  print('new j '+ str(j))\n",
        "  print('***END of Iteration')\n",
        "# use a while loop to find the max of L "
      ],
      "metadata": {
        "colab": {
          "base_uri": "https://localhost:8080/"
        },
        "id": "AvGj5YxYe8dt",
        "outputId": "6b40dff4-4148-44d5-8936-7ad9448e02fc"
      },
      "execution_count": 43,
      "outputs": [
        {
          "output_type": "stream",
          "name": "stdout",
          "text": [
            "***START of iteration\n",
            "old j 0\n",
            "make sure to update j or else j never gets bigger and the loop keeps going forever\n",
            "new j 1\n",
            "***END of Iteration\n",
            "***START of iteration\n",
            "old j 1\n",
            "make sure to update j or else j never gets bigger and the loop keeps going forever\n",
            "new j 2\n",
            "***END of Iteration\n",
            "***START of iteration\n",
            "old j 2\n",
            "make sure to update j or else j never gets bigger and the loop keeps going forever\n",
            "new j 3\n",
            "***END of Iteration\n",
            "***START of iteration\n",
            "old j 3\n",
            "make sure to update j or else j never gets bigger and the loop keeps going forever\n",
            "new j 4\n",
            "***END of Iteration\n",
            "***START of iteration\n",
            "old j 4\n",
            "make sure to update j or else j never gets bigger and the loop keeps going forever\n",
            "new j 5\n",
            "***END of Iteration\n"
          ]
        }
      ]
    },
    {
      "cell_type": "markdown",
      "source": [
        "# Functions"
      ],
      "metadata": {
        "id": "Bs8togfVDGZp"
      }
    },
    {
      "cell_type": "markdown",
      "source": [
        "functions have the following form\n",
        "\n",
        "\n",
        "```\n",
        "def YourFunctionName(YourFirstParameterName=True, YourSecondParameterName=True):\n",
        "    ***Manipulations involving your Parameter Names above***\n",
        "    return ***Type What The Funtion Outputs Here***\n",
        "```\n",
        "\n",
        "After your function is defined, then you can use it!\n",
        "\n",
        "\n",
        "\n",
        "```\n",
        "YourFunctionName(YourFirstParameterName=some value, YourSecondParameterName= some value)\n",
        "```\n",
        "\n",
        "\n"
      ],
      "metadata": {
        "id": "_T3Przy9gmZn"
      }
    },
    {
      "cell_type": "markdown",
      "source": [
        "#### Example\n",
        "My max function that counts the number of times a number shows up on a list\n",
        "\n",
        "Inputs list, and number to look for\n",
        "\n",
        "Outputs count of that number\n",
        "\n",
        "I embed the previous example from the loops section to make the function"
      ],
      "metadata": {
        "id": "7hNmYoGMhyRF"
      }
    },
    {
      "cell_type": "code",
      "source": [
        "# print() is commented out to make it run cleaner\n",
        "def MattsFunction(List=True, Number=True):\n",
        "  c=0 # placeholder counter initialized at zero\n",
        "  for i,s in enumerate(List):\n",
        "    #print('*****START of for loop')\n",
        "    #print('now the loop is on index; i = ' + str(i) + '  and value'+' s = ' + str(s))\n",
        "    if s==Number: # embed a conditional\n",
        "      #print('***found a match so the conditional statement is true, adding one to the counter')\n",
        "      c = c+1 # redefine the counter to be the old value of the counter plus one\n",
        "      #print('***current number of matched number found is '+ str(c))\n",
        "    else:\n",
        "      c = c \n",
        "    #print('*****END of for loop:  moving onto the next iteration:')\n",
        "\n",
        "  return c"
      ],
      "metadata": {
        "id": "RkyahKY5iO7j"
      },
      "execution_count": 49,
      "outputs": []
    },
    {
      "cell_type": "code",
      "source": [
        "Z = [10,9,5,3,4,3,2,3,5] # Define a list\n",
        "\n",
        "MattsFunction(List=Z,Number=5)"
      ],
      "metadata": {
        "colab": {
          "base_uri": "https://localhost:8080/"
        },
        "id": "KmSzfBLjjrnP",
        "outputId": "ee9e1518-7b00-40a4-b6f3-7f09217d7c52"
      },
      "execution_count": 51,
      "outputs": [
        {
          "output_type": "execute_result",
          "data": {
            "text/plain": [
              "2"
            ]
          },
          "metadata": {},
          "execution_count": 51
        }
      ]
    },
    {
      "cell_type": "markdown",
      "source": [
        "## Challenge 1\n",
        "Write a Python program to convert temperatures to and from celsius, fahrenheit. \n",
        "F = 1.8C + 32  and  C = (F - 32) / 1.8\n",
        "\n",
        "Your program should take on two parameters:\n",
        "\n",
        "\n",
        "1.   value = value to be converted\n",
        "2.   scale = C or F\n",
        "\n",
        "\n"
      ],
      "metadata": {
        "id": "1s_iSq_CN3X9"
      }
    },
    {
      "cell_type": "code",
      "source": [
        "def converter2(old_value=True, old_scale=True):\n",
        "  '''\n",
        "  Your Function Needs to create \n",
        "  new_value\n",
        "  new_scale\n",
        "\n",
        "  HINT: embed a conditional branch\n",
        "  NOTE 1: I chose to return a dictionary but you could format the output in any datastructure you like.\n",
        "  The dictionary is nice because I can easily call the outputs later\n",
        "      - new_scale needs to be a string for this to work\n",
        "  '''\n",
        "  return {'value': new_value, 'scale': new_scale}\n"
      ],
      "metadata": {
        "colab": {
          "base_uri": "https://localhost:8080/"
        },
        "id": "l8qjvJSmOj1P",
        "outputId": "f721476a-222d-44ae-92ab-7b13ef611246"
      },
      "execution_count": 35,
      "outputs": [
        {
          "output_type": "stream",
          "name": "stdout",
          "text": [
            "value = 35 scale = F\n"
          ]
        }
      ]
    },
    {
      "cell_type": "code",
      "source": [
        "# now test it and see if it works\n",
        "\n",
        "converter2(old_value=32, old_scale='F')"
      ],
      "metadata": {
        "id": "IA4gxcoblM8G"
      },
      "execution_count": null,
      "outputs": []
    },
    {
      "cell_type": "markdown",
      "source": [
        ""
      ],
      "metadata": {
        "id": "Stj18avRZCH-"
      }
    },
    {
      "cell_type": "code",
      "source": [
        ""
      ],
      "metadata": {
        "id": "AE0aEAD7ZBA7"
      },
      "execution_count": null,
      "outputs": []
    },
    {
      "cell_type": "markdown",
      "source": [
        "# Objects and Classes\n",
        "Objects and classes are at the heart of object based programming.  BUT these topics are not the core of what we are teaching in this course.  For now, you just need to identify the elements.  The video may be a good help for you to understand the difference between an attribute, instance, method and class. "
      ],
      "metadata": {
        "id": "e1SjDifMDJoP"
      }
    },
    {
      "cell_type": "code",
      "execution_count": 29,
      "metadata": {
        "colab": {
          "base_uri": "https://localhost:8080/",
          "height": 335
        },
        "id": "lR1Axp4-CxRh",
        "outputId": "7a9a788c-0e2b-45f4-a1cc-1b7531521953"
      },
      "outputs": [
        {
          "output_type": "display_data",
          "data": {
            "text/html": [
              "<iframe width=\"560\" height=\"315\" src=\"https://www.youtube.com/embed/ZDa-Z5JzLYM\" title=\"YouTube video player\" frameborder=\"0\" allow=\"accelerometer; autoplay; clipboard-write; encrypted-media; gyroscope; picture-in-picture\" allowfullscreen></iframe>"
            ],
            "text/plain": [
              "<IPython.core.display.HTML object>"
            ]
          },
          "metadata": {}
        }
      ],
      "source": [
        "display(HTML('<iframe width=\"560\" height=\"315\" src=\"https://www.youtube.com/embed/ZDa-Z5JzLYM\" title=\"YouTube video player\" frameborder=\"0\" allow=\"accelerometer; autoplay; clipboard-write; encrypted-media; gyroscope; picture-in-picture\" allowfullscreen></iframe>'))"
      ]
    }
  ]
}