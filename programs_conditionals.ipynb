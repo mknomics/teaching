{
  "nbformat": 4,
  "nbformat_minor": 0,
  "metadata": {
    "colab": {
      "name": "programs_conditionals.ipynb",
      "provenance": [],
      "authorship_tag": "ABX9TyNJlCcftkKDVnw3EWjQs2n2",
      "include_colab_link": true
    },
    "kernelspec": {
      "name": "python3",
      "display_name": "Python 3"
    },
    "language_info": {
      "name": "python"
    }
  },
  "cells": [
    {
      "cell_type": "markdown",
      "metadata": {
        "id": "view-in-github",
        "colab_type": "text"
      },
      "source": [
        "<a href=\"https://colab.research.google.com/github/mknomics/teaching/blob/main/programs_conditionals.ipynb\" target=\"_parent\"><img src=\"https://colab.research.google.com/assets/colab-badge.svg\" alt=\"Open In Colab\"/></a>"
      ]
    },
    {
      "cell_type": "markdown",
      "source": [
        "# Whitespace \n",
        "Whitespace (blank space indents) is something that you will all get accustomed to maintaining in this section.  Code runs in blocks defined by whitespace\n",
        "\n",
        "\n",
        "```\n",
        "Example: \n",
        "Block A\n",
        "     block a ; line 1\n",
        "     block a ; line 2\n",
        "\n",
        "Block B\n",
        "     block b ; line 1\n",
        "     block b ; line 2 defines Block C\n",
        "          block c ; line 1\n",
        "          block c ; line 2\n",
        "     block b ; line 3\n",
        "\n",
        "\n",
        "```\n",
        "\n"
      ],
      "metadata": {
        "id": "V951ZmpZC_B5"
      }
    },
    {
      "cell_type": "code",
      "source": [
        "from IPython.core.display import display, HTML\n",
        "display(HTML('<iframe width=\"560\" height=\"315\" src=\"https://www.youtube.com/embed/OkF3dBv0Nog\" title=\"YouTube video player\" frameborder=\"0\" allow=\"accelerometer; autoplay; clipboard-write; encrypted-media; gyroscope; picture-in-picture\" allowfullscreen></iframe>'))\n"
      ],
      "metadata": {
        "colab": {
          "base_uri": "https://localhost:8080/",
          "height": 335
        },
        "id": "PozfJ6fkEp63",
        "outputId": "a74e605f-7f1d-41a3-a3de-5021c875c429"
      },
      "execution_count": 2,
      "outputs": [
        {
          "output_type": "display_data",
          "data": {
            "text/html": [
              "<iframe width=\"560\" height=\"315\" src=\"https://www.youtube.com/embed/OkF3dBv0Nog\" title=\"YouTube video player\" frameborder=\"0\" allow=\"accelerometer; autoplay; clipboard-write; encrypted-media; gyroscope; picture-in-picture\" allowfullscreen></iframe>"
            ],
            "text/plain": [
              "<IPython.core.display.HTML object>"
            ]
          },
          "metadata": {}
        }
      ]
    },
    {
      "cell_type": "markdown",
      "source": [
        "# Conditions and Branching\n",
        "\n",
        "if a logical then run some stuff 🏌\n"
      ],
      "metadata": {
        "id": "8-09qIoLGG9S"
      }
    },
    {
      "cell_type": "markdown",
      "source": [
        "## Class Challenge \n",
        "Write a logical statement that returns True if element is in the list and False if not"
      ],
      "metadata": {
        "id": "rw-NhkO-Go-3"
      }
    },
    {
      "cell_type": "code",
      "source": [
        "L = ['Mountain Lion','Tiger','Bear']\n",
        "x = 'Mountain Lion' # enter your string input for x here\n",
        "# Your code here (should return True)"
      ],
      "metadata": {
        "id": "frVaU7nzG__y"
      },
      "execution_count": 12,
      "outputs": []
    },
    {
      "cell_type": "markdown",
      "source": [
        "Now you want to write a function that tells you what to do if faced with animal \"x\".  If faced with a Mountain Lion then print fight, elif faced with a Bear print \"play dead\", else print \"You're toast\""
      ],
      "metadata": {
        "id": "Ebg4cH2bJgZx"
      }
    },
    {
      "cell_type": "code",
      "source": [
        "L = ['Mountain Lion','Tiger','Bear']\n",
        "x = 'Mountain Lions'\n",
        "# your code here\n"
      ],
      "metadata": {
        "colab": {
          "base_uri": "https://localhost:8080/",
          "height": 35
        },
        "id": "QXzoVbCDJ8oL",
        "outputId": "fbfc541b-5916-4b5d-a6fd-a477c94c011d"
      },
      "execution_count": 18,
      "outputs": [
        {
          "output_type": "execute_result",
          "data": {
            "application/vnd.google.colaboratory.intrinsic+json": {
              "type": "string"
            },
            "text/plain": [
              "'Mountain Lions'"
            ]
          },
          "metadata": {},
          "execution_count": 18
        }
      ]
    },
    {
      "cell_type": "markdown",
      "source": [
        "Now set x = 'rabbit' and run your code above.  Did it produce a desireable response?  If not then try to fix it."
      ],
      "metadata": {
        "id": "uy_IqVE_MZ44"
      }
    },
    {
      "cell_type": "markdown",
      "source": [
        "# Loops"
      ],
      "metadata": {
        "id": "zYxOsUVBDEMq"
      }
    },
    {
      "cell_type": "code",
      "source": [
        "M = [3,9,7,2]\n",
        "for i,s in enumerate(M):\n",
        "  if i==0:\n",
        "    t=s\n",
        "  else:\n",
        "    # your code here\n",
        "    \n",
        "print(\"Maximum = \" + str(t))\n"
      ],
      "metadata": {
        "colab": {
          "base_uri": "https://localhost:8080/"
        },
        "id": "V5AbuBDmQRW8",
        "outputId": "5475244d-3ed2-4692-8fc9-e697dc440b70"
      },
      "execution_count": 28,
      "outputs": [
        {
          "output_type": "stream",
          "name": "stdout",
          "text": [
            "Maximum = 9\n"
          ]
        }
      ]
    },
    {
      "cell_type": "markdown",
      "source": [
        "# Functions"
      ],
      "metadata": {
        "id": "Bs8togfVDGZp"
      }
    },
    {
      "cell_type": "markdown",
      "source": [
        "## Challenge 1\n",
        "Write a Python program to convert temperatures to and from celsius, fahrenheit. \n",
        "F = 1.8C + 32  and  C = (F - 32) / 1.8\n",
        "\n",
        "Your program should take on two parameters:\n",
        "\n",
        "\n",
        "1.   value = value to be converted\n",
        "2.   scale = C or F\n",
        "\n",
        "\n"
      ],
      "metadata": {
        "id": "1s_iSq_CN3X9"
      }
    },
    {
      "cell_type": "code",
      "source": [
        "def converter(value=True, scale=True):\n",
        "  #Hint: embed a conditional branch\n",
        "  return answer "
      ],
      "metadata": {
        "id": "l8qjvJSmOj1P"
      },
      "execution_count": null,
      "outputs": []
    },
    {
      "cell_type": "markdown",
      "source": [
        ""
      ],
      "metadata": {
        "id": "Stj18avRZCH-"
      }
    },
    {
      "cell_type": "code",
      "source": [
        ""
      ],
      "metadata": {
        "id": "AE0aEAD7ZBA7"
      },
      "execution_count": null,
      "outputs": []
    },
    {
      "cell_type": "markdown",
      "source": [
        "# Objects and Classes\n",
        "Objects and classes are at the heart of object based programming.  BUT these topics are not the core of what we are teaching in this course.  For now, you just need to identify the elements.  The video may be a good help for you to understand the difference between an attribute, instance, method and class. "
      ],
      "metadata": {
        "id": "e1SjDifMDJoP"
      }
    },
    {
      "cell_type": "code",
      "execution_count": 29,
      "metadata": {
        "colab": {
          "base_uri": "https://localhost:8080/",
          "height": 335
        },
        "id": "lR1Axp4-CxRh",
        "outputId": "7a9a788c-0e2b-45f4-a1cc-1b7531521953"
      },
      "outputs": [
        {
          "output_type": "display_data",
          "data": {
            "text/html": [
              "<iframe width=\"560\" height=\"315\" src=\"https://www.youtube.com/embed/ZDa-Z5JzLYM\" title=\"YouTube video player\" frameborder=\"0\" allow=\"accelerometer; autoplay; clipboard-write; encrypted-media; gyroscope; picture-in-picture\" allowfullscreen></iframe>"
            ],
            "text/plain": [
              "<IPython.core.display.HTML object>"
            ]
          },
          "metadata": {}
        }
      ],
      "source": [
        "display(HTML('<iframe width=\"560\" height=\"315\" src=\"https://www.youtube.com/embed/ZDa-Z5JzLYM\" title=\"YouTube video player\" frameborder=\"0\" allow=\"accelerometer; autoplay; clipboard-write; encrypted-media; gyroscope; picture-in-picture\" allowfullscreen></iframe>'))"
      ]
    }
  ]
}