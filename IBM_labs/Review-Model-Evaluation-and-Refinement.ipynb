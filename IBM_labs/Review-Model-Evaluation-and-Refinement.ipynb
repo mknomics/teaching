{
  "cells": [
    {
      "cell_type": "markdown",
      "metadata": {
        "id": "z1r-z7-nJS5B"
      },
      "source": [
        "<center>\n",
        "    <img src=\"https://cf-courses-data.s3.us.cloud-object-storage.appdomain.cloud/IBMDeveloperSkillsNetwork-DA0101EN-SkillsNetwork/labs/Module%205/images/IDSNlogo.png\" width=\"300\" alt=\"cognitiveclass.ai logo\"  />\n",
        "</center>\n",
        "\n",
        "# Model Evaluation and Refinement\n",
        "\n",
        "Estimated time needed: **30** minutes\n",
        "\n",
        "## Objectives\n",
        "\n",
        "After completing this lab you will be able to:\n",
        "\n",
        "*   Evaluate and refine prediction models\n"
      ]
    },
    {
      "cell_type": "markdown",
      "source": [
        "# Read this article\n",
        "[click here to read](https://towardsdatascience.com/overfitting-vs-underfitting-a-complete-example-d05dd7e19765)"
      ],
      "metadata": {
        "id": "iKW7ofnd_7_6"
      }
    },
    {
      "cell_type": "markdown",
      "metadata": {
        "id": "JVWDk-IdJS5C"
      },
      "source": [
        "<h2>Table of Contents</h2>\n",
        "<ul>\n",
        "    <li><a href=\"https://#ref1\">Model Evaluation </a></li>\n",
        "    <li><a href=\"https://#ref2\">Over-fitting, Under-fitting and Model Selection </a></li>\n",
        "    <li><a href=\"https://#ref3\">Ridge Regression </a></li>\n",
        "    <li><a href=\"https://#ref4\">Grid Search</a></li>\n",
        "</ul>\n"
      ]
    },
    {
      "cell_type": "markdown",
      "metadata": {
        "id": "MnNhRH0vJS5C"
      },
      "source": [
        "This dataset was hosted on IBM Cloud object. Click <a href=\"https://cocl.us/DA101EN_object_storage?utm_medium=Exinfluencer&utm_source=Exinfluencer&utm_content=000026UJ&utm_term=10006555&utm_id=NA-SkillsNetwork-Channel-SkillsNetworkCoursesIBMDeveloperSkillsNetworkDA0101ENSkillsNetwork20235326-2021-01-01\">HERE</a> for free storage.\n"
      ]
    },
    {
      "cell_type": "code",
      "execution_count": 1,
      "metadata": {
        "id": "XFXeBJt7JS5C"
      },
      "outputs": [],
      "source": [
        "#install specific version of libraries used in lab\n",
        "#! mamba install pandas==1.3.3 -y\n",
        "#! mamba install numpy=1.21.2 -y\n",
        "#! mamba install sklearn=0.20.1 -y\n",
        "#! mamba install   ipywidgets=7.4.2 -y"
      ]
    },
    {
      "cell_type": "code",
      "execution_count": 2,
      "metadata": {
        "id": "bpmKmQQXJS5D"
      },
      "outputs": [],
      "source": [
        "import pandas as pd\n",
        "import numpy as np\n",
        "\n",
        "# Import clean data \n",
        "path = 'https://cf-courses-data.s3.us.cloud-object-storage.appdomain.cloud/IBMDeveloperSkillsNetwork-DA0101EN-SkillsNetwork/labs/Data%20files/module_5_auto.csv'\n",
        "df = pd.read_csv(path)"
      ]
    },
    {
      "cell_type": "code",
      "execution_count": 3,
      "metadata": {
        "id": "nehPKP2qJS5D"
      },
      "outputs": [],
      "source": [
        "df.to_csv('module_5_auto.csv')"
      ]
    },
    {
      "cell_type": "markdown",
      "metadata": {
        "id": "W4lNDcNLJS5D"
      },
      "source": [
        "First, let's only use numeric data:\n"
      ]
    },
    {
      "cell_type": "code",
      "execution_count": 4,
      "metadata": {
        "colab": {
          "base_uri": "https://localhost:8080/",
          "height": 280
        },
        "id": "iNcsBlhLJS5D",
        "outputId": "8f7bc3f1-6781-4862-a39c-ed6ceb6a6df5"
      },
      "outputs": [
        {
          "output_type": "execute_result",
          "data": {
            "text/plain": [
              "   Unnamed: 0  Unnamed: 0.1  symboling  normalized-losses  wheel-base  \\\n",
              "0           0             0          3                122        88.6   \n",
              "1           1             1          3                122        88.6   \n",
              "2           2             2          1                122        94.5   \n",
              "3           3             3          2                164        99.8   \n",
              "4           4             4          2                164        99.4   \n",
              "\n",
              "     length     width  height  curb-weight  engine-size  ...  stroke  \\\n",
              "0  0.811148  0.890278    48.8         2548          130  ...    2.68   \n",
              "1  0.811148  0.890278    48.8         2548          130  ...    2.68   \n",
              "2  0.822681  0.909722    52.4         2823          152  ...    3.47   \n",
              "3  0.848630  0.919444    54.3         2337          109  ...    3.40   \n",
              "4  0.848630  0.922222    54.3         2824          136  ...    3.40   \n",
              "\n",
              "   compression-ratio  horsepower  peak-rpm  city-mpg  highway-mpg    price  \\\n",
              "0                9.0       111.0    5000.0        21           27  13495.0   \n",
              "1                9.0       111.0    5000.0        21           27  16500.0   \n",
              "2                9.0       154.0    5000.0        19           26  16500.0   \n",
              "3               10.0       102.0    5500.0        24           30  13950.0   \n",
              "4                8.0       115.0    5500.0        18           22  17450.0   \n",
              "\n",
              "   city-L/100km  diesel  gas  \n",
              "0     11.190476       0    1  \n",
              "1     11.190476       0    1  \n",
              "2     12.368421       0    1  \n",
              "3      9.791667       0    1  \n",
              "4     13.055556       0    1  \n",
              "\n",
              "[5 rows x 21 columns]"
            ],
            "text/html": [
              "\n",
              "  <div id=\"df-9bc95c65-f8b3-4975-9574-3b050affd894\">\n",
              "    <div class=\"colab-df-container\">\n",
              "      <div>\n",
              "<style scoped>\n",
              "    .dataframe tbody tr th:only-of-type {\n",
              "        vertical-align: middle;\n",
              "    }\n",
              "\n",
              "    .dataframe tbody tr th {\n",
              "        vertical-align: top;\n",
              "    }\n",
              "\n",
              "    .dataframe thead th {\n",
              "        text-align: right;\n",
              "    }\n",
              "</style>\n",
              "<table border=\"1\" class=\"dataframe\">\n",
              "  <thead>\n",
              "    <tr style=\"text-align: right;\">\n",
              "      <th></th>\n",
              "      <th>Unnamed: 0</th>\n",
              "      <th>Unnamed: 0.1</th>\n",
              "      <th>symboling</th>\n",
              "      <th>normalized-losses</th>\n",
              "      <th>wheel-base</th>\n",
              "      <th>length</th>\n",
              "      <th>width</th>\n",
              "      <th>height</th>\n",
              "      <th>curb-weight</th>\n",
              "      <th>engine-size</th>\n",
              "      <th>...</th>\n",
              "      <th>stroke</th>\n",
              "      <th>compression-ratio</th>\n",
              "      <th>horsepower</th>\n",
              "      <th>peak-rpm</th>\n",
              "      <th>city-mpg</th>\n",
              "      <th>highway-mpg</th>\n",
              "      <th>price</th>\n",
              "      <th>city-L/100km</th>\n",
              "      <th>diesel</th>\n",
              "      <th>gas</th>\n",
              "    </tr>\n",
              "  </thead>\n",
              "  <tbody>\n",
              "    <tr>\n",
              "      <th>0</th>\n",
              "      <td>0</td>\n",
              "      <td>0</td>\n",
              "      <td>3</td>\n",
              "      <td>122</td>\n",
              "      <td>88.6</td>\n",
              "      <td>0.811148</td>\n",
              "      <td>0.890278</td>\n",
              "      <td>48.8</td>\n",
              "      <td>2548</td>\n",
              "      <td>130</td>\n",
              "      <td>...</td>\n",
              "      <td>2.68</td>\n",
              "      <td>9.0</td>\n",
              "      <td>111.0</td>\n",
              "      <td>5000.0</td>\n",
              "      <td>21</td>\n",
              "      <td>27</td>\n",
              "      <td>13495.0</td>\n",
              "      <td>11.190476</td>\n",
              "      <td>0</td>\n",
              "      <td>1</td>\n",
              "    </tr>\n",
              "    <tr>\n",
              "      <th>1</th>\n",
              "      <td>1</td>\n",
              "      <td>1</td>\n",
              "      <td>3</td>\n",
              "      <td>122</td>\n",
              "      <td>88.6</td>\n",
              "      <td>0.811148</td>\n",
              "      <td>0.890278</td>\n",
              "      <td>48.8</td>\n",
              "      <td>2548</td>\n",
              "      <td>130</td>\n",
              "      <td>...</td>\n",
              "      <td>2.68</td>\n",
              "      <td>9.0</td>\n",
              "      <td>111.0</td>\n",
              "      <td>5000.0</td>\n",
              "      <td>21</td>\n",
              "      <td>27</td>\n",
              "      <td>16500.0</td>\n",
              "      <td>11.190476</td>\n",
              "      <td>0</td>\n",
              "      <td>1</td>\n",
              "    </tr>\n",
              "    <tr>\n",
              "      <th>2</th>\n",
              "      <td>2</td>\n",
              "      <td>2</td>\n",
              "      <td>1</td>\n",
              "      <td>122</td>\n",
              "      <td>94.5</td>\n",
              "      <td>0.822681</td>\n",
              "      <td>0.909722</td>\n",
              "      <td>52.4</td>\n",
              "      <td>2823</td>\n",
              "      <td>152</td>\n",
              "      <td>...</td>\n",
              "      <td>3.47</td>\n",
              "      <td>9.0</td>\n",
              "      <td>154.0</td>\n",
              "      <td>5000.0</td>\n",
              "      <td>19</td>\n",
              "      <td>26</td>\n",
              "      <td>16500.0</td>\n",
              "      <td>12.368421</td>\n",
              "      <td>0</td>\n",
              "      <td>1</td>\n",
              "    </tr>\n",
              "    <tr>\n",
              "      <th>3</th>\n",
              "      <td>3</td>\n",
              "      <td>3</td>\n",
              "      <td>2</td>\n",
              "      <td>164</td>\n",
              "      <td>99.8</td>\n",
              "      <td>0.848630</td>\n",
              "      <td>0.919444</td>\n",
              "      <td>54.3</td>\n",
              "      <td>2337</td>\n",
              "      <td>109</td>\n",
              "      <td>...</td>\n",
              "      <td>3.40</td>\n",
              "      <td>10.0</td>\n",
              "      <td>102.0</td>\n",
              "      <td>5500.0</td>\n",
              "      <td>24</td>\n",
              "      <td>30</td>\n",
              "      <td>13950.0</td>\n",
              "      <td>9.791667</td>\n",
              "      <td>0</td>\n",
              "      <td>1</td>\n",
              "    </tr>\n",
              "    <tr>\n",
              "      <th>4</th>\n",
              "      <td>4</td>\n",
              "      <td>4</td>\n",
              "      <td>2</td>\n",
              "      <td>164</td>\n",
              "      <td>99.4</td>\n",
              "      <td>0.848630</td>\n",
              "      <td>0.922222</td>\n",
              "      <td>54.3</td>\n",
              "      <td>2824</td>\n",
              "      <td>136</td>\n",
              "      <td>...</td>\n",
              "      <td>3.40</td>\n",
              "      <td>8.0</td>\n",
              "      <td>115.0</td>\n",
              "      <td>5500.0</td>\n",
              "      <td>18</td>\n",
              "      <td>22</td>\n",
              "      <td>17450.0</td>\n",
              "      <td>13.055556</td>\n",
              "      <td>0</td>\n",
              "      <td>1</td>\n",
              "    </tr>\n",
              "  </tbody>\n",
              "</table>\n",
              "<p>5 rows × 21 columns</p>\n",
              "</div>\n",
              "      <button class=\"colab-df-convert\" onclick=\"convertToInteractive('df-9bc95c65-f8b3-4975-9574-3b050affd894')\"\n",
              "              title=\"Convert this dataframe to an interactive table.\"\n",
              "              style=\"display:none;\">\n",
              "        \n",
              "  <svg xmlns=\"http://www.w3.org/2000/svg\" height=\"24px\"viewBox=\"0 0 24 24\"\n",
              "       width=\"24px\">\n",
              "    <path d=\"M0 0h24v24H0V0z\" fill=\"none\"/>\n",
              "    <path d=\"M18.56 5.44l.94 2.06.94-2.06 2.06-.94-2.06-.94-.94-2.06-.94 2.06-2.06.94zm-11 1L8.5 8.5l.94-2.06 2.06-.94-2.06-.94L8.5 2.5l-.94 2.06-2.06.94zm10 10l.94 2.06.94-2.06 2.06-.94-2.06-.94-.94-2.06-.94 2.06-2.06.94z\"/><path d=\"M17.41 7.96l-1.37-1.37c-.4-.4-.92-.59-1.43-.59-.52 0-1.04.2-1.43.59L10.3 9.45l-7.72 7.72c-.78.78-.78 2.05 0 2.83L4 21.41c.39.39.9.59 1.41.59.51 0 1.02-.2 1.41-.59l7.78-7.78 2.81-2.81c.8-.78.8-2.07 0-2.86zM5.41 20L4 18.59l7.72-7.72 1.47 1.35L5.41 20z\"/>\n",
              "  </svg>\n",
              "      </button>\n",
              "      \n",
              "  <style>\n",
              "    .colab-df-container {\n",
              "      display:flex;\n",
              "      flex-wrap:wrap;\n",
              "      gap: 12px;\n",
              "    }\n",
              "\n",
              "    .colab-df-convert {\n",
              "      background-color: #E8F0FE;\n",
              "      border: none;\n",
              "      border-radius: 50%;\n",
              "      cursor: pointer;\n",
              "      display: none;\n",
              "      fill: #1967D2;\n",
              "      height: 32px;\n",
              "      padding: 0 0 0 0;\n",
              "      width: 32px;\n",
              "    }\n",
              "\n",
              "    .colab-df-convert:hover {\n",
              "      background-color: #E2EBFA;\n",
              "      box-shadow: 0px 1px 2px rgba(60, 64, 67, 0.3), 0px 1px 3px 1px rgba(60, 64, 67, 0.15);\n",
              "      fill: #174EA6;\n",
              "    }\n",
              "\n",
              "    [theme=dark] .colab-df-convert {\n",
              "      background-color: #3B4455;\n",
              "      fill: #D2E3FC;\n",
              "    }\n",
              "\n",
              "    [theme=dark] .colab-df-convert:hover {\n",
              "      background-color: #434B5C;\n",
              "      box-shadow: 0px 1px 3px 1px rgba(0, 0, 0, 0.15);\n",
              "      filter: drop-shadow(0px 1px 2px rgba(0, 0, 0, 0.3));\n",
              "      fill: #FFFFFF;\n",
              "    }\n",
              "  </style>\n",
              "\n",
              "      <script>\n",
              "        const buttonEl =\n",
              "          document.querySelector('#df-9bc95c65-f8b3-4975-9574-3b050affd894 button.colab-df-convert');\n",
              "        buttonEl.style.display =\n",
              "          google.colab.kernel.accessAllowed ? 'block' : 'none';\n",
              "\n",
              "        async function convertToInteractive(key) {\n",
              "          const element = document.querySelector('#df-9bc95c65-f8b3-4975-9574-3b050affd894');\n",
              "          const dataTable =\n",
              "            await google.colab.kernel.invokeFunction('convertToInteractive',\n",
              "                                                     [key], {});\n",
              "          if (!dataTable) return;\n",
              "\n",
              "          const docLinkHtml = 'Like what you see? Visit the ' +\n",
              "            '<a target=\"_blank\" href=https://colab.research.google.com/notebooks/data_table.ipynb>data table notebook</a>'\n",
              "            + ' to learn more about interactive tables.';\n",
              "          element.innerHTML = '';\n",
              "          dataTable['output_type'] = 'display_data';\n",
              "          await google.colab.output.renderOutput(dataTable, element);\n",
              "          const docLink = document.createElement('div');\n",
              "          docLink.innerHTML = docLinkHtml;\n",
              "          element.appendChild(docLink);\n",
              "        }\n",
              "      </script>\n",
              "    </div>\n",
              "  </div>\n",
              "  "
            ]
          },
          "metadata": {},
          "execution_count": 4
        }
      ],
      "source": [
        "df=df._get_numeric_data()\n",
        "df.head()"
      ]
    },
    {
      "cell_type": "markdown",
      "metadata": {
        "id": "zgTE5jlmJS5D"
      },
      "source": [
        "Libraries for plotting:\n"
      ]
    },
    {
      "cell_type": "code",
      "execution_count": 5,
      "metadata": {
        "id": "CEwwU48mJS5E"
      },
      "outputs": [],
      "source": [
        "from ipywidgets import interact, interactive, fixed, interact_manual"
      ]
    },
    {
      "cell_type": "markdown",
      "metadata": {
        "id": "LLUWId5QJS5E"
      },
      "source": [
        "<h2>Functions for Plotting</h2>\n"
      ]
    },
    {
      "cell_type": "code",
      "execution_count": 6,
      "metadata": {
        "id": "8jkseJ9vJS5E"
      },
      "outputs": [],
      "source": [
        "def DistributionPlot(RedFunction, BlueFunction, RedName, BlueName, Title):\n",
        "    width = 12\n",
        "    height = 10\n",
        "    plt.figure(figsize=(width, height))\n",
        "\n",
        "    ax1 = sns.distplot(RedFunction, hist=False, color=\"r\", label=RedName)\n",
        "    ax2 = sns.distplot(BlueFunction, hist=False, color=\"b\", label=BlueName, ax=ax1)\n",
        "\n",
        "    plt.title(Title)\n",
        "    plt.xlabel('Price (in dollars)')\n",
        "    plt.ylabel('Proportion of Cars')\n",
        "\n",
        "    plt.show()\n",
        "    plt.close()"
      ]
    },
    {
      "cell_type": "code",
      "execution_count": 7,
      "metadata": {
        "id": "TVRm4dOQJS5E"
      },
      "outputs": [],
      "source": [
        "def PollyPlot(xtrain, xtest, y_train, y_test, lr,poly_transform):\n",
        "    width = 12\n",
        "    height = 10\n",
        "    plt.figure(figsize=(width, height))\n",
        "    \n",
        "    \n",
        "    #training data \n",
        "    #testing data \n",
        "    # lr:  linear regression object \n",
        "    #poly_transform:  polynomial transformation object \n",
        " \n",
        "    xmax=max([xtrain.values.max(), xtest.values.max()])\n",
        "\n",
        "    xmin=min([xtrain.values.min(), xtest.values.min()])\n",
        "\n",
        "    x=np.arange(xmin, xmax, 0.1)\n",
        "\n",
        "\n",
        "    plt.plot(xtrain, y_train, 'ro', label='Training Data')\n",
        "    plt.plot(xtest, y_test, 'go', label='Test Data')\n",
        "    plt.plot(x, lr.predict(poly_transform.fit_transform(x.reshape(-1, 1))), label='Predicted Function')\n",
        "    plt.ylim([-10000, 60000])\n",
        "    plt.ylabel('Price')\n",
        "    plt.legend()"
      ]
    },
    {
      "cell_type": "markdown",
      "metadata": {
        "id": "fbTed4vMJS5E"
      },
      "source": [
        "<h2 id=\"ref1\">Part 1: Training and Testing</h2>\n",
        "\n",
        "<p>An important step in testing your model is to split your data into training and testing data. We will place the target data <b>price</b> in a separate dataframe <b>y_data</b>:</p>\n"
      ]
    },
    {
      "cell_type": "code",
      "execution_count": 8,
      "metadata": {
        "id": "tliJeZZfJS5E"
      },
      "outputs": [],
      "source": [
        "y_data = df['price']"
      ]
    },
    {
      "cell_type": "markdown",
      "metadata": {
        "id": "AE-iK0LFJS5F"
      },
      "source": [
        "Drop price data in dataframe **x_data**:\n"
      ]
    },
    {
      "cell_type": "code",
      "execution_count": 9,
      "metadata": {
        "id": "Vl2GUWbtJS5F"
      },
      "outputs": [],
      "source": [
        "x_data=df.drop('price',axis=1)"
      ]
    },
    {
      "cell_type": "markdown",
      "metadata": {
        "id": "ehNlJq7YJS5F"
      },
      "source": [
        "Now, we randomly split our data into training and testing data using the function <b>train_test_split</b>.\n"
      ]
    },
    {
      "cell_type": "code",
      "execution_count": 10,
      "metadata": {
        "colab": {
          "base_uri": "https://localhost:8080/"
        },
        "id": "onrKzsbWJS5F",
        "outputId": "35221afe-d356-4027-d6fc-aae296240e5f"
      },
      "outputs": [
        {
          "output_type": "stream",
          "name": "stdout",
          "text": [
            "number of test samples : 21\n",
            "number of training samples: 180\n"
          ]
        }
      ],
      "source": [
        "from sklearn.model_selection import train_test_split\n",
        "\n",
        "\n",
        "x_train, x_test, y_train, y_test = train_test_split(x_data, y_data, test_size=0.10, random_state=1)\n",
        "\n",
        "\n",
        "print(\"number of test samples :\", x_test.shape[0])\n",
        "print(\"number of training samples:\",x_train.shape[0])\n"
      ]
    },
    {
      "cell_type": "markdown",
      "metadata": {
        "id": "ctrj-EeDJS5F"
      },
      "source": [
        "The <b>test_size</b> parameter sets the proportion of data that is split into the testing set. In the above, the testing set is 10% of the total dataset.\n"
      ]
    },
    {
      "cell_type": "markdown",
      "metadata": {
        "id": "swLeIIyEJS5G"
      },
      "source": [
        "<div class=\"alert alert-danger alertdanger\" style=\"margin-top: 20px\">\n",
        "<h1> Question  #1):</h1>\n",
        "\n",
        "<b>Use the function \"train_test_split\" to split up the dataset such that 40% of the data samples will be utilized for testing. Set the parameter \"random_state\" equal to zero. The output of the function should be the following:  \"x_train1\" , \"x_test1\", \"y_train1\" and  \"y_test1\".</b>\n",
        "\n",
        "</div>\n"
      ]
    },
    {
      "cell_type": "code",
      "execution_count": 11,
      "metadata": {
        "id": "4s7oVaokJS5G"
      },
      "outputs": [],
      "source": [
        "# Write your code below and press Shift+Enter to execute \n"
      ]
    },
    {
      "cell_type": "markdown",
      "metadata": {
        "id": "3UxxPRzqJS5G"
      },
      "source": [
        "<details><summary>Click here for the solution</summary>\n",
        "\n",
        "```python\n",
        "x_train1, x_test1, y_train1, y_test1 = train_test_split(x_data, y_data, test_size=0.4, random_state=0) \n",
        "print(\"number of test samples :\", x_test1.shape[0])\n",
        "print(\"number of training samples:\",x_train1.shape[0])\n",
        "```\n",
        "\n",
        "</details>\n"
      ]
    },
    {
      "cell_type": "markdown",
      "metadata": {
        "id": "8onGN5vzJS5G"
      },
      "source": [
        "Let's import <b>LinearRegression</b> from the module <b>linear_model</b>.\n"
      ]
    },
    {
      "cell_type": "code",
      "execution_count": 12,
      "metadata": {
        "id": "hkm1VGYKJS5G"
      },
      "outputs": [],
      "source": [
        "from sklearn.linear_model import LinearRegression"
      ]
    },
    {
      "cell_type": "markdown",
      "metadata": {
        "id": "n9yM19YfJS5G"
      },
      "source": [
        "We create a Linear Regression object:\n"
      ]
    },
    {
      "cell_type": "code",
      "execution_count": 13,
      "metadata": {
        "id": "NwsviH2HJS5G"
      },
      "outputs": [],
      "source": [
        "lre=LinearRegression()"
      ]
    },
    {
      "cell_type": "markdown",
      "metadata": {
        "id": "nvudvVZgJS5G"
      },
      "source": [
        "We fit the model using the feature \"horsepower\":\n"
      ]
    },
    {
      "cell_type": "code",
      "execution_count": 14,
      "metadata": {
        "colab": {
          "base_uri": "https://localhost:8080/"
        },
        "id": "9umd-SK6JS5G",
        "outputId": "0496b0ee-89e0-4302-f7cb-9b016c207c39"
      },
      "outputs": [
        {
          "output_type": "execute_result",
          "data": {
            "text/plain": [
              "LinearRegression()"
            ]
          },
          "metadata": {},
          "execution_count": 14
        }
      ],
      "source": [
        "lre.fit(x_train[['horsepower']], y_train)"
      ]
    },
    {
      "cell_type": "markdown",
      "metadata": {
        "id": "w3xbBZ5RJS5H"
      },
      "source": [
        "Let's calculate the R^2 on the test data:\n"
      ]
    },
    {
      "cell_type": "code",
      "execution_count": 15,
      "metadata": {
        "colab": {
          "base_uri": "https://localhost:8080/"
        },
        "id": "SEegOvfrJS5H",
        "outputId": "3d919448-2344-4a08-b17e-9e59ebc96671"
      },
      "outputs": [
        {
          "output_type": "execute_result",
          "data": {
            "text/plain": [
              "0.36358755750788263"
            ]
          },
          "metadata": {},
          "execution_count": 15
        }
      ],
      "source": [
        "lre.score(x_test[['horsepower']], y_test)"
      ]
    },
    {
      "cell_type": "markdown",
      "metadata": {
        "id": "uJO3QXy0JS5H"
      },
      "source": [
        "We can see the R^2 is much smaller using the test data compared to the training data.\n"
      ]
    },
    {
      "cell_type": "code",
      "execution_count": 16,
      "metadata": {
        "colab": {
          "base_uri": "https://localhost:8080/"
        },
        "id": "PKYBSNBKJS5H",
        "outputId": "989438cc-f7c3-46b2-f8b3-ebfb8dc4a9b3"
      },
      "outputs": [
        {
          "output_type": "execute_result",
          "data": {
            "text/plain": [
              "0.6619724197515104"
            ]
          },
          "metadata": {},
          "execution_count": 16
        }
      ],
      "source": [
        "lre.score(x_train[['horsepower']], y_train)"
      ]
    },
    {
      "cell_type": "markdown",
      "metadata": {
        "id": "P-glpJpWJS5H"
      },
      "source": [
        "<div class=\"alert alert-danger alertdanger\" style=\"margin-top: 20px\">\n",
        "<h1> Question  #2): </h1>\n",
        "<b> \n",
        "Find the R^2  on the test data using 40% of the dataset for testing.\n",
        "</b>\n",
        "</div>\n"
      ]
    },
    {
      "cell_type": "code",
      "execution_count": 17,
      "metadata": {
        "id": "SuHbeb6tJS5H"
      },
      "outputs": [],
      "source": [
        "# Write your code below and press Shift+Enter to execute \n"
      ]
    },
    {
      "cell_type": "markdown",
      "metadata": {
        "id": "40ridRkMJS5H"
      },
      "source": [
        "<details><summary>Click here for the solution</summary>\n",
        "\n",
        "```python\n",
        "x_train1, x_test1, y_train1, y_test1 = train_test_split(x_data, y_data, test_size=0.4, random_state=0)\n",
        "lre.fit(x_train1[['horsepower']],y_train1)\n",
        "lre.score(x_test1[['horsepower']],y_test1)\n",
        "\n",
        "```\n",
        "\n",
        "</details>\n"
      ]
    },
    {
      "cell_type": "markdown",
      "metadata": {
        "id": "K99lhj30JS5H"
      },
      "source": [
        "Sometimes you do not have sufficient testing data; as a result, you may want to perform cross-validation. Let's go over several methods that you can use for cross-validation.\n"
      ]
    },
    {
      "cell_type": "markdown",
      "metadata": {
        "id": "XkJ0MPsjJS5H"
      },
      "source": [
        "<h2>Cross-Validation Score</h2>\n"
      ]
    },
    {
      "cell_type": "markdown",
      "metadata": {
        "id": "xKA_9eDKJS5H"
      },
      "source": [
        "Let's import <b>model_selection</b> from the module <b>cross_val_score</b>.\n"
      ]
    },
    {
      "cell_type": "code",
      "execution_count": 18,
      "metadata": {
        "id": "b4a8cCyYJS5I"
      },
      "outputs": [],
      "source": [
        "from sklearn.model_selection import cross_val_score"
      ]
    },
    {
      "cell_type": "markdown",
      "metadata": {
        "id": "Xxi1ACieJS5I"
      },
      "source": [
        "We input the object, the feature (\"horsepower\"), and the target data (y_data). The parameter 'cv' determines the number of folds. In this case, it is 4.\n"
      ]
    },
    {
      "cell_type": "code",
      "execution_count": 19,
      "metadata": {
        "id": "M_UJnhtNJS5I"
      },
      "outputs": [],
      "source": [
        "Rcross = cross_val_score(lre, x_data[['horsepower']], y_data, cv=4)"
      ]
    },
    {
      "cell_type": "markdown",
      "metadata": {
        "id": "FMAnt8wBJS5I"
      },
      "source": [
        "The default scoring is R^2. Each element in the array has the average R^2 value for the fold:\n"
      ]
    },
    {
      "cell_type": "code",
      "execution_count": 20,
      "metadata": {
        "colab": {
          "base_uri": "https://localhost:8080/"
        },
        "id": "wzmnow88JS5I",
        "outputId": "6574205d-e9ea-4ab9-bb0f-33de003be6b8"
      },
      "outputs": [
        {
          "output_type": "execute_result",
          "data": {
            "text/plain": [
              "array([0.7746232 , 0.51716687, 0.74785353, 0.04839605])"
            ]
          },
          "metadata": {},
          "execution_count": 20
        }
      ],
      "source": [
        "Rcross"
      ]
    },
    {
      "cell_type": "markdown",
      "metadata": {
        "id": "pdLqi5KTJS5I"
      },
      "source": [
        "We can calculate the average and standard deviation of our estimate:\n"
      ]
    },
    {
      "cell_type": "code",
      "execution_count": 21,
      "metadata": {
        "colab": {
          "base_uri": "https://localhost:8080/"
        },
        "id": "h3xkTeR3JS5I",
        "outputId": "a0c06b48-5951-4e7f-faaa-9c6a7ff636ab"
      },
      "outputs": [
        {
          "output_type": "stream",
          "name": "stdout",
          "text": [
            "The mean of the folds are 0.522009915042119 and the standard deviation is 0.291183944475603\n"
          ]
        }
      ],
      "source": [
        "print(\"The mean of the folds are\", Rcross.mean(), \"and the standard deviation is\" , Rcross.std())"
      ]
    },
    {
      "cell_type": "markdown",
      "metadata": {
        "id": "srrZ0MoeJS5I"
      },
      "source": [
        "We can use negative squared error as a score by setting the parameter  'scoring' metric to 'neg_mean_squared_error'.\n"
      ]
    },
    {
      "cell_type": "code",
      "execution_count": 22,
      "metadata": {
        "colab": {
          "base_uri": "https://localhost:8080/"
        },
        "id": "czhqqm9lJS5I",
        "outputId": "3410c56e-f926-4d73-e8e6-4e5975fc0bf7"
      },
      "outputs": [
        {
          "output_type": "execute_result",
          "data": {
            "text/plain": [
              "array([20254142.84026702, 43745493.2650517 , 12539630.34014931,\n",
              "       17561927.72247591])"
            ]
          },
          "metadata": {},
          "execution_count": 22
        }
      ],
      "source": [
        "-1 * cross_val_score(lre,x_data[['horsepower']], y_data,cv=4,scoring='neg_mean_squared_error')"
      ]
    },
    {
      "cell_type": "markdown",
      "metadata": {
        "id": "jEyhdlkpJS5I"
      },
      "source": [
        "<div class=\"alert alert-danger alertdanger\" style=\"margin-top: 20px\">\n",
        "<h1> Question  #3): </h1>\n",
        "<b> \n",
        "Calculate the average R^2 using two folds, then find the average R^2 for the second fold utilizing the \"horsepower\" feature: \n",
        "</b>\n",
        "</div>\n"
      ]
    },
    {
      "cell_type": "code",
      "execution_count": 23,
      "metadata": {
        "id": "ABO4L0MdJS5I"
      },
      "outputs": [],
      "source": [
        "# Write your code below and press Shift+Enter to execute \n"
      ]
    },
    {
      "cell_type": "markdown",
      "metadata": {
        "id": "-YBtP93MJS5I"
      },
      "source": [
        "<details><summary>Click here for the solution</summary>\n",
        "\n",
        "```python\n",
        "Rc=cross_val_score(lre,x_data[['horsepower']], y_data,cv=2)\n",
        "Rc.mean()\n",
        "\n",
        "```\n",
        "\n",
        "</details>\n"
      ]
    },
    {
      "cell_type": "markdown",
      "metadata": {
        "id": "2eErQv83JS5J"
      },
      "source": [
        "You can also use the function 'cross_val_predict' to predict the output. The function splits up the data into the specified number of folds, with one fold for testing and the other folds are used for training. First, import the function:\n"
      ]
    },
    {
      "cell_type": "code",
      "execution_count": 24,
      "metadata": {
        "id": "xA0TcmUqJS5J"
      },
      "outputs": [],
      "source": [
        "from sklearn.model_selection import cross_val_predict"
      ]
    },
    {
      "cell_type": "markdown",
      "metadata": {
        "id": "7ax2xNK3JS5J"
      },
      "source": [
        "We input the object, the feature <b>\"horsepower\"</b>, and the target data <b>y_data</b>. The parameter 'cv' determines the number of folds. In this case, it is 4. We can produce an output:\n"
      ]
    },
    {
      "cell_type": "code",
      "execution_count": 25,
      "metadata": {
        "colab": {
          "base_uri": "https://localhost:8080/"
        },
        "id": "cyzItjtaJS5J",
        "outputId": "887c39b4-d7a6-48cd-bc27-5218ce1bbde0"
      },
      "outputs": [
        {
          "output_type": "execute_result",
          "data": {
            "text/plain": [
              "array([14141.63807508, 14141.63807508, 20814.29423473, 12745.03562306,\n",
              "       14762.35027598])"
            ]
          },
          "metadata": {},
          "execution_count": 25
        }
      ],
      "source": [
        "yhat = cross_val_predict(lre,x_data[['horsepower']], y_data,cv=4)\n",
        "yhat[0:5]"
      ]
    },
    {
      "cell_type": "markdown",
      "metadata": {
        "id": "KtkQRPmsJS5J"
      },
      "source": [
        "<h2 id=\"ref2\">Part 2: Overfitting, Underfitting and Model Selection</h2>\n",
        "\n",
        "<p>It turns out that the test data, sometimes referred to as the \"out of sample data\", is a much better measure of how well your model performs in the real world.  One reason for this is overfitting.\n",
        "\n",
        "Let's go over some examples. It turns out these differences are more apparent in Multiple Linear Regression and Polynomial Regression so we will explore overfitting in that context.</p>\n"
      ]
    },
    {
      "cell_type": "markdown",
      "metadata": {
        "id": "q_jr3-OEJS5J"
      },
      "source": [
        "Let's create Multiple Linear Regression objects and train the model using <b>'horsepower'</b>, <b>'curb-weight'</b>, <b>'engine-size'</b> and <b>'highway-mpg'</b> as features.\n"
      ]
    },
    {
      "cell_type": "code",
      "execution_count": 26,
      "metadata": {
        "colab": {
          "base_uri": "https://localhost:8080/"
        },
        "id": "_MIHnfBrJS5J",
        "outputId": "0c55c817-b366-438f-ae03-219d4f8fa00c"
      },
      "outputs": [
        {
          "output_type": "execute_result",
          "data": {
            "text/plain": [
              "LinearRegression()"
            ]
          },
          "metadata": {},
          "execution_count": 26
        }
      ],
      "source": [
        "lr = LinearRegression()\n",
        "lr.fit(x_train[['horsepower', 'curb-weight', 'engine-size', 'highway-mpg']], y_train)"
      ]
    },
    {
      "cell_type": "markdown",
      "metadata": {
        "id": "HJRfEBwfJS5J"
      },
      "source": [
        "Prediction using training data:\n"
      ]
    },
    {
      "cell_type": "code",
      "execution_count": 27,
      "metadata": {
        "colab": {
          "base_uri": "https://localhost:8080/"
        },
        "id": "WqN8SgM7JS5J",
        "outputId": "f450e963-6dff-4218-ad31-3a3ffd987723"
      },
      "outputs": [
        {
          "output_type": "execute_result",
          "data": {
            "text/plain": [
              "array([ 7426.6731551 , 28323.75090803, 14213.38819709,  4052.34146983,\n",
              "       34500.19124244])"
            ]
          },
          "metadata": {},
          "execution_count": 27
        }
      ],
      "source": [
        "yhat_train = lr.predict(x_train[['horsepower', 'curb-weight', 'engine-size', 'highway-mpg']])\n",
        "yhat_train[0:5]"
      ]
    },
    {
      "cell_type": "markdown",
      "metadata": {
        "id": "ZNUKNDEIJS5J"
      },
      "source": [
        "Prediction using test data:\n"
      ]
    },
    {
      "cell_type": "code",
      "execution_count": 28,
      "metadata": {
        "colab": {
          "base_uri": "https://localhost:8080/"
        },
        "id": "0y7zsvOeJS5K",
        "outputId": "335fc716-eadd-4a15-c7b3-0f0b5c8f8903"
      },
      "outputs": [
        {
          "output_type": "execute_result",
          "data": {
            "text/plain": [
              "array([11349.35089149,  5884.11059106, 11208.6928275 ,  6641.07786278,\n",
              "       15565.79920282])"
            ]
          },
          "metadata": {},
          "execution_count": 28
        }
      ],
      "source": [
        "yhat_test = lr.predict(x_test[['horsepower', 'curb-weight', 'engine-size', 'highway-mpg']])\n",
        "yhat_test[0:5]"
      ]
    },
    {
      "cell_type": "markdown",
      "metadata": {
        "id": "GSnHVILTJS5K"
      },
      "source": [
        "Let's perform some model evaluation using our training and testing data separately. First, we import the seaborn and matplotlib library for plotting.\n"
      ]
    },
    {
      "cell_type": "code",
      "execution_count": 29,
      "metadata": {
        "id": "9VG4ulEGJS5K"
      },
      "outputs": [],
      "source": [
        "import matplotlib.pyplot as plt\n",
        "%matplotlib inline\n",
        "import seaborn as sns"
      ]
    },
    {
      "cell_type": "markdown",
      "metadata": {
        "id": "BezpUxbdJS5K"
      },
      "source": [
        "Let's examine the distribution of the predicted values of the training data.\n"
      ]
    },
    {
      "cell_type": "code",
      "execution_count": 30,
      "metadata": {
        "colab": {
          "base_uri": "https://localhost:8080/",
          "height": 710
        },
        "id": "cz0gl592JS5K",
        "outputId": "b2f07702-f3d7-4fc3-a209-12e29e66aa0e"
      },
      "outputs": [
        {
          "output_type": "stream",
          "name": "stderr",
          "text": [
            "/usr/local/lib/python3.7/dist-packages/seaborn/distributions.py:2619: FutureWarning: `distplot` is a deprecated function and will be removed in a future version. Please adapt your code to use either `displot` (a figure-level function with similar flexibility) or `kdeplot` (an axes-level function for kernel density plots).\n",
            "  warnings.warn(msg, FutureWarning)\n",
            "/usr/local/lib/python3.7/dist-packages/seaborn/distributions.py:2619: FutureWarning: `distplot` is a deprecated function and will be removed in a future version. Please adapt your code to use either `displot` (a figure-level function with similar flexibility) or `kdeplot` (an axes-level function for kernel density plots).\n",
            "  warnings.warn(msg, FutureWarning)\n"
          ]
        },
        {
          "output_type": "display_data",
          "data": {
            "text/plain": [
              "<Figure size 864x720 with 1 Axes>"
            ],
            "image/png": "[encoded data removed]"
          },
          "metadata": {
            "needs_background": "light"
          }
        }
      ],
      "source": [
        "Title = 'Distribution  Plot of  Predicted Value Using Training Data vs Train Data Distribution'\n",
        "DistributionPlot(y_train, yhat_train, \"Actual Values (Train)\", \"Predicted Values (Train)\", Title)"
      ]
    },
    {
      "cell_type": "markdown",
      "metadata": {
        "id": "dlR4GG73JS5K"
      },
      "source": [
        "Figure 1: Plot of predicted values using the training data compared to the actual values of the training data.\n"
      ]
    },
    {
      "cell_type": "markdown",
      "metadata": {
        "id": "tY8z19wpJS5K"
      },
      "source": [
        "So far, the model seems to be doing well in learning from the training dataset. But what happens when the model encounters new data from the testing dataset? When the model generates new values from the test data, we see the distribution of the predicted values is much different from the actual target values.\n"
      ]
    },
    {
      "cell_type": "code",
      "execution_count": 31,
      "metadata": {
        "colab": {
          "base_uri": "https://localhost:8080/",
          "height": 710
        },
        "id": "QmUj-0EcJS5K",
        "outputId": "b457dcfe-0222-4062-b772-0c50d1168cb0"
      },
      "outputs": [
        {
          "output_type": "stream",
          "name": "stderr",
          "text": [
            "/usr/local/lib/python3.7/dist-packages/seaborn/distributions.py:2619: FutureWarning: `distplot` is a deprecated function and will be removed in a future version. Please adapt your code to use either `displot` (a figure-level function with similar flexibility) or `kdeplot` (an axes-level function for kernel density plots).\n",
            "  warnings.warn(msg, FutureWarning)\n",
            "/usr/local/lib/python3.7/dist-packages/seaborn/distributions.py:2619: FutureWarning: `distplot` is a deprecated function and will be removed in a future version. Please adapt your code to use either `displot` (a figure-level function with similar flexibility) or `kdeplot` (an axes-level function for kernel density plots).\n",
            "  warnings.warn(msg, FutureWarning)\n"
          ]
        },
        {
          "output_type": "display_data",
          "data": {
            "text/plain": [
              "<Figure size 864x720 with 1 Axes>"
            ],
            "image/png": "[encoded data removed]"
          },
          "metadata": {
            "needs_background": "light"
          }
        }
      ],
      "source": [
        "Title='Distribution  Plot of  Predicted Value Using Test Data vs Data Distribution of Test Data'\n",
        "DistributionPlot(y_test,yhat_test,\"Actual Values (Test)\",\"Predicted Values (Test)\",Title)"
      ]
    },
    {
      "cell_type": "markdown",
      "metadata": {
        "id": "1dv_bLQQJS5K"
      },
      "source": [
        "Figure 2: Plot of predicted value using the test data compared to the actual values of the test data.\n"
      ]
    },
    {
      "cell_type": "markdown",
      "metadata": {
        "id": "VDIVLZLPJS5K"
      },
      "source": [
        "<p>Comparing Figure 1 and Figure 2, it is evident that the distribution of the test data in Figure 1 is much better at fitting the data. This difference in Figure 2 is apparent in the range of 5000 to 15,000. This is where the shape of the distribution is extremely different. Let's see if polynomial regression also exhibits a drop in the prediction accuracy when analysing the test dataset.</p>\n"
      ]
    },
    {
      "cell_type": "code",
      "execution_count": 32,
      "metadata": {
        "id": "DZU3plhrJS5K"
      },
      "outputs": [],
      "source": [
        "from sklearn.preprocessing import PolynomialFeatures"
      ]
    },
    {
      "cell_type": "markdown",
      "metadata": {
        "id": "J9vEu1qHJS5L"
      },
      "source": [
        "<h4>Overfitting</h4>\n",
        "<p>Overfitting occurs when the model fits the noise, but not the underlying process. Therefore, when testing your model using the test set, your model does not perform as well since it is modelling noise, not the underlying process that generated the relationship. Let's create a degree 5 polynomial model.</p>\n"
      ]
    },
    {
      "cell_type": "markdown",
      "metadata": {
        "id": "koHmV7Y0JS5L"
      },
      "source": [
        "Let's use 55 percent of the data for training and the rest for testing:\n"
      ]
    },
    {
      "cell_type": "code",
      "execution_count": 33,
      "metadata": {
        "id": "_s2w9QqoJS5L"
      },
      "outputs": [],
      "source": [
        "x_train, x_test, y_train, y_test = train_test_split(x_data, y_data, test_size=0.45, random_state=0)"
      ]
    },
    {
      "cell_type": "markdown",
      "metadata": {
        "id": "MO-Jn4sJJS5L"
      },
      "source": [
        "We will perform a degree 5 polynomial transformation on the feature <b>'horsepower'</b>.\n"
      ]
    },
    {
      "cell_type": "code",
      "execution_count": 34,
      "metadata": {
        "colab": {
          "base_uri": "https://localhost:8080/"
        },
        "id": "W7sWoktcJS5L",
        "outputId": "c6f8b4b8-69c8-4d95-b6c6-d672097df583"
      },
      "outputs": [
        {
          "output_type": "execute_result",
          "data": {
            "text/plain": [
              "PolynomialFeatures(degree=5)"
            ]
          },
          "metadata": {},
          "execution_count": 34
        }
      ],
      "source": [
        "pr = PolynomialFeatures(degree=5)\n",
        "x_train_pr = pr.fit_transform(x_train[['horsepower']])\n",
        "x_test_pr = pr.fit_transform(x_test[['horsepower']])\n",
        "pr"
      ]
    },
    {
      "cell_type": "markdown",
      "metadata": {
        "id": "DLorifxuJS5L"
      },
      "source": [
        "Now, let's create a Linear Regression model \"poly\" and train it.\n"
      ]
    },
    {
      "cell_type": "code",
      "execution_count": 35,
      "metadata": {
        "colab": {
          "base_uri": "https://localhost:8080/"
        },
        "id": "zDHwz9TxJS5L",
        "outputId": "c3520360-c272-492b-cb01-eb0712f634ab"
      },
      "outputs": [
        {
          "output_type": "execute_result",
          "data": {
            "text/plain": [
              "LinearRegression()"
            ]
          },
          "metadata": {},
          "execution_count": 35
        }
      ],
      "source": [
        "poly = LinearRegression()\n",
        "poly.fit(x_train_pr, y_train)"
      ]
    },
    {
      "cell_type": "markdown",
      "metadata": {
        "id": "FevT5QZPJS5L"
      },
      "source": [
        "We can see the output of our model using the method \"predict.\" We assign the values to \"yhat\".\n"
      ]
    },
    {
      "cell_type": "code",
      "execution_count": 36,
      "metadata": {
        "colab": {
          "base_uri": "https://localhost:8080/"
        },
        "id": "vzco5Qz6JS5L",
        "outputId": "48e643c1-0b5f-4f55-f60d-5270c813a043"
      },
      "outputs": [
        {
          "output_type": "execute_result",
          "data": {
            "text/plain": [
              "array([ 6728.65561887,  7307.98782321, 12213.78770965, 18893.24804015,\n",
              "       19995.95195136])"
            ]
          },
          "metadata": {},
          "execution_count": 36
        }
      ],
      "source": [
        "yhat = poly.predict(x_test_pr)\n",
        "yhat[0:5]"
      ]
    },
    {
      "cell_type": "markdown",
      "metadata": {
        "id": "8sYlVf2GJS5L"
      },
      "source": [
        "Let's take the first five predicted values and compare it to the actual targets.\n"
      ]
    },
    {
      "cell_type": "code",
      "execution_count": 37,
      "metadata": {
        "colab": {
          "base_uri": "https://localhost:8080/"
        },
        "id": "oC4uEw7oJS5L",
        "outputId": "f92fb52e-f8ec-433e-e11c-5f6524da1e81"
      },
      "outputs": [
        {
          "output_type": "stream",
          "name": "stdout",
          "text": [
            "Predicted values: [ 6728.65561887  7307.98782321 12213.78770965 18893.24804015]\n",
            "True values: [ 6295. 10698. 13860. 13499.]\n"
          ]
        }
      ],
      "source": [
        "print(\"Predicted values:\", yhat[0:4])\n",
        "print(\"True values:\", y_test[0:4].values)"
      ]
    },
    {
      "cell_type": "markdown",
      "metadata": {
        "id": "6a6z0wC_JS5L"
      },
      "source": [
        "We will use the function \"PollyPlot\" that we defined at the beginning of the lab to display the training data, testing data, and the predicted function.\n"
      ]
    },
    {
      "cell_type": "code",
      "execution_count": 38,
      "metadata": {
        "colab": {
          "base_uri": "https://localhost:8080/",
          "height": 595
        },
        "id": "byEXHXRlJS5L",
        "outputId": "a789afea-bee9-4f30-bd77-3f594b1bb87c"
      },
      "outputs": [
        {
          "output_type": "display_data",
          "data": {
            "text/plain": [
              "<Figure size 864x720 with 1 Axes>"
            ],
            "image/png": "[encoded data removed]"
          },
          "metadata": {
            "needs_background": "light"
          }
        }
      ],
      "source": [
        "PollyPlot(x_train[['horsepower']], x_test[['horsepower']], y_train, y_test, poly,pr)"
      ]
    },
    {
      "cell_type": "markdown",
      "metadata": {
        "id": "hWe7u9VaJS5M"
      },
      "source": [
        "Figure 3: A polynomial regression model where red dots represent training data, green dots represent test data, and the blue line represents the model prediction.\n"
      ]
    },
    {
      "cell_type": "markdown",
      "metadata": {
        "id": "qKwOFjKzJS5M"
      },
      "source": [
        "We see that the estimated function appears to track the data but around 200 horsepower, the function begins to diverge from the data points.\n"
      ]
    },
    {
      "cell_type": "markdown",
      "metadata": {
        "id": "Q67ECxBIJS5M"
      },
      "source": [
        "R^2 of the training data:\n"
      ]
    },
    {
      "cell_type": "code",
      "execution_count": 39,
      "metadata": {
        "colab": {
          "base_uri": "https://localhost:8080/"
        },
        "id": "pg6hbJnpJS5M",
        "outputId": "d083fd63-0636-4156-cc8b-33931ba4bcdd"
      },
      "outputs": [
        {
          "output_type": "execute_result",
          "data": {
            "text/plain": [
              "0.556771690212023"
            ]
          },
          "metadata": {},
          "execution_count": 39
        }
      ],
      "source": [
        "poly.score(x_train_pr, y_train)"
      ]
    },
    {
      "cell_type": "markdown",
      "metadata": {
        "id": "8Llf7EjaJS5M"
      },
      "source": [
        "R^2 of the test data:\n"
      ]
    },
    {
      "cell_type": "code",
      "execution_count": 40,
      "metadata": {
        "colab": {
          "base_uri": "https://localhost:8080/"
        },
        "id": "lr8fakMTJS5M",
        "outputId": "712ff06c-0481-42f1-9503-139aac7f4bec"
      },
      "outputs": [
        {
          "output_type": "execute_result",
          "data": {
            "text/plain": [
              "-29.87134030204415"
            ]
          },
          "metadata": {},
          "execution_count": 40
        }
      ],
      "source": [
        "poly.score(x_test_pr, y_test)"
      ]
    },
    {
      "cell_type": "markdown",
      "metadata": {
        "id": "g1Yflq3qJS5M"
      },
      "source": [
        "We see the R^2 for the training data is 0.5567 while the R^2 on the test data was -29.87.  The lower the R^2, the worse the model. A negative R^2 is a sign of overfitting.\n"
      ]
    },
    {
      "cell_type": "markdown",
      "metadata": {
        "id": "F05G2zwzJS5M"
      },
      "source": [
        "Let's see how the R^2 changes on the test data for different order polynomials and then plot the results:\n"
      ]
    },
    {
      "cell_type": "code",
      "source": [
        "pr = PolynomialFeatures(degree=2)\n",
        "\n",
        "x_train_pr = pr.fit_transform(x_train[['horsepower']])\n",
        "\n",
        "x_test_pr = pr.fit_transform(x_test[['horsepower']])    \n",
        "\n",
        "lr.fit(x_train_pr, y_train)\n",
        "yhat_test=lr.predict(x_test_pr)\n",
        "yhat_train=lr.predict(x_train_pr)\n",
        "mse_test= [mean_squared_error(y_test, yhat_test)]\n",
        "mse_train = mean_squared_error(y_train, yhat_train)\n",
        "mse_test.append(mse_test)\n",
        "mse_test"
      ],
      "metadata": {
        "colab": {
          "base_uri": "https://localhost:8080/"
        },
        "id": "DC7u7D3llJGj",
        "outputId": "21f54939-3deb-4244-b92c-b1e27107e59a"
      },
      "execution_count": 73,
      "outputs": [
        {
          "output_type": "execute_result",
          "data": {
            "text/plain": [
              "[19384813.73387167, [...]]"
            ]
          },
          "metadata": {},
          "execution_count": 73
        }
      ]
    },
    {
      "cell_type": "code",
      "source": [
        "mse_train"
      ],
      "metadata": {
        "colab": {
          "base_uri": "https://localhost:8080/"
        },
        "id": "0xsX3c_Hm521",
        "outputId": "8b9bdb3d-fc36-4173-9c37-21e18e511b10"
      },
      "execution_count": 83,
      "outputs": [
        {
          "output_type": "execute_result",
          "data": {
            "text/plain": [
              "18887620.795877356"
            ]
          },
          "metadata": {},
          "execution_count": 83
        }
      ]
    },
    {
      "cell_type": "code",
      "execution_count": 105,
      "metadata": {
        "colab": {
          "base_uri": "https://localhost:8080/",
          "height": 464
        },
        "id": "aYduTwt4JS5M",
        "outputId": "26d82a3e-cb9f-4948-bdd3-36237e9ca871"
      },
      "outputs": [
        {
          "output_type": "stream",
          "name": "stdout",
          "text": [
            "19988273.01445338 order = 1\n",
            "19384813.73387167 order = 2\n",
            "19382231.80812441 order = 3\n",
            "44357224.06312792 order = 4\n",
            "2306871965.449303 order = 5\n",
            "87294034014.4288 order = 6\n",
            "287708991806.40375 order = 7\n",
            "912142400316.5181 order = 8\n",
            "2734860254137.166 order = 9\n",
            "7403793708756.469 order = 10\n"
          ]
        },
        {
          "output_type": "display_data",
          "data": {
            "text/plain": [
              "<Figure size 432x288 with 2 Axes>"
            ],
            "image/png": "[encoded data removed]"
          },
          "metadata": {
            "needs_background": "light"
          }
        }
      ],
      "source": [
        "from sklearn.metrics import mean_squared_error\n",
        "from sklearn.preprocessing import StandardScaler\n",
        "mse_test_list = []\n",
        "mse_train_list = []\n",
        "order = [1, 2, 3, 4, 5, 6, 7, 8, 9, 10]\n",
        "for n in order:\n",
        "    #polynomial transformation\n",
        "    pr = PolynomialFeatures(degree=n)\n",
        "    x_train_pr = pr.fit_transform(x_train[['horsepower']])+\n",
        "    x_test_pr = pr.fit_transform(x_test[['horsepower']])    \n",
        "    \n",
        "    lr.fit(x_train_pr, y_train) #estimate optimal model parameters\n",
        "    yhat_test=lr.predict(x_test_pr) #make predictions using model params for test y\n",
        "    yhat_train=lr.predict(x_train_pr) #make predictions using model params for training y\n",
        "    mse_test= mean_squared_error(y_test, yhat_test) #calculate MSE for test set\n",
        "    mse_train = mean_squared_error(y_train, yhat_train) #calculate MSE for training set\n",
        "    mse_test_list.append(mse_test) #append to list\n",
        "    mse_train_list.append(mse_train) #append to list\n",
        "    print(str(mse_test)+' '+'order = '+str(n))\n",
        "\n",
        "# plot using two axis - this eliminates visual problems of different scales, should it exist\n",
        "fig, ax1 = plt.subplots() \n",
        "  \n",
        "ax1.set_xlabel('Order') \n",
        "ax1.set_ylabel('MSE_train', color = 'red') \n",
        "ax1.plot(order, mse_train_list, color = 'red') \n",
        "ax1.tick_params(axis ='y', labelcolor = 'red') \n",
        "  \n",
        "# Adding Twin Axes\n",
        "\n",
        "ax2 = ax1.twinx() \n",
        "  \n",
        "ax2.set_ylabel('MSE_test', color = 'blue') \n",
        "ax2.plot(order, mse_test_list, color = 'blue') \n",
        "ax2.tick_params(axis ='y', labelcolor = 'blue') \n",
        " \n",
        "# Show plot\n",
        "\n",
        "plt.show()\n",
        "\n",
        "\n",
        "   "
      ]
    },
    {
      "cell_type": "markdown",
      "metadata": {
        "id": "HHsYgXV7JS5M"
      },
      "source": [
        "We see the R^2 gradually increases until an order three polynomial is used. Then, the R^2 dramatically decreases at an order four polynomial.\n"
      ]
    },
    {
      "cell_type": "markdown",
      "metadata": {
        "id": "bmKS967ZJS5M"
      },
      "source": [
        "The following function will be used in the next section. Please run the cell below.\n"
      ]
    },
    {
      "cell_type": "code",
      "execution_count": 42,
      "metadata": {
        "id": "idoZwVeiJS5M"
      },
      "outputs": [],
      "source": [
        "def f(order, test_data):\n",
        "    x_train, x_test, y_train, y_test = train_test_split(x_data, y_data, test_size=test_data, random_state=0)\n",
        "    pr = PolynomialFeatures(degree=order)\n",
        "    x_train_pr = pr.fit_transform(x_train[['horsepower']])\n",
        "    x_test_pr = pr.fit_transform(x_test[['horsepower']])\n",
        "    poly = LinearRegression()\n",
        "    poly.fit(x_train_pr,y_train)\n",
        "    PollyPlot(x_train[['horsepower']], x_test[['horsepower']], y_train,y_test, poly, pr)"
      ]
    },
    {
      "cell_type": "markdown",
      "metadata": {
        "id": "rxZufAT1JS5N"
      },
      "source": [
        "The following interface allows you to experiment with different polynomial orders and different amounts of data.\n"
      ]
    },
    {
      "cell_type": "code",
      "execution_count": 106,
      "metadata": {
        "colab": {
          "base_uri": "https://localhost:8080/",
          "height": 676,
          "referenced_widgets": [
            "07a224c66ff94d6d99262a4431d572c4",
            "74f634ff46094bf5b78d0488a67a9eb1",
            "82712de9090141bfa7cd489d8db29a04",
            "72e8bb1a642f45f4ac4ac9f13cb38660",
            "c8034bbc301a4416891d6473e725fa92",
            "887ea3760aac43f691d72fec0fa90acb",
            "92c3e1e66c624a8ba021447db217cdac",
            "efaf69d416924c2fa1cf692d5f70885e",
            "c40f1099566247258881d544c511df90",
            "31e6057a4a1347cf85cf86aa2762d61a"
          ]
        },
        "id": "kzXeFidHJS5N",
        "outputId": "2e8d5495-fd7b-49f3-92cf-96aa49503c27"
      },
      "outputs": [
        {
          "output_type": "display_data",
          "data": {
            "text/plain": [
              "interactive(children=(IntSlider(value=3, description='order', max=6), FloatSlider(value=0.45, description='tes…"
            ],
            "application/vnd.jupyter.widget-view+json": {
              "version_major": 2,
              "version_minor": 0,
              "model_id": "07a224c66ff94d6d99262a4431d572c4"
            }
          },
          "metadata": {}
        },
        {
          "output_type": "execute_result",
          "data": {
            "text/plain": [
              "<function __main__.f>"
            ]
          },
          "metadata": {},
          "execution_count": 106
        }
      ],
      "source": [
        "interact(f, order=(0, 6, 1), test_data=(0.05, 0.95, 0.05))"
      ]
    },
    {
      "cell_type": "markdown",
      "metadata": {
        "id": "SHMXV6p6JS5N"
      },
      "source": [
        "<div class=\"alert alert-danger alertdanger\" style=\"margin-top: 20px\">\n",
        "<h1> Question  #4a):</h1>\n",
        "\n",
        "<b>We can perform polynomial transformations with more than one feature. Create a \"PolynomialFeatures\" object \"pr1\" of degree two.</b>\n",
        "\n",
        "</div>\n"
      ]
    },
    {
      "cell_type": "code",
      "execution_count": 44,
      "metadata": {
        "id": "fdcpR4zFJS5N"
      },
      "outputs": [],
      "source": [
        "# Write your code below and press Shift+Enter to execute \n"
      ]
    },
    {
      "cell_type": "markdown",
      "metadata": {
        "id": "fyVRSMXSJS5N"
      },
      "source": [
        "<details><summary>Click here for the solution</summary>\n",
        "\n",
        "```python\n",
        "pr1=PolynomialFeatures(degree=2)\n",
        "\n",
        "```\n",
        "\n",
        "</details>\n"
      ]
    },
    {
      "cell_type": "markdown",
      "metadata": {
        "id": "VqaewHH9JS5N"
      },
      "source": [
        "<div class=\"alert alert-danger alertdanger\" style=\"margin-top: 20px\">\n",
        "<h1> Question  #4b): </h1>\n",
        "\n",
        "<b> \n",
        " Transform the training and testing samples for the features 'horsepower', 'curb-weight', 'engine-size' and 'highway-mpg'. Hint: use the method \"fit_transform\".</b>\n",
        "</div>\n"
      ]
    },
    {
      "cell_type": "code",
      "execution_count": 45,
      "metadata": {
        "id": "Ewg2LSClJS5N"
      },
      "outputs": [],
      "source": [
        "# Write your code below and press Shift+Enter to execute \n"
      ]
    },
    {
      "cell_type": "markdown",
      "metadata": {
        "id": "ftWOWuPhJS5N"
      },
      "source": [
        "<details><summary>Click here for the solution</summary>\n",
        "\n",
        "```python\n",
        "x_train_pr1=pr1.fit_transform(x_train[['horsepower', 'curb-weight', 'engine-size', 'highway-mpg']])\n",
        "\n",
        "x_test_pr1=pr1.fit_transform(x_test[['horsepower', 'curb-weight', 'engine-size', 'highway-mpg']])\n",
        "\n",
        "\n",
        "```\n",
        "\n",
        "</details>\n"
      ]
    },
    {
      "cell_type": "markdown",
      "metadata": {
        "id": "yA_HXVUqJS5N"
      },
      "source": [
        "<!-- The answer is below:\n",
        "\n",
        "x_train_pr1=pr.fit_transform(x_train[['horsepower', 'curb-weight', 'engine-size', 'highway-mpg']])\n",
        "x_test_pr1=pr.fit_transform(x_test[['horsepower', 'curb-weight', 'engine-size', 'highway-mpg']])\n",
        "\n",
        "-->\n"
      ]
    },
    {
      "cell_type": "markdown",
      "metadata": {
        "id": "kvgU_1FtJS5N"
      },
      "source": [
        "<div class=\"alert alert-danger alertdanger\" style=\"margin-top: 20px\">\n",
        "<h1> Question  #4c): </h1>\n",
        "<b> \n",
        "How many dimensions does the new feature have? Hint: use the attribute \"shape\".\n",
        "</b>\n",
        "</div>\n"
      ]
    },
    {
      "cell_type": "code",
      "execution_count": 46,
      "metadata": {
        "id": "bL5HIomgJS5O"
      },
      "outputs": [],
      "source": [
        "# Write your code below and press Shift+Enter to execute \n"
      ]
    },
    {
      "cell_type": "markdown",
      "metadata": {
        "id": "DSLbTUa8JS5O"
      },
      "source": [
        "<details><summary>Click here for the solution</summary>\n",
        "\n",
        "```python\n",
        "x_train_pr1.shape #there are now 15 features\n",
        "\n",
        "\n",
        "```\n",
        "\n",
        "</details>\n"
      ]
    },
    {
      "cell_type": "markdown",
      "metadata": {
        "id": "bkO41_lxJS5O"
      },
      "source": [
        "<div class=\"alert alert-danger alertdanger\" style=\"margin-top: 20px\">\n",
        "<h1> Question  #4d): </h1>\n",
        "\n",
        "<b> \n",
        "Create a linear regression model \"poly1\". Train the object using the method \"fit\" using the polynomial features.</b>\n",
        "</div>\n"
      ]
    },
    {
      "cell_type": "code",
      "execution_count": 47,
      "metadata": {
        "id": "mWHfS0M8JS5O"
      },
      "outputs": [],
      "source": [
        "# Write your code below and press Shift+Enter to execute \n"
      ]
    },
    {
      "cell_type": "markdown",
      "metadata": {
        "id": "MOXkxgqrJS5O"
      },
      "source": [
        "<details><summary>Click here for the solution</summary>\n",
        "\n",
        "```python\n",
        "poly1=LinearRegression().fit(x_train_pr1,y_train)\n",
        "\n",
        "\n",
        "```\n",
        "\n",
        "</details>\n"
      ]
    },
    {
      "cell_type": "markdown",
      "metadata": {
        "id": "z6JpV4TqJS5O"
      },
      "source": [
        " <div class=\"alert alert-danger alertdanger\" style=\"margin-top: 20px\">\n",
        "<h1> Question  #4e): </h1>\n",
        "<b>Use the method  \"predict\" to predict an output on the polynomial features, then use the function \"DistributionPlot\" to display the distribution of the predicted test output vs. the actual test data.</b>\n",
        "</div>\n"
      ]
    },
    {
      "cell_type": "code",
      "execution_count": 48,
      "metadata": {
        "id": "Sp6igjurJS5O"
      },
      "outputs": [],
      "source": [
        "# Write your code below and press Shift+Enter to execute \n"
      ]
    },
    {
      "cell_type": "markdown",
      "metadata": {
        "id": "K_S5ltfbJS5O"
      },
      "source": [
        "<details><summary>Click here for the solution</summary>\n",
        "\n",
        "```python\n",
        "yhat_test1=poly1.predict(x_test_pr1)\n",
        "\n",
        "Title='Distribution  Plot of  Predicted Value Using Test Data vs Data Distribution of Test Data'\n",
        "\n",
        "DistributionPlot(y_test, yhat_test1, \"Actual Values (Test)\", \"Predicted Values (Test)\", Title)\n",
        "\n",
        "```\n",
        "\n",
        "</details>\n"
      ]
    },
    {
      "cell_type": "markdown",
      "metadata": {
        "id": "XJORBRj0JS5O"
      },
      "source": [
        "<div class=\"alert alert-danger alertdanger\" style=\"margin-top: 20px\">\n",
        "<h1> Question  #4f): </h1>\n",
        "\n",
        "<b>Using the distribution plot above, describe (in words) the two regions where the predicted prices are less accurate than the actual prices.</b>\n",
        "\n",
        "</div>\n"
      ]
    },
    {
      "cell_type": "code",
      "execution_count": 49,
      "metadata": {
        "id": "P5meHOe6JS5O"
      },
      "outputs": [],
      "source": [
        "# Write your code below and press Shift+Enter to execute \n"
      ]
    },
    {
      "cell_type": "markdown",
      "metadata": {
        "id": "qfiIfM6gJS5O"
      },
      "source": [
        "<details><summary>Click here for the solution</summary>\n",
        "\n",
        "```python\n",
        "#The predicted value is higher than actual value for cars where the price $10,000 range, conversely the predicted price is lower than the price cost in the $30,000 to $40,000 range. As such the model is not as accurate in these ranges.\n",
        "\n",
        "```\n",
        "\n",
        "</details>\n"
      ]
    },
    {
      "cell_type": "markdown",
      "metadata": {
        "id": "KBuz94OqJS5P"
      },
      "source": [
        "<h2 id=\"ref3\">Part 3: Ridge Regression</h2> \n"
      ]
    },
    {
      "cell_type": "markdown",
      "metadata": {
        "id": "w7xxQG1yJS5P"
      },
      "source": [
        "In this section, we will review Ridge Regression and see how the parameter alpha changes the model. Just a note, here our test data will be used as validation data.\n"
      ]
    },
    {
      "cell_type": "markdown",
      "metadata": {
        "id": "LSzbdC9_JS5P"
      },
      "source": [
        "Let's perform a degree two polynomial transformation on our data.\n"
      ]
    },
    {
      "cell_type": "code",
      "execution_count": 50,
      "metadata": {
        "id": "o53SoNC5JS5P"
      },
      "outputs": [],
      "source": [
        "pr=PolynomialFeatures(degree=2)\n",
        "x_train_pr=pr.fit_transform(x_train[['horsepower', 'curb-weight', 'engine-size', 'highway-mpg','normalized-losses','symboling']])\n",
        "x_test_pr=pr.fit_transform(x_test[['horsepower', 'curb-weight', 'engine-size', 'highway-mpg','normalized-losses','symboling']])"
      ]
    },
    {
      "cell_type": "markdown",
      "metadata": {
        "id": "cOw1PgeTJS5P"
      },
      "source": [
        "Let's import  <b>Ridge</b>  from the module <b>linear models</b>.\n"
      ]
    },
    {
      "cell_type": "code",
      "execution_count": 51,
      "metadata": {
        "id": "J1JXQQjDJS5P"
      },
      "outputs": [],
      "source": [
        "from sklearn.linear_model import Ridge"
      ]
    },
    {
      "cell_type": "markdown",
      "metadata": {
        "id": "S7s5L27-JS5P"
      },
      "source": [
        "Let's create a Ridge regression object, setting the regularization parameter (alpha) to 0.1\n"
      ]
    },
    {
      "cell_type": "code",
      "execution_count": 52,
      "metadata": {
        "id": "DJH94ZYNJS5P"
      },
      "outputs": [],
      "source": [
        "RigeModel=Ridge(alpha=1)"
      ]
    },
    {
      "cell_type": "markdown",
      "metadata": {
        "id": "v-ljmOkJJS5P"
      },
      "source": [
        "Like regular regression, you can fit the model using the method <b>fit</b>.\n"
      ]
    },
    {
      "cell_type": "code",
      "execution_count": 53,
      "metadata": {
        "colab": {
          "base_uri": "https://localhost:8080/"
        },
        "id": "W5QZHOQoJS5P",
        "outputId": "b4036f00-24a7-4550-a42a-de04f4da8264"
      },
      "outputs": [
        {
          "output_type": "execute_result",
          "data": {
            "text/plain": [
              "Ridge(alpha=1)"
            ]
          },
          "metadata": {},
          "execution_count": 53
        }
      ],
      "source": [
        "RigeModel.fit(x_train_pr, y_train)"
      ]
    },
    {
      "cell_type": "markdown",
      "metadata": {
        "id": "ekriwvQnJS5P"
      },
      "source": [
        "Similarly, you can obtain a prediction:\n"
      ]
    },
    {
      "cell_type": "code",
      "execution_count": 54,
      "metadata": {
        "id": "FKh2HroLJS5P"
      },
      "outputs": [],
      "source": [
        "yhat = RigeModel.predict(x_test_pr)"
      ]
    },
    {
      "cell_type": "markdown",
      "metadata": {
        "id": "5Ey9zH7RJS5Q"
      },
      "source": [
        "Let's compare the first five predicted samples to our test set:\n"
      ]
    },
    {
      "cell_type": "code",
      "execution_count": 55,
      "metadata": {
        "colab": {
          "base_uri": "https://localhost:8080/"
        },
        "id": "1O8Eqxp7JS5Q",
        "outputId": "34a4a9f1-b86f-4f9c-e5cb-c9980c89e3a7"
      },
      "outputs": [
        {
          "output_type": "stream",
          "name": "stdout",
          "text": [
            "predicted: [ 6570.82441941  9636.2489147  20949.92322737 19403.60313256]\n",
            "test set : [ 6295. 10698. 13860. 13499.]\n"
          ]
        }
      ],
      "source": [
        "print('predicted:', yhat[0:4])\n",
        "print('test set :', y_test[0:4].values)"
      ]
    },
    {
      "cell_type": "markdown",
      "metadata": {
        "id": "bwKb1xVcJS5Q"
      },
      "source": [
        "We select the value of alpha that minimizes the test error. To do so, we can use a for loop. We have also created a progress bar to see how many iterations we have completed so far.\n"
      ]
    },
    {
      "cell_type": "code",
      "execution_count": 56,
      "metadata": {
        "colab": {
          "base_uri": "https://localhost:8080/"
        },
        "id": "_huh0FJKJS5Q",
        "outputId": "f0f78282-95a1-4ede-ff17-2e48139ea0ec"
      },
      "outputs": [
        {
          "output_type": "stream",
          "name": "stderr",
          "text": [
            "100%|██████████| 1000/1000 [00:08<00:00, 117.23it/s, Test Score=0.564, Train Score=0.859]\n"
          ]
        }
      ],
      "source": [
        "from tqdm import tqdm\n",
        "\n",
        "Rsqu_test = []\n",
        "Rsqu_train = []\n",
        "dummy1 = []\n",
        "Alpha = 10 * np.array(range(0,1000))\n",
        "pbar = tqdm(Alpha)\n",
        "\n",
        "for alpha in pbar:\n",
        "    RigeModel = Ridge(alpha=alpha) \n",
        "    RigeModel.fit(x_train_pr, y_train)\n",
        "    test_score, train_score = RigeModel.score(x_test_pr, y_test), RigeModel.score(x_train_pr, y_train)\n",
        "    \n",
        "    pbar.set_postfix({\"Test Score\": test_score, \"Train Score\": train_score})\n",
        "\n",
        "    Rsqu_test.append(test_score)\n",
        "    Rsqu_train.append(train_score)"
      ]
    },
    {
      "cell_type": "markdown",
      "metadata": {
        "id": "_kGkgPMpJS5Q"
      },
      "source": [
        "We can plot out the value of R^2 for different alphas:\n"
      ]
    },
    {
      "cell_type": "code",
      "execution_count": 57,
      "metadata": {
        "colab": {
          "base_uri": "https://localhost:8080/",
          "height": 623
        },
        "id": "wqqX1ai6JS5Q",
        "outputId": "61972181-1f28-44ce-f560-6fa19f704305"
      },
      "outputs": [
        {
          "output_type": "execute_result",
          "data": {
            "text/plain": [
              "<matplotlib.legend.Legend at 0x7f33e993b990>"
            ]
          },
          "metadata": {},
          "execution_count": 57
        },
        {
          "output_type": "display_data",
          "data": {
            "text/plain": [
              "<Figure size 864x720 with 1 Axes>"
            ],
            "image/png": "[encoded data removed]"
          },
          "metadata": {
            "needs_background": "light"
          }
        }
      ],
      "source": [
        "width = 12\n",
        "height = 10\n",
        "plt.figure(figsize=(width, height))\n",
        "\n",
        "plt.plot(Alpha,Rsqu_test, label='validation data  ')\n",
        "plt.plot(Alpha,Rsqu_train, 'r', label='training Data ')\n",
        "plt.xlabel('alpha')\n",
        "plt.ylabel('R^2')\n",
        "plt.legend()"
      ]
    },
    {
      "cell_type": "markdown",
      "metadata": {
        "id": "v-nuMm3oJS5Q"
      },
      "source": [
        "**Figure 4**: The blue line represents the R^2 of the validation data, and the red line represents the R^2 of the training data. The x-axis represents the different values of Alpha.\n"
      ]
    },
    {
      "cell_type": "markdown",
      "metadata": {
        "id": "a6C-8sRnJS5Q"
      },
      "source": [
        "Here the model is built and tested on the same data, so the training and test data are the same.\n",
        "\n",
        "The red line in Figure 4 represents the R^2 of the training data. As alpha increases the R^2 decreases. Therefore, as alpha increases, the model performs worse on the training data\n",
        "\n",
        "The blue line represents the R^2 on the validation data. As the value for alpha increases, the R^2 increases and converges at a point.\n"
      ]
    },
    {
      "cell_type": "markdown",
      "metadata": {
        "id": "uW9zUEEMJS5Q"
      },
      "source": [
        "<div class=\"alert alert-danger alertdanger\" style=\"margin-top: 20px\">\n",
        "<h1> Question  #5): </h1>\n",
        "\n",
        "Perform Ridge regression. Calculate the R^2 using the polynomial features, use the training data to train the model and use the test data to test the model. The parameter alpha should be set to 10.\n",
        "\n",
        "</div>\n"
      ]
    },
    {
      "cell_type": "code",
      "execution_count": 58,
      "metadata": {
        "id": "mwYVqNSQJS5Q"
      },
      "outputs": [],
      "source": [
        "# Write your code below and press Shift+Enter to execute \n"
      ]
    },
    {
      "cell_type": "markdown",
      "metadata": {
        "id": "XrdFzZDlJS5R"
      },
      "source": [
        "<details><summary>Click here for the solution</summary>\n",
        "\n",
        "```python\n",
        "RigeModel = Ridge(alpha=10) \n",
        "RigeModel.fit(x_train_pr, y_train)\n",
        "RigeModel.score(x_test_pr, y_test)\n",
        "\n",
        "```\n",
        "\n",
        "</details>\n"
      ]
    },
    {
      "cell_type": "markdown",
      "metadata": {
        "id": "Q9E-s3UcJS5R"
      },
      "source": [
        "<h2 id=\"ref4\">Part 4: Grid Search</h2>\n"
      ]
    },
    {
      "cell_type": "markdown",
      "metadata": {
        "id": "WcavmkeiJS5R"
      },
      "source": [
        "The term alpha is a hyperparameter. Sklearn has the class <b>GridSearchCV</b> to make the process of finding the best hyperparameter simpler.\n"
      ]
    },
    {
      "cell_type": "markdown",
      "metadata": {
        "id": "LiNjqOtXJS5R"
      },
      "source": [
        "Let's import <b>GridSearchCV</b> from  the module <b>model_selection</b>.\n"
      ]
    },
    {
      "cell_type": "code",
      "execution_count": 59,
      "metadata": {
        "id": "EVgeYynnJS5R"
      },
      "outputs": [],
      "source": [
        "from sklearn.model_selection import GridSearchCV"
      ]
    },
    {
      "cell_type": "markdown",
      "metadata": {
        "id": "g57sqxmtJS5R"
      },
      "source": [
        "We create a dictionary of parameter values:\n"
      ]
    },
    {
      "cell_type": "code",
      "execution_count": 60,
      "metadata": {
        "colab": {
          "base_uri": "https://localhost:8080/"
        },
        "id": "OtALJEvIJS5R",
        "outputId": "5953a8ed-7147-461b-83d3-c8b69b6e96d1"
      },
      "outputs": [
        {
          "output_type": "execute_result",
          "data": {
            "text/plain": [
              "[{'alpha': [0.001, 0.1, 1, 10, 100, 1000, 10000, 100000, 100000]}]"
            ]
          },
          "metadata": {},
          "execution_count": 60
        }
      ],
      "source": [
        "parameters1= [{'alpha': [0.001,0.1,1, 10, 100, 1000, 10000, 100000, 100000]}]\n",
        "parameters1"
      ]
    },
    {
      "cell_type": "markdown",
      "metadata": {
        "id": "D9ynzz43JS5R"
      },
      "source": [
        "Create a Ridge regression object:\n"
      ]
    },
    {
      "cell_type": "code",
      "execution_count": 61,
      "metadata": {
        "colab": {
          "base_uri": "https://localhost:8080/"
        },
        "id": "a7a7XfecJS5R",
        "outputId": "4496850b-9184-49e0-eaf1-75095c247928"
      },
      "outputs": [
        {
          "output_type": "execute_result",
          "data": {
            "text/plain": [
              "Ridge()"
            ]
          },
          "metadata": {},
          "execution_count": 61
        }
      ],
      "source": [
        "RR=Ridge()\n",
        "RR"
      ]
    },
    {
      "cell_type": "markdown",
      "metadata": {
        "id": "ZxATRaBDJS5R"
      },
      "source": [
        "Create a ridge grid search object:\n"
      ]
    },
    {
      "cell_type": "code",
      "execution_count": 62,
      "metadata": {
        "colab": {
          "base_uri": "https://localhost:8080/",
          "height": 165
        },
        "id": "iMk-8ajKJS5R",
        "outputId": "61994456-e44a-42e6-9400-7cc04f97484f"
      },
      "outputs": [
        {
          "output_type": "error",
          "ename": "TypeError",
          "evalue": "ignored",
          "traceback": [
            "\u001b[0;31m---------------------------------------------------------------------------\u001b[0m",
            "\u001b[0;31mTypeError\u001b[0m                                 Traceback (most recent call last)",
            "\u001b[0;32m<ipython-input-62-7ffce3b423fa>\u001b[0m in \u001b[0;36m<module>\u001b[0;34m()\u001b[0m\n\u001b[0;32m----> 1\u001b[0;31m \u001b[0mGrid1\u001b[0m \u001b[0;34m=\u001b[0m \u001b[0mGridSearchCV\u001b[0m\u001b[0;34m(\u001b[0m\u001b[0mRR\u001b[0m\u001b[0;34m,\u001b[0m \u001b[0mparameters1\u001b[0m\u001b[0;34m,\u001b[0m\u001b[0mcv\u001b[0m\u001b[0;34m=\u001b[0m\u001b[0;36m4\u001b[0m\u001b[0;34m,\u001b[0m \u001b[0miid\u001b[0m\u001b[0;34m=\u001b[0m\u001b[0;32mNone\u001b[0m\u001b[0;34m)\u001b[0m\u001b[0;34m\u001b[0m\u001b[0;34m\u001b[0m\u001b[0m\n\u001b[0m",
            "\u001b[0;31mTypeError\u001b[0m: __init__() got an unexpected keyword argument 'iid'"
          ]
        }
      ],
      "source": [
        "Grid1 = GridSearchCV(RR, parameters1,cv=4, iid=None)"
      ]
    },
    {
      "cell_type": "markdown",
      "metadata": {
        "id": "NVtke2YmJS5R"
      },
      "source": [
        "In order to avoid a deprecation warning due to the iid parameter, we set the value of iid to \"None\".\n",
        "\n",
        "Fit the model:\n"
      ]
    },
    {
      "cell_type": "code",
      "execution_count": null,
      "metadata": {
        "id": "thGT8tGqJS5R"
      },
      "outputs": [],
      "source": [
        "Grid1.fit(x_data[['horsepower', 'curb-weight', 'engine-size', 'highway-mpg']], y_data)"
      ]
    },
    {
      "cell_type": "markdown",
      "metadata": {
        "id": "JTpoJNbtJS5S"
      },
      "source": [
        "The object finds the best parameter values on the validation data. We can obtain the estimator with the best parameters and assign it to the variable BestRR as follows:\n"
      ]
    },
    {
      "cell_type": "code",
      "execution_count": null,
      "metadata": {
        "id": "jER0VKgaJS5S"
      },
      "outputs": [],
      "source": [
        "BestRR=Grid1.best_estimator_\n",
        "BestRR"
      ]
    },
    {
      "cell_type": "markdown",
      "metadata": {
        "id": "r-QtGLGRJS5S"
      },
      "source": [
        "We now test our model on the test data:\n"
      ]
    },
    {
      "cell_type": "code",
      "execution_count": null,
      "metadata": {
        "id": "jIEvwzJvJS5S"
      },
      "outputs": [],
      "source": [
        "BestRR.score(x_test[['horsepower', 'curb-weight', 'engine-size', 'highway-mpg']], y_test)"
      ]
    },
    {
      "cell_type": "markdown",
      "metadata": {
        "id": "1wQNzbQAJS5S"
      },
      "source": [
        "<div class=\"alert alert-danger alertdanger\" style=\"margin-top: 20px\">\n",
        "<h1> Question  #6): </h1>\n",
        "Perform a grid search for the alpha parameter and the normalization parameter, then find the best values of the parameters:\n",
        "</div>\n"
      ]
    },
    {
      "cell_type": "code",
      "execution_count": null,
      "metadata": {
        "id": "-MQSgjkNJS5S"
      },
      "outputs": [],
      "source": [
        "# Write your code below and press Shift+Enter to execute \n"
      ]
    },
    {
      "cell_type": "markdown",
      "metadata": {
        "id": "Q3RLPEthJS5S"
      },
      "source": [
        "<details><summary>Click here for the solution</summary>\n",
        "\n",
        "```python\n",
        "parameters2= [{'alpha': [0.001,0.1,1, 10, 100, 1000,10000,100000,100000],'normalize':[True,False]} ]\n",
        "Grid2 = GridSearchCV(Ridge(), parameters2,cv=4)\n",
        "Grid2.fit(x_data[['horsepower', 'curb-weight', 'engine-size', 'highway-mpg']],y_data)\n",
        "Grid2.best_estimator_\n",
        "\n",
        "\n",
        "```\n",
        "\n",
        "</details>\n"
      ]
    },
    {
      "cell_type": "markdown",
      "metadata": {
        "id": "3VcAILbBJS5S"
      },
      "source": [
        "### Thank you for completing this lab!\n",
        "\n",
        "## Author\n",
        "\n",
        "<a href=\"https://www.linkedin.com/in/joseph-s-50398b136/?utm_medium=Exinfluencer&utm_source=Exinfluencer&utm_content=000026UJ&utm_term=10006555&utm_id=NA-SkillsNetwork-Channel-SkillsNetworkCoursesIBMDeveloperSkillsNetworkDA0101ENSkillsNetwork20235326-2021-01-01\" target=\"_blank\">Joseph Santarcangelo</a>\n",
        "\n",
        "### Other Contributors\n",
        "\n",
        "<a href=\"https://www.linkedin.com/in/mahdi-noorian-58219234/?utm_medium=Exinfluencer&utm_source=Exinfluencer&utm_content=000026UJ&utm_term=10006555&utm_id=NA-SkillsNetwork-Channel-SkillsNetworkCoursesIBMDeveloperSkillsNetworkDA0101ENSkillsNetwork20235326-2021-01-01\" target=\"_blank\">Mahdi Noorian PhD</a>\n",
        "\n",
        "Bahare Talayian\n",
        "\n",
        "Eric Xiao\n",
        "\n",
        "Steven Dong\n",
        "\n",
        "Parizad\n",
        "\n",
        "Hima Vasudevan\n",
        "\n",
        "<a href=\"https://www.linkedin.com/in/fiorellawever/?utm_medium=Exinfluencer&utm_source=Exinfluencer&utm_content=000026UJ&utm_term=10006555&utm_id=NA-SkillsNetwork-Channel-SkillsNetworkCoursesIBMDeveloperSkillsNetworkDA0101ENSkillsNetwork20235326-2021-01-01\" target=\"_blank\">Fiorella Wenver</a>\n",
        "\n",
        "<a href=\"https:// https://www.linkedin.com/in/yi-leng-yao-84451275/ \" target=\"_blank\" >Yi Yao</a>.\n",
        "\n",
        "## Change Log\n",
        "\n",
        "| Date (YYYY-MM-DD) | Version | Changed By | Change Description                  |\n",
        "| ----------------- | ------- | ---------- | ----------------------------------- |\n",
        "| 2020-10-30        | 2.3     | Lakshmi    | Changed URL of csv                  |\n",
        "| 2020-10-05        | 2.2     | Lakshmi    | Removed unused library imports      |\n",
        "| 2020-09-14        | 2.1     | Lakshmi    | Made changes in OverFitting section |\n",
        "| 2020-08-27        | 2.0     | Lavanya    | Moved lab to course repo in GitLab  |\n",
        "\n",
        "<hr>\n",
        "\n",
        "## <h3 align=\"center\"> © IBM Corporation 2020. All rights reserved. <h3/>\n"
      ]
    }
  ],
  "metadata": {
    "anaconda-cloud": {},
    "kernelspec": {
      "display_name": "Python 3",
      "language": "python",
      "name": "python3"
    },
    "language_info": {
      "codemirror_mode": {
        "name": "ipython",
        "version": 3
      },
      "file_extension": ".py",
      "mimetype": "text/x-python",
      "name": "python",
      "nbconvert_exporter": "python",
      "pygments_lexer": "ipython3",
      "version": "3.8.8"
    },
    "metadata": {
      "interpreter": {
        "hash": "ac2eaa0ea0ebeafcc7822e65e46aa9d4f966f30b695406963e145ea4a91cd4fc"
      }
    },
    "colab": {
      "name": "Review-Model-Evaluation-and-Refinement.ipynb",
      "provenance": []
    },
    "widgets": {
      "application/vnd.jupyter.widget-state+json": {
        "07a224c66ff94d6d99262a4431d572c4": {
          "model_module": "@jupyter-widgets/controls",
          "model_name": "VBoxModel",
          "model_module_version": "1.5.0",
          "state": {
            "_dom_classes": [
              "widget-interact"
            ],
            "_model_module": "@jupyter-widgets/controls",
            "_model_module_version": "1.5.0",
            "_model_name": "VBoxModel",
            "_view_count": null,
            "_view_module": "@jupyter-widgets/controls",
            "_view_module_version": "1.5.0",
            "_view_name": "VBoxView",
            "box_style": "",
            "children": [
              "IPY_MODEL_74f634ff46094bf5b78d0488a67a9eb1",
              "IPY_MODEL_82712de9090141bfa7cd489d8db29a04",
              "IPY_MODEL_72e8bb1a642f45f4ac4ac9f13cb38660"
            ],
            "layout": "IPY_MODEL_c8034bbc301a4416891d6473e725fa92"
          }
        },
        "74f634ff46094bf5b78d0488a67a9eb1": {
          "model_module": "@jupyter-widgets/controls",
          "model_name": "IntSliderModel",
          "model_module_version": "1.5.0",
          "state": {
            "_dom_classes": [],
            "_model_module": "@jupyter-widgets/controls",
            "_model_module_version": "1.5.0",
            "_model_name": "IntSliderModel",
            "_view_count": null,
            "_view_module": "@jupyter-widgets/controls",
            "_view_module_version": "1.5.0",
            "_view_name": "IntSliderView",
            "continuous_update": true,
            "description": "order",
            "description_tooltip": null,
            "disabled": false,
            "layout": "IPY_MODEL_887ea3760aac43f691d72fec0fa90acb",
            "max": 6,
            "min": 0,
            "orientation": "horizontal",
            "readout": true,
            "readout_format": "d",
            "step": 1,
            "style": "IPY_MODEL_92c3e1e66c624a8ba021447db217cdac",
            "value": 2
          }
        },
        "82712de9090141bfa7cd489d8db29a04": {
          "model_module": "@jupyter-widgets/controls",
          "model_name": "FloatSliderModel",
          "model_module_version": "1.5.0",
          "state": {
            "_dom_classes": [],
            "_model_module": "@jupyter-widgets/controls",
            "_model_module_version": "1.5.0",
            "_model_name": "FloatSliderModel",
            "_view_count": null,
            "_view_module": "@jupyter-widgets/controls",
            "_view_module_version": "1.5.0",
            "_view_name": "FloatSliderView",
            "continuous_update": true,
            "description": "test_data",
            "description_tooltip": null,
            "disabled": false,
            "layout": "IPY_MODEL_efaf69d416924c2fa1cf692d5f70885e",
            "max": 0.95,
            "min": 0.05,
            "orientation": "horizontal",
            "readout": true,
            "readout_format": ".2f",
            "step": 0.05,
            "style": "IPY_MODEL_c40f1099566247258881d544c511df90",
            "value": 0.45
          }
        },
        "72e8bb1a642f45f4ac4ac9f13cb38660": {
          "model_module": "@jupyter-widgets/output",
          "model_name": "OutputModel",
          "model_module_version": "1.0.0",
          "state": {
            "_dom_classes": [],
            "_model_module": "@jupyter-widgets/output",
            "_model_module_version": "1.0.0",
            "_model_name": "OutputModel",
            "_view_count": null,
            "_view_module": "@jupyter-widgets/output",
            "_view_module_version": "1.0.0",
            "_view_name": "OutputView",
            "layout": "IPY_MODEL_31e6057a4a1347cf85cf86aa2762d61a",
            "msg_id": "",
            "outputs": [
              {
                "output_type": "display_data",
                "data": {
                  "text/plain": "<Figure size 864x720 with 1 Axes>",
                  "image/png": "iVBORw0KGgoAAAANSUhEUgAAAugAAAJCCAYAAACS3TIYAAAABHNCSVQICAgIfAhkiAAAAAlwSFlzAAALEgAACxIB0t1+/AAAADh0RVh0U29mdHdhcmUAbWF0cGxvdGxpYiB2ZXJzaW9uMy4yLjIsIGh0dHA6Ly9tYXRwbG90bGliLm9yZy+WH4yJAAAgAElEQVR4nOzdeXxU1f3/8fdJAoEQCIvIPglhDwIBArILBgUX3K3atOIacdf+tLVN6/K16aO17de1AlEUtGPVr1UrVVsViWwiBEFAUAnZCCACgRAIIdv5/TGTGCCBBJLcO8nr+XjwyMyZe+98RoO+c3LO5xprrQAAAAC4Q5DTBQAAAAD4EQEdAAAAcBECOgAAAOAiBHQAAADARQjoAAAAgIsQ0AEAAAAXcTSgG2PaG2PeMsZ8Y4zZbIwZa4zpaIz52Bizxf+1g/9YY4x5xhiTboxZb4wZUeU6M/3HbzHGzKwyPtIYs8F/zjPGGOPE5wQAAABqy+kZ9Kcl/cdaO1DSMEmbJT0kaZG1tp+kRf7nknSBpH7+P4mSZkuSMaajpEcknS1ptKRHKkK9/5hbq5w3vRE+EwAAAHDKHAvoxpgISZMkzZMka22xtXa/pEslLfAftkDSZf7Hl0p6xfqslNTeGNNN0jRJH1tr86y1+yR9LGm6/7V21tqV1nc3pleqXAsAAABwpRAH37u3pN2SXjbGDJO0RtK9krpYa3f6j/leUhf/4x6StlU5P9c/dqLx3GrGj2OMSZRvVl5t2rQZOXDgwFP/VAAAAEAtrFmzZo+1tvOx404G9BBJIyTdba39whjztH5cziJJstZaY4xt6EKstSmSUiQpLi7OpqWlNfRbAgAAoJkzxmRXN+7kGvRcSbnW2i/8z9+SL7Dv8i9Pkf/rD/7Xt0vqVeX8nv6xE433rGYcAAAAcC3HArq19ntJ24wxA/xD8ZI2SXpPUkUnlpmS/uV//J6k6/3dXMZIyvcvhfmvpPONMR38m0PPl/Rf/2sHjDFj/N1brq9yLQAAAMCVnFziIkl3S/IaY1pKypB0o3w/NLxpjLlZUrakn/iP/UDShZLSJRX6j5W1Ns8Y87ik1f7j/sdam+d/fIek+ZJaS/rQ/wcAAABwLeNrcIIKrEEHAAD1raSkRLm5uSoqKnK6FDigVatW6tmzp1q0aHHUuDFmjbU27tjjnZ5BBwAAaPJyc3PVtm1bRUVFifsmNi/WWu3du1e5ubnq3bt3rc5x+kZFAAAATV5RUZE6depEOG+GjDHq1KlTnX57QkAHAABoBITz5quu/+4J6AAAAICLENABAACauL179yo2NlaxsbHq2rWrevToUfm8uLj4hOempaXpnnvuOel7jBs3rl5qTU1NVUREhIYPH64BAwZo0qRJ+ve//12r81asWFEvNTiNTaIAAABu4/VKSUlSTo7k8UjJyVJCwilfrlOnTlq3bp0k6dFHH1V4eLgeeOCBytdLS0sVElJ9LIyLi1Nc3HGNRo5Tn+F44sSJlaF83bp1uuyyy9S6dWvFx8fXeE5qaqrCw8Pr7QcFJzGDDgAA4CZer5SYKGVnS9b6viYm+sbr0Q033KBZs2bp7LPP1i9/+UutWrVKY8eO1fDhwzVu3Dh9++23knzB9+KLL5bkC/c33XSTJk+erOjoaD3zzDOV1wsPD688fvLkybrqqqs0cOBAJSQkqKKt9wcffKCBAwdq5MiRuueeeyqveyKxsbF6+OGH9dxzz0mSFi5cqLPPPlvDhw/X1KlTtWvXLmVlZWnOnDl68sknFRsbq6VLl1Z7XKBgBh0AAMBNkpKkwsKjxwoLfeOnMYtendzcXK1YsULBwcE6cOCAli5dqpCQEH3yySf6zW9+o3/+85/HnfPNN99o8eLFKigo0IABA3T77bcf19977dq1+vrrr9W9e3eNHz9ey5cvV1xcnG677TYtWbJEvXv31nXXXVfrOkeMGKE///nPkqQJEyZo5cqVMsboxRdf1BNPPKG//vWvmjVr1lG/Gdi3b1+1xwUCAjoAAICb5OTUbfw0XH311QoODpYk5efna+bMmdqyZYuMMSopKan2nIsuukihoaEKDQ3VmWeeqV27dqlnz55HHTN69OjKsdjYWGVlZSk8PFzR0dGVvcCvu+46paSk1KrOqjfWzM3N1TXXXKOdO3equLi4xt7itT3OjVjiAgAA4CYeT93GT0ObNm0qH//ud7/TlClTtHHjRi1cuLDGvt2hoaGVj4ODg1VaWnpKx9TF2rVrNWjQIEnS3XffrbvuuksbNmzQ3Llza6yztse5EQEdAADATZKTpbCwo8fCwnzjDSg/P189evSQJM2fP7/erz9gwABlZGQoKytLkvTGG2/U6rz169fr8ccf15133nlcnQsWLKg8rm3btiooKKh8XtNxgYCADgAA4CYJCVJKihQZKRnj+5qSUu/rz4/1y1/+Ur/+9a81fPjw057xrk7r1q31/PPPa/r06Ro5cqTatm2riIiIao9dunRpZZvFO++8U88880xlB5dHH31UV199tUaOHKkzzjij8pwZM2bonXfeqdwkWtNxgcBUXdMDKS4uzqalpTldBgAAaEI2b95cuUSjOTt48KDCw8NlrdWdd96pfv366f7773e6rEZR3feAMWaNtfa4HpbMoAMAAKBRvPDCC4qNjdXgwYOVn5+v2267zemSXIkuLgAAAGgU999/f7OZMT8dzKADAAAALkJABwAAAFyEgA4AAAC4CAEdAAAAcBECOgAAQBO3d+9excbGKjY2Vl27dlWPHj0qnxcXF5/0/NTUVK1YsaLa1+bPn6/OnTtr+PDh6tevn6ZNm1bjsVW9++672rRpU50/S3NAQAcAAHAZ7wavop6KUtBjQYp6KkreDd7Tul6nTp20bt06rVu3TrNmzdL9999f+bxly5YnPf9EAV2SrrnmGq1du1ZbtmzRQw89pCuuuEKbN28+4TUJ6DUjoAMAALiId4NXiQsTlZ2fLSur7PxsJS5MPO2Qfqw1a9bonHPO0ciRIzVt2jTt3LlTkvTMM88oJiZGQ4cO1bXXXqusrCzNmTNHTz75ZOVdOk9kypQpSkxMVEpKiiRf7/NRo0Zp2LBhuvLKK1VYWKgVK1bovffe04MPPqjY2Fht3bq12uOaKwI6AACAiyQtSlJhydHhtLCkUEmLkurtPay1uvvuu/XWW29pzZo1uummm5SU5Lv+H//4R61du1br16/XnDlzFBUVddSs+8SJE096/REjRuibb76RJF1xxRVavXq1vvrqKw0aNEjz5s3TuHHjdMkll+jPf/6z1q1bpz59+lR7XHPFjYoAAABcJCc/p07jp+LIkSPauHGjzjvvPElSWVmZunXrJkkaOnSoEhISdNlll+myyy47petbaysfb9y4Ub/97W+1f/9+HTx4UNOmTav2nNoe1xwQ0AEAAFzEE+FRdn52teP1xVqrwYMH6/PPPz/utffff19LlizRwoULlZycrA0bNtT5+mvXrtWgQYMkSTfccIPeffddDRs2TPPnz1dqamq159T2uOaAJS4AAAAukhyfrLAWYUeNhbUIU3J8cr29R2hoqHbv3l0Z0EtKSvT111+rvLxc27Zt05QpU/SnP/1J+fn5OnjwoNq2bauCgoJaXfuzzz5TSkqKbr31VklSQUGBunXrppKSEnm9P66jP/aaNR3XHBHQAQAAXCRhSIJSZqQoMiJSRkaREZFKmZGihCEJ9fYeQUFBeuutt/SrX/1Kw4YNU2xsrFasWKGysjL97Gc/05AhQzR8+HDdc889at++vWbMmKF33nmnxk2ib7zxhmJjY9W/f3/94Q9/0D//+c/KGfTHH39cZ599tsaPH6+BAwdWnnPttdfqz3/+s4YPH66tW7fWeFxzZKquEYIUFxdn09LSnC4DAAA0IZs3b64MrGieqvseMMassdbGHXssM+gAAACAixDQAQAAABchoAMAAAAuQkAHAAAAXISADgAAALgIAR0AAABwEQI6AABAMxAcHKzY2FidddZZuvrqq1VYWHjK17rhhhv01ltvSZJuueUWbdq0qcZjU1NTtWLFijq/R1RUlPbs2VPt+JAhQxQbG1vZv72+HFvrnDlz9Morr9Tb9WsrpNHfEQAAAI2udevWWrdunSQpISFBc+bM0S9+8YvK10tLSxUSUvdo+OKLL57w9dTUVIWHh2vcuHF1vnZNFi9erDPOOKPerlfh2FpnzZpV7+9RG8ygAwAANDMTJ05Uenq6UlNTNXHiRF1yySWKiYlRWVmZHnzwQY0aNUpDhw7V3LlzJUnWWt11110aMGCApk6dqh9++KHyWpMnT1bFTR7/85//aMSIERo2bJji4+OVlZWlOXPm6Mknn6y8C+nu3bt15ZVXatSoURo1apSWL18uSdq7d6/OP/98DR48WLfccovqcjPNqjXs2bNHUVFRkqT58+friiuu0PTp09WvXz/98pe/rDynNrU++uij+stf/iJJWrduncaMGaOhQ4fq8ssv1759+yrf+1e/+pVGjx6t/v37V3un1bpiBh0AAKARPbbwa23acaBerxnTvZ0emTG4VseWlpbqww8/1PTp0yVJX375pTZu3KjevXsrJSVFERERWr16tY4cOaLx48fr/PPP19q1a/Xtt99q06ZN2rVrl2JiYnTTTTcddd3du3fr1ltv1ZIlS9S7d2/l5eWpY8eOmjVrlsLDw/XAAw9Ikn7605/q/vvv14QJE5STk6Np06Zp8+bNeuyxxzRhwgQ9/PDDev/99zVv3rwaP8OUKVMUHBys0NBQffHFFyf8vOvWrdPatWsVGhqqAQMG6O6771arVq1qVeuiRYsqr3P99dfr2Wef1TnnnKOHH35Yjz32mJ566qnKf6arVq3SBx98oMcee0yffPJJrf5d1ISADgAA0AwcPnxYsbGxknwz6DfffLNWrFih0aNHq3fv3pKkjz76SOvXr69cX56fn68tW7ZoyZIluu666xQcHKzu3bvr3HPPPe76K1eu1KRJkyqv1bFjx2rr+OSTT45as37gwAEdPHhQS5Ys0dtvvy1Juuiii9ShQ4caP0tdlrjEx8crIiJCkhQTE6Ps7Gzt27evVrVWyM/P1/79+3XOOedIkmbOnKmrr7668vUrrrhCkjRy5EhlZWXVqq4TIaADAAA0otrOdNe3qmvQq2rTpk3lY2utnn32WU2bNu2oYz744IN6q6O8vFwrV65Uq1at6u2aISEhKi8vlyQVFRUd9VpoaGjl4+DgYJWWltbb+x77HvV1fdagAwAAQJI0bdo0zZ49WyUlJZKk7777TocOHdKkSZP0xhtvqKysTDt37tTixYuPO3fMmDFasmSJMjMzJUl5eXmSpLZt26qgoKDyuPPPP1/PPvts5fOKHxomTZqk1157TZL04YcfVq7xro2oqCitWbNGkipn/0+ktrVWiIiIUIcOHSrXl7/66quVs+kNgYAOAAAASb6WiTExMRoxYoTOOuss3XbbbSotLdXll1+ufv36KSYmRtdff73Gjh173LmdO3dWSkqKrrjiCg0bNkzXXHONJGnGjBl65513KjdePvPMM0pLS9PQoUMVExOjOXPmSJIeeeQRLVmyRIMHD9bbb78tj8dT67ofeOABzZ49W8OHD6+2NeOp1lrVggUL9OCDD2ro0KFat26dHn744VrXV1emLjtkm4O4uDhbsQsYAACgPmzevFmDBg1yugw4qLrvAWPMGmtt3LHHMoMOAAAAuAgBHQAAAHARAjoAAEAjYFlx81XXf/cEdAAAgAbWqlUr7d27l5DeDFlrtXfv3jq1laQPOgAAQAPr2bOncnNztXv3bqdLgQNatWqlnj171vp4AjoAAEADa9GiReVdK4GTYYkLAAAA4CIEdAAAAMBFCOgAAACAixDQAQAAABchoAMAAAAuQkAHAAAAXISADgAAALgIAR0AAABwEQI6AAAA4CIEdAAAAMBFCOgAAACAixDQAQAAABchoAMAAAAuQkAHAAAAXISADgAAALgIAR0AAABwEQI6AAAA4CIEdAAAAMBFCOgAAACAixDQAQAAABdxNKAbY7KMMRuMMeuMMWn+sY7GmI+NMVv8Xzv4x40x5hljTLoxZr0xZkSV68z0H7/FGDOzyvhI//XT/eeaxv+UAAAAQO25YQZ9irU21lob53/+kKRF1tp+khb5n0vSBZL6+f8kSpot+QK9pEcknS1ptKRHKkK9/5hbq5w3veE/DgAAAHDq3BDQj3WppAX+xwskXVZl/BXrs1JSe2NMN0nTJH1src2z1u6T9LGk6f7X2llrV1prraRXqlwLAAAAcCWnA7qV9JExZo0xJtE/1sVau9P/+HtJXfyPe0jaVuXcXP/YicZzqxk/jjEm0RiTZoxJ27179+l8HgAAAOC0hDj8/hOstduNMWdK+tgY803VF6211hhjG7oIa22KpBRJiouLa/D3AwAAAGri6Ay6tXa7/+sPkt6Rbw35Lv/yFPm//uA/fLukXlVO7+kfO9F4z2rGAQAAANdyLKAbY9oYY9pWPJZ0vqSNkt6TVNGJZaakf/kfvyfpen83lzGS8v1LYf4r6XxjTAf/5tDzJf3X/9oBY8wYf/eW66tcCwAAAHAlJ5e4dJH0jr/zYYik16y1/zHGrJb0pjHmZknZkn7iP/4DSRdKSpdUKOlGSbLW5hljHpe02n/c/1hr8/yP75A0X1JrSR/6/wAAAACuZXwNTlAhLi7OpqWlOV0GAAAAmjhjzJoqrcYrOd3FBQAAAEAVBHQAAADARQjoAAAAgIsQ0AEAAAAXIaADAAAALkJABwAAAFyEgA4AAAC4CAEdAAAAcBECOgAAAOAiBHQAAADARQjoAAAAgIsQ0AEAAAAXIaADAAAALkJABwAAAFyEgA4AAAC4CAEdAAAAcBECOgAAAOAiBHQAAADARQjoAAAAgIsQ0AEAAAAXIaADAAAALkJABwAAAFyEgA4AAAC4CAEdAAAAcBECOgAAAOAiBHQAAADARQjoAAAAgIsQ0AEAcJh3g1dRT0Up6LEgRT0VJe8Gr9MlAXBQiNMFAADQnHk3eJW4MFGFJYWSpOz8bCUuTJQkJQxJcLI0AA5hBh0AAAclLUqqDOcVCksKlbQoyaGKADiNgA4AgINy8nPqNA6g6SOgAwDgIE+Ep07jAJo+AjoAAA5Kjk9WWIuwo8bCWoQpOT7ZoYoAOI2ADgCAgxKGJChlRooiIyJlZBQZEamUGSlsEAWaMWOtdboGV4mLi7NpaWlOlwEAAIAmzhizxlobd+w4M+gAAACAixDQAQAAABchoAMAAAAuQkAHAAAAXISADgAAALgIAR0AAABwEQI6AAAA4CIEdAAAAMBFCOgAAACAixDQAQAAABchoAMAAAAuQkAHAAAAXISADgAAALgIAR0AAABwEQI6AAAA4CIEdAAAAMBFCOgAAACAixDQAQAAABchoAMAAAAuQkAHAAAAXISADgAAALgIAR0AAABwEQI6AAAA4CIEdAAAGpPXK0VFSUFBvq9er9MVAXCZEKcLAACg2fB6pcREqbDQ9zw72/dckhISnKsLgKswgw4AQGNJSvoxnFcoLPSNA4AfAR0AgMaSk1P9eHY2y14AVCKgAwDQWDye6seN8YV0a39c9kJIB5otAjoAAI0lOVkKCzt6zBhfMK+KZS9As0ZABwCgsSQkSCkpUmSkL5hHRh4fzivUtBwGQJNHQAcAoDElJEhZWVJ5ue9rZGT1x9W0HAZAk0dABwDASdUtewkL840DaJYI6AAAOKm6ZS8pKfRFB5oxblQEAIDTEhII5AAqOT6DbowJNsasNcb82/+8tzHmC2NMujHmDWNMS/94qP95uv/1qCrX+LV//FtjzLQq49P9Y+nGmIca+7MBAAAAdeV4QJd0r6TNVZ7/SdKT1tq+kvZJutk/frOkff7xJ/3HyRgTI+laSYMlTZf0vD/0B0v6m6QLJMVIus5/LAAAAOBajgZ0Y0xPSRdJetH/3Eg6V9Jb/kMWSLrM//hS/3P5X4/3H3+ppNettUestZmS0iWN9v9Jt9ZmWGuLJb3uPxYAAABwLadn0J+S9EtJ5f7nnSTtt9aW+p/nSurhf9xD0jZJ8r+e7z++cvyYc2oaP44xJtEYk2aMSdu9e/fpfiYAAADglDkW0I0xF0v6wVq7xqkaKlhrU6y1cdbauM6dOztdDgAAAJoxJ7u4jJd0iTHmQkmtJLWT9LSk9saYEP8seU9J2/3Hb5fUS1KuMSZEUoSkvVXGK1Q9p6ZxAAAANHN5h4plrVWn8FCnSzmKYzPo1tpfW2t7Wmuj5Nvk+am1NkHSYklX+Q+bKelf/sfv+Z/L//qn1lrrH7/W3+Wlt6R+klZJWi2pn78rTEv/e7zXCB8NAAAALpZ/uET/+9G3mvinT/WXj75zupzjuLEP+q8kvW6M+b2ktZLm+cfnSXrVGJMuKU++wC1r7dfGmDclbZJUKulOa22ZJBlj7pL0X0nBkl6y1n7dqJ8EAAAArnHoSKnmr8hSypIM5R8u0UVDuunmCVFOl3Uc45uERoW4uDiblpbmdBkAAACoJ0UlZfJ+kaPZqenac7BY8QPP1C/O76/B3SMcrcsYs8ZaG3fsuBtn0AEAAIDTdqS0TG+u3qbnFqdr14EjGtenk+b+fIBGRnZwurQTIqADAACgSSkpK9fbX+bqmUXp2r7/sEZFddBT1wzX2D6dnC6tVgjoAAAAaBLKyq3+tW67nl60Rdl7CzWsZ4T+cMUQTep3hnz3twwMBHQAAAAEtPJyqw827tRTn2xR+g8HFdOtnV68Pk7xg84MqGBegYAOAACAgGSt1cebdul/P/5O33xfoH5nhmt2wghNG9xVQUGBF8wrENABAAAQUKy1Sv1ut578+Dutz81X7zPa6OlrY3Xx0O4KDuBgXoGADgAAgICxIn2P/vLRt/oyZ796dmitJ64aqiuG91BIsGP336x3BHQAAAC43uqsPP31o2+1MiNPXdu1UvLlZ+nqkb3UMqTpBPMKBHQAAAC41rpt+/W/H3+nJd/t1hnhoXpkRoyuG+1RqxbBTpfWYAjoAAAAcJ2vd+TryY+/0yebf1CHsBb6zYUD9fMxUWrdsukG8woEdAAAALjGll0FevKT7/TBhu/VrlWIHji/v24Y31vhoc0ntjafTwoAAADXytxzSE9/8p3+9dUOtWkZonvO7aubJ0YronULp0trdAR0AAAAOGZbXqGeWbRFb6/drpbBQbptUh/dNilaHdq0dLo0xxDQAQAA0Oh25h/Ws5+m683V2xQUZDRzbJRun9xHnduGOl2a4wjoAADAFbwbvEpalKSc/Bx5IjxKjk9WwpAEp8tCPfuhoEjPL96q11blyFqr60Z7dOeUvuoa0crp0lyDgA4AQCMihFbPu8GrxIWJKiwplCRl52crcWGiJPHPp4nIO1SsuZ9t1YLPs1RSZnXViJ66O76venYIc7o01zHWWqdrcJW4uDiblpbmdBkAgCbo2BAqSWEtwpQyI6XZh9Cop6KUnZ993HhkRKSy7stq/IJQb/YXFuuFpRmavzxLhSVlujy2h+6J76eoM9o4XZrjjDFrrLVxx44zgw4AQCNJWpR0VDiXpMKSQiUtSmr2AT0nP6dO43C//MISvbgsQy8vz9Kh4lJdNKSb7pvaT33PbOt0aa5HQAcAoJEQQmvmifBUO4PuifA4UA1OR/7hEr20LFMvLctUwZFSXTikq+6N768BXQnmtUVABwCgkRBCa5Ycn1zt8p/k+GQHq0JdHCgq0cvLsjRvWYYOFJVq+uCuundqPw3q1s7p0gIOAR0AgEZCCK1ZxRIfNtAGnoNHSjV/eaZeWJqp/MMlOi+mi+6b2k+Du0c4XVrAYpPoMdgkCgBoSHRxQVNx6Eip5q/I0gtLM7S/sERTB52p+6b211k9COa1VdMmUQL6MQjoAAAANSssLtUrn2crZUmG8g4Va8qAzrpvan8N69Xe6dLqxA0/LNPFBQAAAKfscHGZ/r4yW3M+26q9h4o1qX9n3T+1n4Z7OjhdWp25ve8+AR0AAAA1KiqpCOYZ2nPwiCb2O0P3Te2vkZGBF8wruL3lKQEdAIBacMOvw4HGVFRSpn+sytHzqVu1u+CIxvXppNk/G6FRUR2dLu20ub3lKQEdAICTcPuvw4H6VFRSpjdWb9PzqenadeCIxkR31HPXDdfZ0Z2cLq3euL3laZDTBQAA4HYn+nU40FQcKS3TqyuzNeUvqXrkva8V2bGNXrv1bL2eOLZJhXPJ1/I0rEXYUWNuannKDDoAACfh9l+HA6ejuLRcb63J1XOfbtGO/CLFRXbQX64epnF9OskY43R5DcLtffcJ6ACAU+f1SklJUk6O5PFIyclSgjv+B1ef3P7rcOBUlJSV659rcvXsp+navv+whnva649XDtXEfmc02WBeVcKQBNcE8mMR0AEAp8brlRITpUL/0o/sbN9zqcmFdO4AiqaktKxcb6/drmc/3aJteYc1rFd7JV9+ls7p37lZBPNAwI2KjsGNigCglqKifKH8WJGRUlZWY1fT4OjigkBXWlaud9ft0LOfblH23kIN6RGh+8/rpykDziSYO4Q7idYSAR0AaikoSKru/yHGSOXljV8PgGqVlpXrva926NlP05W555AGd2+n+6f2V/wggrnTuJMoAKB+eTzVz6B7WJcNuEHFjPlzn25R1t5CDerWTnN/PlLnx3QhmLscAR0AcGqSk49egy5JYWG+cQCOKS0r1ztrt+u5xenK3luoGH8wP29QFwUFEcwDAQEdAHBqKjaCNoMuLkAgKCkr1ztf+oJ5Tl6hBndvpxeuj9NUlrIEHAI6AABAACspK9fbX+bqucXp2pZ3WEN6ROjF6+NYYx7ACOgAgFPTjNosonHQKaduikt/DOa5+w5raM8IPTpjsM4dSDAPdHRxOQZdXACglppZm0U0LO8Gb7W95lNmpBDSj1Fx58+/LfbdYGhYzwjdN7W/Jg+gj3mgoc1iLRHQAaCWaLOIehT1VFS1d2uNjIhU1n1ZjV+QCxWXluv/1mzT84u3avv+w4rt1V73Tu2nydxgKGDRZhEAUL9os4h6lJOfU6fx5uRIaZneTMvV7MXp2pFfpOEe7vzZ1BHQAQCnhjaLqEeeCOyeKngAACAASURBVE+1M+ieiOb7A9+R0jK9uXqbnk/dqp35RRrhaa8/XjlUE/udQTBv4gjoAIBTQ5tF1KPk+ORq16Anxze/H/iKSsr0ZppvKcv3B4oUF9lBT1w1VBP6EsybCwI6AODUJSQQyFEvKjaCNucuLkUlZXp9VY5mf7ZVuw4c0aioDvrrT4ZpXJ9OBPNmhk2ix2CTKAAAaExFJWX6x6oczfEH89FRHXXf1H4aSzBv8tgkCgAA4CJFJWXyfuEL5rsLjujs3h315DWxGhtNMG/uCOgAAACN6HBxmbxfZGvukgztLjiiMdEd9cy1wzW2TyenS4NLENABAAAaQWFxqbwrczR3SYb2HDyisdGd9Ox1wzUmmmCOoxHQAQAAGtChI6X6+8psvbA0Q3sOFmt83056Pn6ERvfu6HRpcCkCOgAAcAXvBm+T6uJSUFSiVz7P1otLM7SvsEQT+p6he6f206gogjlOjIAOAAAc593gPaoPenZ+thIXJkpSwIX0/MISvbQ8Uy8vz9SBolJNGdBZd53bTyMjOzhdGgIEAR0AgFpoarO7bpO0KOmomxRJUmFJoZIWJQXMP+e8Q8WatyxDC1Zk6+CRUp0X00V3n9tXQ3u2d7o0BBgCOgAAJ9GUZnfdKic/p07jbrK74IheXJqhV1dm63BJmS44q6vumtJPMd3bOV0aAhQBHQCAk2gKs7tu54nwKDs/u9pxt9p1oEhzPtuqf6zKUXFpuWYM6667pvRVvy5tnS4NAY6ADgDASQTy7G6gSI5PPuq3FJIU1iJMyfHJDlZVve37D2tO6la9kbZNZeVWl8X20J1T+ii6c7jTpaGJIKADAHASgTi7G2gqfhPh5nX+2/IK9Xxqut5akytJunJET90xua88ncIcrgxNDQEdQNPj9UpJSVJOjuTxSMnJUoJ7/iePwBNIs7uBLGFIgqsCeYXMPYf0t8XpemftdgUbo2tHeTRrch/1aN/a6dLQRBHQATQtXq+UmCgV+oNUdrbvuURIxykLhNld1L8tuwr03OJ0Lfxqh1oEB+n6sZG6bVIfdY1o5XRpaOKMtdbpGlwlLi7OpqWlOV0GgFMVFeUL5ceKjJSyshq7GgABaPPOA3ru03R9sHGnWoUE6+djI3XLxN46sy3BHPXLGLPGWht37Dgz6ACalpwaNu3VNA4Afhty8/XMp1v08aZdCg8N0R2T++jmCdHq2Kal06WhmSGgA2haPJ7qZ9A9bOYDUL0vc/bp2UVbtPjb3WrXKkT3xvfTjeOj1D6MYA5nENABNC3JyUevQZeksDDfOABUsSozT89+ukVLt+xR+7AWeuD8/rp+XJTatWrhdGlo5gjoAJqWio2gdHGBS3k3eNls6iBrrT7fuldPL9qiLzLzdEZ4S/36goH62ZhItQklFsEd2CR6DDaJAgAaineDt9p2jSkzUgjpDcxaq8++261nP03Xmux9OrNtqG47p49+Otqj1i2DnS4PzVRNm0QJ6McgoAMAGkrUU1HV3vAoMiJSWfdlNX5BzUB5udXHm3fpb4vTtT43X90jWmnW5D76SVwvtWpBMIez6OICAIDDcvKr7yZU0zhOXVm51b/X79Dzi7fq210F8nQM0x8uH6KrRvZUy5Agp8sDToiADgBAI/FEeKqdQfdE0GWovhSXluvdtdv1fGq6svYWqu+Z4XrymmGaMbS7QoIJ5ggMBHQAABpJcnxytWvQk+PpMnS6ikrK9MbqbZr72VbtyC/S4O7tNDthhKYN7qqgION0eUCdOBbQjTGtJC2RFOqv4y1r7SPGmN6SXpfUSdIaST+31hYbY0IlvSJppKS9kq6x1mb5r/VrSTdLKpN0j7X2v/7x6ZKelhQs6UVr7R8b8SMCAHCUio2gdHGpPwePlMq7MlsvLM3UnoNHNDKyg5KvGKLJ/TvLGII5ApNjm0SN729NG2vtQWNMC0nLJN0r6ReS3rbWvm6MmSPpK2vtbGPMHZKGWmtnGWOulXS5tfYaY0yMpH9IGi2pu6RPJPX3v813ks6TlCtptaTrrLWbTlQXm0QBAHC//MISzV+RpZeWZyr/cIkm9D1Dd07pqzHRHQnmCBiu2yRqfT8ZHPQ/beH/YyWdK+mn/vEFkh6VNFvSpf7HkvSWpOf8If9SSa9ba49IyjTGpMsX1iUp3VqbIUnGmNf9x54woAMAAPfac/CIXlyaqb+vzNbBI6WaOuhM3Tmlr4Z7OjhdGlBvHF2DbowJlm8ZS19Jf5O0VdJ+a22p/5BcST38j3tI2iZJ1tpSY0y+fMtgekhaWeWyVc/Zdsz42TXUkSgpUZI83A4cAADX2Zl/WHM/y9Drq3N0pLRcFw7ppjsn91VM93ZOlwbUO0cDurW2TFKsMaa9pHckDXSojhRJKZJviYsTNQAAgONl7z2kOZ9t1VtrclVupcuH99Dtk/uoT+dwp0sDGowrurhYa/cbYxZLGiupvTEmxD+L3lPSdv9h2yX1kpRrjAmRFCHfZtGK8QpVz6lpHAAAuNiWXQX62+J0vffVDoUEB+maUb1026Q+6tUxzOnSgAbnZBeXzpJK/OG8tXybOf8kabGkq+Tr5DJT0r/8p7znf/65//VPrbXWGPOepNeMMf8r3ybRfpJWSTKS+vm7wmyXdK1+XNsOAABcaOP2fD33abr+8/X3at0iWDeN761bJ0WrS7tWTpcGNBonZ9C7SVrgX4ceJOlNa+2/jTGbJL1ujPm9pLWS5vmPnyfpVf8m0Dz5ArestV8bY96Ub/NnqaQ7/UtnZIy5S9J/5Wuz+JK19uvG+3gAAKC20rLy9NzidKV+u1ttQ0N097l9deP43urYpqXTpQGNzrE2i25Fm0UAABqHtVbL0/fq2U+36IvMPHVs01I3T+itn4+NVLtWLZwuD2hwrmuzCAAAmidrrRZt/kHPLk7XV9v2q0u7UP32okH66dkehbUkmgD8LQAAAI2irNzqgw079bfF6frm+wL17NBayZefpatG9lRoSLDT5QGuQUAHAAANqri0XO+u2645qVuVseeQ+nRuo79ePUyXxHZXi+Agp8sDXIeADgAAGsTh4jK9vjpHLyzJ0I78Ig3q1k5/++kITT+rq4KDjNPlAa5FQAcAAPUqv7BEr3yepZdXZCnvULFGRXVQ8hVDNLl/ZxlDMAdOhoAOoMnxzr5DSRkpymlTJs+hYCVHJyrh9uedLgto8n4oKNK8ZZnyrszRwSOlmjKgs+6Y0lejojo6XRoQUAjoAJoU7+w7lLh9tgr9dwHPDi9T4vbZ0mwR0oEGsi2vUHOXbNWbabkqLSvXhUO66fbJfTS4e4TTpQEBiYAOoElJykipDOcVClv4xhNEQAfq03e7CjQ7dave+2qHgox05Yieuu2cPup9RhunSwMCGgEdQJOS06asTuMA6m5tzj49n7pVH2/apdYtgnXDuCjdMrG3ukW0dro0oEkgoANoUjyHgpUdfnwY9xyixzJwOiru+vl8arpWbN2riNYtdE98P90wLkod27R0ujygSSGgA2hSkqMTfWvQq9wlPKzENw6g7srLrT7atEvPp6ZrfW6+zmwbqqQLB+m6sz0KDyVGAA2Bv1kAmpSE25+XZosuLsBpKikr13vrdmj2Z1uV/sNBeTqG6Q+XD9EVI3qoVQt+IwU0JGOtdboGV4mLi7NpaWlOlwEAgCOKSsr0Zto2zf0sQ9v3H9bArm11++Q+umhIN4Vw10+gXhlj1lhr444dZwYdAADoQFGJXv08Wy8vz9Seg8UaGdlB/3PpYJ078ExuLgQ0MgI6AADN2J6DR/TSsky9+nm2Co6UalL/zrpzch+N7t2RYA44hIAOAEAzlLuvUC8sydDrq7epuKxcF5zVVXdM7quzenBzIcBpBHQAAJqR9B8KNDs1Q/9at12SdPnwHpo1uY/6dA4/yZkAGgsBHQCAZuCrbfs1O3Wr/rvpe4WGBOnnYyN168RodW/PzYUAtyGgAwDQRFlrtXTLHs1O3arPM/aqbasQ3TWlr24YF6VO4aFOlwegBgR0AACamNKycn2w8XvN/Wyrvt5xQF3acXMhIJDwtxQAgCaiqKRM/7cmVy8syVBOXqGiO7fRE1cO1aXDuys0hJsLAYGCgA4AQIDLP1yiv6/8sYf5sF7t9ZsLB+n8mC4KCqJVIhBoCOgAAASoXQeKNG9Zprwrs3WouEzn9O+sWef00ZhoepgDgYyADgBAgNm6+6BSPsvQO2u3q7S8XBcP7a7bzonW4O70MAeagloFdGNMf0mzJXWx1p5ljBkq6RJr7e8btDoAAFBp3bb9muNvldgyOEjXjOqlWydGy9MpzOnSANSj2s6gvyDpQUlzJclau94Y85okAjoAAA3IWqslW/Zodmq6VmbkqV2rEN05ua9uGB+lM2iVCDRJtQ3oYdbaVcesZyttgHoA4PR5vVJSkpSTI3k8UnKylJDgdFVAnVS0SpyTulWbdh5Q13ataJUINBO1/Ru+xxjTR5KVJGPMVZJ2NlhVAHCqvF4pMVEqLPQ9z872PZcI6QgIFa0SU5Zs1ba8w75WiVcN1WWxPdQyJMjp8gA0AmOtPflBxkRLSpE0TtI+SZmSfmatzWrQ6hwQFxdn09LSnC4DwKmKivKF8mNFRkpZWY1dDVBr+YUlenVlluavyNKeg8WK7dVet0/uo/MG0SoRaKqMMWustXHHjtdqBt1amyFpqjGmjaQga21BfRcIAPUiJ6du44DDvs8v0rxlGXrti5zKVom3T+6js3vTKhFormrbxeUPkp6w1u73P+8g6f9Za3/bkMUBQJ15PNXPoHs8jV8LcALpPxxUypKtemftdpWVW80Y1l23TeqjmO7tnC4NgMNquwb9AmvtbyqeWGv3GWMulERAB+AuyclHr0GXpLAw3zjgAmtz9mnOZ1v10aZdahkcpOtGe3TrxGj16kirRAA+tQ3owcaYUGvtEUkyxrSWRG8nAO5TsRGULi5wEWutUr/brbmfba1slXjXlL6aOY5WiQCOV9uA7pW0yBjzsv/5jZIWNExJAFBLNbVTrPgDOKy4tFwLv9qhlCUZ+nZXgbq2a6XfXjRI146mVSKAmtV2k+ifjDHrJcX7hx631v634coCgJOgnSJcrKCoRK+v2qZ5yzL1/YEiDejSVn+9ephmDOtOq0QAJ1WrNovNCW0WgQBBO0W40K4DRXppeaZeW5mjgiOlGhvdSYnnRGty/850ZAFwnFNqs2iMWWatnWCMKZD/JkUVL0my1lq2mgNwBu0U4SJbdhUoZUmG3l3n68hywZBuum1StIb2bO90aQAC0AkDurV2gv9r28YpBwBqiXaKcJi1Vqsy85SyJEOLvvlBrVr4OrLcMiFank50ZAFw6k66Bt0YEyzpa2vtwEaoBwBqh3aKcEhZudVHX3+vuUsytG7bfnVs01L3Te2n68dGqWOblk6XB6AJOGlAt9aWGWO+NcZ4rLX87hiAOzThdoreDV4lLUpSTn6OPBEeJccnK2FI4H+uQFdUUqa31uTqxaUZytpbKE/HMD1+6WBdNbKXWrcMdro8AE1IbXs8dZD0tTFmlaRDFYPW2ksapCoAqI0m2E7Ru8GrxIWJKizx/WYgOz9biQt93WkI6c7Yd6hYr67M1oIVWdp7qFjDekbobz8doelndVVwEBs/AdS/2gb03zVoFQAASVLSoqTKcF6hsKRQSYuSCOiNbFteoeYty9Qbq7fpcEmZpgzorMRJfTQmuiMdWQA0qJN1cWklaZakvpI2SJpnrS1tjMIAoDnKya9+JWFN46h/G7fna+6SDL2/foeCg4wuGdZDiZOiNaAr/RIANI6TzaAvkFQiaamkCyTFSLq3oYsCgObKE+FRdv7x3Wk8EXSnaUjWWi3ZskcpS7ZqefpehYeG6JaJ0bpxfJS6RbR2ujwAzczJAnqMtXaIJBlj5kla1fAlAUDzlRyffNQadEkKaxGm5Hi60zSEkrJy/Xv9Ds39LEPffF+gLu1C9dAFA/XTsz1q16qF0+UBaKZOFtBLKh5Ya0tZcwcADatinTldXBrWwSOlen1Vjl5alqkd+UXqd2a4nrhqqC6N7a7QEDqyAHCWsdbW/KIxZfqxa4uR1FpSoZrwnUTj4uJsWlqa02UAABrADwVFmr88S39fma0DRaUa3bujZp0Trcn9z1QQHVkANDJjzBprbdyx4ye7kyjTCACAgPfdrgK9uDRD767doZLyck0f3FWJk6I13NPB6dIA4Di1bbMIAKfP622SNxaCO1lrtWLrXr2wNEOp3+5WqxZB+smonrp5QrR6n9HG6fIAoEYEdACNw+uVEhOlQv/mx+xs33OJkI56VVJWrvfX71TKkgxt2nlAZ4S31C/O66+fjYlUxzYtnS4PAE4qyOkCALiM1ytFRUlBQb6vXm/9XDcp6cdwXqGw0DcO1IMDRSWa+9lWTXpise57Y52Ky8r1pyuHaNmvztU98f0I5wACBjPoAH7UkLPcOTXcaKemcaCWcvcV6uXlWXpj9TYdPFKqsdGdlHz5WWz8BBCwCOgAfnSiWe7TDegejy/wVzcOnIINufl6YWmG3t+wU5J08dBuunVitM7qEeFwZQBwegjoAH7UkLPcyclHz85LUliYbxx15t3gbZa90svLrRZ/+4NeWJqhlRl5Cg8N0U3jo3TD+N7q0Z47fgJoGgjoAH7UkLPcFTPwdHE5bd4N3qPuNpqdn63Ehb6lSE01pBeVlOmdtdv14tIMbd19SN0iWinpwkG6ZnQv7vgJoMk54Y2KmiNuVIRm7dg16JJvljslhSDtIlFPRSk7//gfpCIjIpV1X1bjF9SA8g4V69XPs/XqyiztOViswd3bKXFStC4c0k0tgulzACCwndKNigA0M8xyB4Sc/OqXHNU0Hogydh/UvGWZemtNro6UlmvKgM66dVK0xkZ3kjFs/ATQtBHQARwtIYFAfhoaY224J8JT7Qy6JyKwN9xaa5WWvU8pSzL0yeZdahEUpCtG9NDNE3qrX5e2TpcHAI2GgA4A9aSx1oYnxycf9T6SFNYiTMnxgbnhtrSsXP/5+nu9sDRTX23br/ZhLXTXlL76+dhIndm2ldPlAUCjYw36MViDDuBUNeba8KbQxeXQkVK9mbZN85ZlKnffYUV1CtPNE6N11Yieat0y2OnyAKDBsQYdQJPjtpDamGvDE4YkBFwgr/B9fpHmr8jSa19k60BRqeIiO+h3F8do6qAuCubGQgBAQAcQmLwbvEp85yYV2mJJ/uUk79wkyblWg011bXh92bTjgF5clqGFX+1QWbnV9LO66paJ0Rrh6eB0aQDgKgR0AAEp6b17K8N5hUJbrKT37nUsoDe1teH1oeLGQvOWZWrF1r0Kaxmsn4726OYJ0fJ0CnO6PABwJQI6gICUU7JXqmY1RE7J3sYvxq/iBwM3LbtxSmFxqf755Xa9vCxTGXt8NxZ66IKBum6URxFh3FgIAE6EgA4gIHnypez21Y87KZDXhteHXQeKtGBFll5blaP9hSUa2jNCT18by42FAKAOCOgAAlLyuk5KHLdXhS1/HAsr9o2j8W3cnq95yzL17/U7VFpuNS2mq26e2FtxkR24sRAA1BEBHUBASrjlaenJG5U0sUQ5Eb6Z8+SlLZRw/9NOl9ZslJdbLfrmB724NENfZOapTctg/WxMpG4c15v15QBwGgjoAAJTQoISJCUkJUk5OZLHIyUncxfURlBYXKq31uTqpWWZytpbqB7tWyvpwkH6yaheimjN+nIAOF0EdACBKyGBQN6IduYf1oIV2ZX9y2N7tddz0wZo+uCuCmF9OQDUG8cCujGml6RXJHWRZCWlWGufNsZ0lPSGpChJWZJ+Yq3dZ3yLGJ+WdKGkQkk3WGu/9F9rpqTf+i/9e2vtAv/4SEnzJbWW9IGkey23TgWAOlmfu1/zlmXq/fU7VW59/ctvnhCtkZH0LweAhuDkDHqppP9nrf3SGNNW0hpjzMeSbpC0yFr7R2PMQ5IekvQrSRdI6uf/c7ak2ZLO9gf6RyTFyRf01xhj3rPW7vMfc6ukL+QL6NMlfdiInxEAAlJZudXHm3bppWWZWpWVp/DQEM0cF6UbxkWpV0fWlwNAQ3IsoFtrd0ra6X9cYIzZLKmHpEslTfYftkBSqnwB/VJJr/hnwFcaY9obY7r5j/3YWpsnSf6QP90YkyqpnbV2pX/8FUmXiYAOADU6eKRU/5e2TS8vz1JOnm99+W8vGqRrRvVS21asL8cxvF6JfSBAvXPFGnRjTJSk4fLNdHfxh3dJ+l6+JTCSL7xvq3Jarn/sROO51YxX9/6JkhIlyePhltwAmp/t+w9rwYos/WNVjgqKSjXC014PXTBQ58d0YX05quf1SomJUqH/zrnZ2b7nEiEdOE2OB3RjTLikf0q6z1p7oGq/XGutNcY0+Jpxa22KpBRJiouLY406gGZj3bb9enFphj7c+L0k+deX99YID+vLcRJJST+G8wqFhb5xAjpwWhwN6MaYFvKFc6+19m3/8C5jTDdr7U7/EpYf/OPbJfWqcnpP/9h2/bgkpmI81T/es5rjAaBZKyu3+ujr7/Xiskytyd6ntqEhunlCb80cF6Ue7Vs7XR4CRU5O3cYB1JqTXVyMpHmSNltr/7fKS+9Jminpj/6v/6oyfpcx5nX5Nonm+0P8fyX9wRhTMd1zvqRfW2vzjDEHjDFj5Fs6c72kZxv8gwGASxUUlejNtFzNX5GpbXmH1atjaz18cYx+MqqXwkMd/4UqAo3H41vWUt04gNPi5H+Rx0v6uaQNxph1/rHfyBfM3zTG3CwpW9JP/K99IF+LxXT52izeKEn+IP64pNX+4/6nYsOopDv0Y5vFD8UGUQDNUNaeQ5q/Ikv/l7ZNh4rLFBfZQUkXDtJ5MV0VHGROfoGGwObCwJecfPQadEkKC/ONAzgthrbgR4uLi7NpaWlOlwEEDO8Gr5IWJSknP0eeCI+S45OVMISg5TRrrVZs3auXl2dq0Tc/KCTI6OKh3XXj+CgN7dne2eKO3Vwo+YJdSorvMcE9cPCDFnBajDFrrLVxx40T0I9GQAdqz7vBq8SFiSos+TFohbUIU8qMFEK6Q4pKyvTu2u16eXmWvt1VoE5tWirhbI9+NiZSZ7Zr5XR5PlFR1S+N6NRJOny4+uBO6APQBBHQa4mADtRe1FNRys4/PmhFRkQq676sxi+oGdt1oEivfp4t7xfZ2ldYokHd2unG8VG6ZFh3tWoR7HR5RwsKkury/57ISCkrq8HKAQCn1BTQ2RUE4JTl5FffraGmcdS/ddv26+XlmXp//U6VWavzBnXRjeN7a0x0R1VtW+sqNW0urAldQQA0MwR0AKfME+GpdgbdE0EXh4ZUUlau/2z8Xi8vz9SXOfsVHhqimeOiNHNslDydwpwu7+QuvFCaPfv48fBw6eDB48fpCgKgmeH2cHAd7wavop6KUtBjQYp6KkreDV6nS0INkuOTFdbi6EAY1iJMyfEN18WhOX9/7DtUrOdT0zXpicW6+x9rtfdQsR6dEaOVv4nX7y6OCYxwLklvvln9eHFx9eMXXthwtQCACzGDDlc5dtNhdn62Ehf6bh3NpkP3qfh30lhdXJrr98eWXQV6eUWW3l6VrSJrND5rnX6f87mm3HGdgsZPcbq8utu7t/rxmgL6Bx80XC0A4EJsEj0Gm0SdxaZDnEhz+v4oL7f67Lvdeml5ppZu2aNQY3X5xk91w8q3NXCP/59BoHY4qevaeGOk8vKGqQUAHMQmUQQENh360Fu8es3h++PQkVL988tczV+epYw9h9SlXagenDZA1912qTpu2XT0wYWFvh7UgRbQg4LqFrhZgw6gmSGgw1XYdNh8l3HURlP+/sjdV6hXPs/WP1blqKCoVMN6tdfT18bqgrO6qWVIkJS+ufoTA7HDyYnCeVgYd6YE0OyxSRSu4sSmQ7dJWpR01I1/JKmwpFBJi5IcqugkvF7fjWeCgnxfvXXftFnbjZ9N7fvDWqtVmXm6/e9rNOmJxZq3LFPn9O+st+8Yp3/dOV6XxvbwhXOp5lnkQJxdjoyseTwlxffVmB+fB9pvCADgNDGDDldp7E2HbhRQyziOvWV7drbvuVTrUFWX3xg0le+PI6Vl+vdXO/Xyikxt3H5AEa1b6LZz+ujnYyLVvX3r6k9K/v/t3Xt81NWd//H3mVyAcIkSqAphJihoRVGrCF6rbqwiLeul3qdq0W664LZeem+6tbadqtttle1W2uyvVtTxvirYolbxuiIiqIC1ValmQhAFggQhkMvk/P6YSZhMvt/JTDKT+Sa8no9HHyQnk+98Z/J1+p4zn/M5oa7PtTRwZ5dTPZZgkEAOYK/HItEkLBJFvg2ohZBuW7ansfNjR52902OVPPp4+2jT9t0Kv1qn8Kt12rKjWZM/M0JzTpyocz83XsOK09jtMxyO1ZzX1cVmzjsC7UA0mB4LAPSS2yJRAnoSAjryLXlGWYqVcdTMrvHeTLHblu09dN1weozdDiGj9hsGR+eON+o+0Z3LarVk7Ua1Rq1OO2Ssrjxpok6aNMa7u30CAHKOLi7AADGgyjjctmzvoS7aqc6+2yEG+MLP5raolqzdqDuXRbR6/TaNHFKorxwX0OXHV2jimOH5Pr28o1MRALgjoAPovV7WRfdUTz+QF35u2r5b97xap3vjZSwHjh2un559mM47ulwjhvCSK9GpCAB6QhcXwGPCa8Oa89gcRRojsrKKNEY057E5mW9pn4XuKj0KBjPqutHRrcXKvbQuUBrwZjlPCtZavV73ib553xs64eZn9Ztn39MR5aW668rpeua6U3T58RWE8wQDrlMRAPQzatCTUIOOfBvzH2PUsKv7Vuhlw8q05btb0jtIcncVKe+7TvZUd+7ZOvsUmtui+vOajVq4rFar6xs1ckihLpg2QZcfH1AFZSyufDf6HN+kDaZ1BwCQDrcadGbQAY9xCued4+nOildXdw3n0p5dJ/MkVd35QJs137R97ZMRDAAAIABJREFUt3799Ls68eZndf2Dq7WjuU0/O/swvfLDSv149hTCeQ/c1hcM9HUHAJAtBHTAa9w+1LKKzYpHIrHOKR09x51CutvukrnedTLFGwi3unMjo9praz0fzp3KWI4s30d3XzVdz1x/ii7bi8pY0t1Yyo3jhlNtRqE7Irkrx+qL/igXA4AEe8f/mwADSFmT1OAwAVvWJPdZ8eSylV52V+mTHjYt8heOVqSt+6cD/sLRuTunLOgoY7lzWa3WxMtYrjihQpcfH1CgbO+bKc/GAs+unYoi8jcahZ6xCq6VpMw3u8qpLGzGBQCZogY9CTXoyLfwaWN05UkNakl4+1zcJt2xSPEAk8Sp5/i8edKCBd1vO3eudPvtWT3fTj1sWhQ+bYyqTmhQU/GeH5W0SDXLyhR8Ls3a+n708fbdCi+P6N4Vddqyo0UHjR2ur544Ued9bryG7yUz5U6yvpFWHza76hdePz8AAxp90IEBIvi1+dKtc1R9cqvqSiV/oxR6qUjBD0dJcqhPd5oVX7LE+eBu49nQQ1lN8IWtUoNUXak9j2upFHxra+7OKUOxMpZtunNZrZ5Yu1FRa1X52c/oihMq2FQozq1UqafWme4HzFM5Vrq8fn4ABiUCOuA1waCCkoLJ26BL6fccz0eo6Kmsxu9XcG2k+6cAgfwvDGxui+pPq2NlLGs3NGrk0L27jCUVf6nfcQa91ws881GOlQmvnx+AQYlFooAXBYOxj8/b22P/BoOZ9Rx3Cw+5DBWhUOwNQ6LENxCzZjn/ntt4P/iocbd+9Zd3dOLNz+pbD63WrtaofnbO4Vr+g0r9+5emEM4dOC7w7MvGUh68Lrro6boGgBxgBh0YSDqCek96ucNnn89Nii1aTZz57xjPR9mNg45uLH98uVZPvvVRZxnLV0+YqBMnlVHG0oOuCzzr5C/1K1QZUnBqUOEF81T9fo3qhkfl31mg0IFVCs7tYc2DR64LVz1d1wCQAywSTcIiUXhBeG3YMQBldpCwt0KFzxdrD5nMaZFrDuxqiWrx6g1auCyitzdu18ihhbpo2gRdfnyF/GUlPR+gF7LydxwgwgvmqWrDAjUV7RkraZVqxs9NHdLzfF0AQD65LRIloCchoCPfnHbc9PIum2mH0Dx1w6hraNLdy2v14Mp6Ne5q1SH7jdTlJwR0zlG57cYy0P6OfVXxnUJFRkS7jQd2FKj2l20pfrGCLikA9loE9DQR0JFvWW9jl0MZhdDkftJSrOzGrY6+D9rbrV54b7PufiWi597ZJJ8xmnnY/rr8+ICmTxzdL2UsA+nvmA2+nxhZh6fVWKn9Jyn+f6YfrwsA8BraLAIDRNbb2OVQ9dLqLuFckppam1S9tLp7QO+HWt7GplY9tGq97lkeUW1Dk8aMGKJvnDZJl84IaP/SoVm7n3QMpL9jNvh3FjjOoPt3FqT+RWq8AaAbAjrgMVlvY5dDTueZajztRa4ZevvD7bp7ea0efWODdre2a1pgX133hYN11uEHqLgwP82qBtLfMRtCB1Y51qCHDqzq+ZdzdF0AwEBFQAc8JlQZciwb6XUbuxzyGZ/abfeFfD6T+1DcGm3Xk299pLtfiWhF7VYNKfTpnKPG67LjAzp8fGnO778nA+nvmA3BubdLC5R5FxcAQDcEdMBjUrWx8xqncJ5qPBs+3r5b975ap/tW1GnTp83yjy5R9axDdcG0cu1TUpyz+81UPv6O+e4aE5x7u4IikANAX7FINAmLRIH0mRvdF1vaG7L32mKt1Wu1n+iuV2K9y9varU49ZKwuPz6gUw7+jAp89C7f27rGAMBgwCJRAFlXNqxMDbsaHMezoamlTYve/FALl9Xq7x99qlFDC3XFCRW67LiAKsawy2eijBbsAgA8LT+rpwAMCvPPmq/igq5lJcUFxZp/1vw+Hbd2y0797E9va8YvluoHj6yVJN103lQt/2Gl/v1LUwjnDnLSNSYcjvUp9/li/4bDvT8WACBtzKAD6LVs1llH261eeHeTFi6L6IV3N6vQZzTz8P11xQkVmhbYt196lw9k/sLRirR1/zTDXzi6dwdM7k8eicS+l+i4AgA5Rg16EmrQgf61ralFD65cr3uW16lua5PGjhyi4Ay/Lp3u12dG9W/v8oEsfNoYVZ3QoKaEDzRKWqSaZWUKPrcl8wOywycA5Bw16AA85a0Njbr7lYgee3ODmtvaNb1itL5z5iE687D989a7fCALvrBVapCqK6W6UsnfKIWWSsG3tvbugHUupTFu4wCArCGgA3uDcNgTOzXubo3qibc26u5XInq9bpuGFRXovKPH67LjKjRl3Kh+P59Bxe9XcG1EwbVJ44Febozk9zvPoPsH50ZLAOAlTFMh91holrHw2rAqbquQ70afKm6rUHhtH56zjlriSESydk8tcT/+HdZvbdLNT/xdJ9z8rK57YLU+aWrVj754qJb/oFI3nXcE4TwbQiGppKTrWElJbNwLxwMApI0a9CTUoGdZ8kIzKfZ/8jU1LDRzka1+1p2b1myL7Cl3SJxdzXEtcceiz7tfiej5dzfLSPrClP102XEVOuGgMvnoXZ592f6kxCOfvADAYOVWg05AT0JAzzIWmmWs4rYKRRq7P2eB0oBqr61N6xiOIb9Fqnk8IaQbI7VnecfPcFhbfnqTHhw9ReFpX9KG4WUaO3KILpnu1yXTJ+iA0mHZvT/kVHjBPFW/X6O64VH5dxYodGCVgnPZKRQAssUtoFPigtxioVnGstHP2nHTmuLYAsJOWawlttZqVc39uvahtTph9s/1H6dcIf+Wev32iV9rWeBjXf+Fg2PhnHKnASO8YJ6qNixQZERU1kiREVFVbVig8IJ5+T41ABj0WCSK3GKhWcb8pX7HGXR/afrPmWvIL41/kaVa4p3Nbfrhnx/Vote3Sm3l0iFH6/jIE/rpM09ocsP62I1+9A/pK0H6ag8w1e/XqGlE17Gmoth4UMyiA0AuMYOO3GKhWcZClSGVmK67c5aYYoUq03/O3MK8v1Gx8qI+rgF49+NP9eNFb+nonz2pRStK1BJtVkPRb1Q37AotPqhGK8at33Pjjk9Lqqu7rkWQYt9XV/f6PJA7dcOjGY0DALKHgI7cCgZjYTAQiNU8ZyEcDnbBNVLNYqvANslYKbAt9n1wTfrHCFWGVFLU9Y1RSVGJQlfeE6v978Xz39LWrsdXf6iLfv+Kzrj1Rd2/Yr2aC1doY/G3tXHINdpR+JSs2e1eSkO5U+5lsYTIv7Mgo3EAQPawSDQJi0SRd1laWDvvz/NUs6pGURtVgSlQ1TFVuv2LmZcmfLhtl+5bUaf7VqzXlh3NmjB6mIIzArrgmHKN/dUwWXV/DTFWar9RXTv2sGA4t7LcMamjBr2pKOFwrVLN+LksFAWALGGRKDBQZGGmObw2rIWrFypqY+UIURvVwtUL0+6n3t5u9eK7m1V110qddMuz+u/n1unI8lL9cc6xeuHbp+lfTzlIZSOGZFZKM2uW8525jSMzWS4hCs69XTXj5yqwoyD2Sc6OAsI5APQTZtCTMIOOvMvCTHNvWzVua2rRw6vqdc/yiGobmlQ2vFgXHTtBl0z3a8Lokm63z6hnOzPouWVS9JXndR4APMltBp0uLoDXhELOpQoZLKzNtFXj6vXbdPfyiB5f/aGa29p1bMW+uu4LB2vm4ftrSKF7zXFHCK9eWq26xjr5S/0KVYacN1SiBj23jHEO4qmCOwDAkwjogNd0lIQ47ODYuTtoD2E4nVaNu1qienz1h7rn1YjW1DdqeHGBzj+mXF85LqBDDxiV/ulODaa3wyktN3PLbZac2XMAGHAocUlCiQt6I93g3Nf7SLecJNVtZ+z3zwq/Wqf/XVWv7bvbdPB+I3TZcQGd87nxGjm0SDmT5UWMSEKJCwAMOG4lLgT0JAR0ZCqjOuw+yLSuvMubhlEH6sJJv1Dkwwl69YOtKiowmnn4AfrKDL+mTxwt04cyiIzenITDjp8MIAvGjJEaGrqPl5VJW7b0//kAAHpEQE8TAR2Z6u2CzEz5bvQ5tzSUUfsN7Y6/E2nYqXtX1OmhlfXaurNF/tElunSGX+cfU64xI4b0+Zz6680J0hAOS1deKbW07BkrLpbuuIM3QQDgUSwSBXIk0wWZvZVOXbkktUbbtfRvHyv82Kt6aUeRCtqj+sKGNbr05Mk6qWqWfL7sLRqsXlrdJZxLUlNrk6qXVhPQ+1uKtQsAgIGFgA70UbrBua9CQ2apqrX7xjGhIbE+4hu27dIDK+p0/2vrtenTZo37tFHXv/mkLlrzF+23Y6v0WIk0si2rga3O4XFLUqQxoorbKnJSi48UgkECOQAMAmxUBPRRqDKkkqKuPcJLikoUqgwpvDasitsq5LvRp4rbKtLeKMhJ8JYlqlksBbbFduoMbJN+t9inA+6K6Ko7X9PJtzyr3zy3ToePL9UfXlyglxZcqW8uuz8WzqU+bVrjxr/DvQVjpDGiqser0nvMWdyiHgCAgY4a9CTUoKM3nBZKSspufbbP19mNY9PwffXAEWfo/iPP1IbSz2jsyCG6aNoEXTx9gsr3Lely2y6Mkdqd69V7I3yEUdVsqanY/TY91uLT3QUAsJdikWiaCOjIlmwvHm2vmKiXzT6696iz9PSkGWorKNRJtW8oWL9Sp7/wiIoKEj4Q669dOysqFB4VUXWlFCmV5FDenmoRa8cx2GEUALA3cgvolLgALvpanpJy8WgGJR0NO5r1+xf+odMun6/LLvq5lk84XFeuXKTnaqp0z+M36ay5F3QN51JscWBJ17KbTHcjTUsopOA/SlR7mxRodL5Jj7X47DAKAEAXLBIFHCS3D+yop5aUdnmK6+LRwtFdSzoikdj3UmdJh7VWKz7YqvCrdXryrY/UEm3X9Iqxuj66Xmf+6scaWvt+vEuHSxlIf3X0SLifWe9EtGC6us2iz5o8K/UxRo927t89enRWThEAgIGGgA44yEb7wFmTZ2nBygXdx9fs7lpvLXUu4Gw890I98ka9wq/Wad2mHRo5tFCXzvDr0hl+HbzfSEnHS1df2NuHlRvxziFLbquQHN6QLHlvSf+fEwAAAxgBHb3SH1vb51M2epu7BdMl43Z2+d5KevOAgxU+bJYe/8Uzam5r15ET9tF/nH+EZh8xTsOK3TuluEpeeOkwS59tvX7Otm7NbBwAgEGOgI6MZaP8I937ydebgGz0NncNrKWxf3cUD9NjU07VvUfN1Nv7HaSS1t368jHlunS6X4ePL+3VeXeqrnadpc9VQO/1c+b3Oy8S9We3jzwAAAMFi0SRsVTlH9nS8SYg0hiRlc2sp3YWhCpDKjFdeweWmOLO9onpcAymVvLvOFjfn/kNTb/6Lv3ozKtlZfTzp36rV++9Rr84d2rfw7mUl4WXqfrBp/7FflrQCgDAAEFAR8b6Y2v7/ngTkEpwjVSz2HbZFKhmsVVwTfrHSAysxpZoRNtZGtfyG6nw11p06Cn64t//T4/c/S0tufOb+sqbT2jkxx9m7wG4zT7ncFY6ODWomtk1CpQGZGQUKA2k1/M9GIz1PA8EYn3aAwF6oAMA9mr0QU9CH/SeZbu/txPfjT5Zdb82e+ypnS1uvbnLyqQRI9LqjGKt1c3PP6Dfv/iW2nd9Tj4N1f77RnX10w/p7Jce0aiWpBKUbPT9DodjZSyRSCzsJv73zeY/AAB4Cn3QkTW9LmXIgFvdciY14H1SV6fwVKniWsl3Q+zf8FTF2gFGIrHg27HwMqmHeeOuVi1cVquz5r+k3z81UiXRk3TpsZO16OoT9cp3Z+uyOTM1Knn1R0mJwt+b1ae+650LQzveWFgbC+kSs9IAAAwgeZ1BN8bcIelLkjZZaw+Pj42W9ICkCkm1ki601n5ijDGS5kuaJalJ0letta/Hf+cKST+KH/bn1tqF8fFjJN0paZikJZKusT08YGbQ05PrBZzJC1Gl2JuAtEomsnH/p41R1QkNXbawL2mRah6XgmuTbhwIyH7wgVZFPtF9K9brz2s/1O7Wdk0dX6pLpvv1z0eN04ghSYm8Y6Y7PhMf/t4sVX2ysG+Plx05AQAYULw6g36npJlJY9+XtNRaO1nS0vj3knSWpMnx/1VJWiB1BvobJM2QNF3SDcaYfeO/s0DSvyT8XvJ9oZeCU4OqvbZW7Te0q/ba2qyH5l7XM2dJ9enqEs6l2PfVlV3Htg0doTvGHqkzbn1R5//uFT3114/05aPL9advnKTHv3GSLl33kkYcMqnHHUOrtz7Y95p7t1n/VAtDM9jRNKfmzZMKC2Mz/oWFse8BANhL5bXNorX2RWNMRdLw2ZJOjX+9UNLzkr4XH78rPgO+3BizjzHmgPhtn7bWbpUkY8zTkmYaY56XNMpauzw+fpekcyQ9kbtHhGwKTg3mrbd6XZtzD+660ljf8tfKD9N9R56pP3/2JLUUFuvIIYW65ctT9aUjxml4x2y5Wy/yl1+WFi7sMh5pVbcdOCU51vq7CZ8yususf2QfqWq2pLLRcnwW89Ar3dG8edKChA2dotE9399+e/+dBwAAHpHvGXQn+1lrN8a//kjSfvGvx0tan3C7+vhYqvF6h/FujDFVxpiVxpiVmzdv7vsjwIDnVOvus6Pk33GOTv/aAl0YvEXPTJ6hi95+Tn+e9KkWXX2iLjrWvyecS+69yGtquo0XuKx7LTDpb1LkOut/utsvpOiV3p9qajIbBwBgkPNiQO8Uny3PeZG8tbbGWjvNWjtt7Nixub67vU54bbhvix/zoHMhrJWGRKdqTMu3Vb57oVT4NZXaVv1yyW16dfGP9LPgDB32tYudD+JWWhKNdh9y+S8xarveNtVz6Trr7zKe017pmZTOODwfKccBABjkvLiT6MfGmAOstRvjJSyb4uMbJE1IuF15fGyD9pTEdIw/Hx8vd7g9+lF/7TqabTMnnq/LDhqiJ9dsl6L7SaZJxx/SrhvOOlmf3f+Lkr7R80HcdsgsKOgWPgONsZKUZIHSQOfXPT2XGe/kmasdPL1SOgMAwADlxRn0xZKuiH99haRFCeOXm5jjJDXGS2GeknSGMWbf+OLQMyQ9Ff/ZdmPMcfEOMJcnHAv9JOWGQ15ZoBg/j3ZfgV6ecaauvulRHXfTUj35xjAdO+Gz+vWFR+rvPz1P9805T5/df1T6x3XbIbOqqtt46KWi7juXJrWu7GnzpozbX4ZCUnFSTUxxcd938PRK6QwAAANUXmfQjTH3KTb7PcYYU69YN5abJT1ojLlKUkTShfGbL1GsxeI6xdoszpEka+1WY8zPJL0Wv91POxaMSpqnPW0WnxALRPud+66jEanaA7Os4bA2X/MdPTzpBN1/ZrUi+47TPh99qsvK23XJ5Wdo8n4je3/sjseR0E6xc2OjE0/sMh68LiQdoZStK3vawbXjthm1v0zuOpqNtqtOs/KpxocPl3budB4HAGAvxE6iSeiDnl2uu47uKFDtfzrUGPdTz+5ou9X/rdui+2/8vZ4eN1VtBYWaUbdWl775pM58d5mGlo9zPI9c939PJes7uOaqb3phoXP9eEGB1NbmPN7usErW56MOHQAwqLn1QfdiDToGkVBlyHHDodBTTc6/kI0FiinUf9Kkh1bW6+FV9dqwbZf2LTtIc1Yt1kWr/6JJWxOa/tTVdQvjsybP0sJVf1CTbZEUrwF/9MrY7f/vZVW/X6O64VH5dxYodGCVgnNTtAhM2qioc2Y9hVBlSHMem6PW9tbOsSJfUe93cM3VItFMF306hfNU4wAADHIEdKTWiyCZyLXsoqZasQqmJH1doOigpa1dz/ztY93/2nq99F6sjeZJk8boh7MO1ennnKwhH/yj2++ETxndbUHm71Yu6NZSqMm26JqHr9KuaLOaRsTGIiOiqtqwQFog55Deh0WUseUU7t9nJFeLRAMB95l5Jw6LZjvHAQDYC1HikoQSlwTJQVKKLW6sqel7nXgujx333sef6oHX1uuRNzZo684WjSsdqgumTdAF08pVvm9JyvOo+OEwRdoa0rsjK8dNhgI7ClT7S4eSjl6WlmS9xCVXf4NMj5u8UVGHuXPZqAgAMKhR4oLMperG0dcQnWoBZR80tbTpT2s26oHX1mtV5BMV+oy+MGU/XXTsBJ08eawKfElJ2uU86tZd1qfzkKS64S4lHb0sLelpkWgqjrXzOfobZPy37QjhNTWxmfSCgljAJ5wDAPZSBHS4y+VGNllkrdWa+kbd/9p6Pb76Q+1obtOBY4frh7M+q/OOLteYEUNSHyAY7BYe/aFr0ppBL2mRhrVKDQ4NR/yfunQx7WVpScZ9zuNS9k93eOxZkeFxw3NPVPXBS+JvIMoVqjxRdEwHAOytvNgHHV7hFhj7UqPc0fvcGIVv+Yoqzo3I92OrinMjCt86J6Ne6NuaWvTHlz/QWfNf0tm/fVmPvlGvmYfvr4f+9Xgtvf4UVX3+oJ7DuYvQM7HwnUpBVKp5qkjzny3udtuSFim0bJjLwV36o/fQfzzjPudxPfVPz7eONxCRxoisbOcbiIGw4ywAALlADXoSatATZLtGOeF44alS1WypKWGfnJIWqWZZmYLPbXE9RHu71fL3G3T/a+v15F8/Uktbu44oL9VFx07Q7CPHadTQoszPy4nPp/DhVtWVUqRUjjXmxkrtk++RLrtM82Za1UyToj6poF2qWind/qRx70TSy8W3vWnz6LvRJ9tteatkZNR+Q/47pWS9th4AgAHCrQadgJ7E6wG93/tw97GLSxcJiyMrrnXZ2n6bVHtr92vyo8bdenjVej24sl51W5s0amihzv3ceF147AQdNq60d+cT5/iczq7uPNcx33EuYSkbVqYt392i8GljVHVCQ8ZvNvqL1wOw199AAACQKywSHQRS1hI7hPRshPnwEVL1tVJdo+QvlUJHqPe1wQl11xGXTJ043hpt13N/36QHXluv597ZpHYrHX9gmb51xsE687D9NbSo7234XJ/T712h4LcXSk1Nanb5r6S5casUDqv6dKkpqVlLU7FUfXofnqssmtU+SQtspOunADY27gW9ra0HAGCwYgY9iZdn0DOZCQ2vDavq0Ss7N9WRpBJTrJpz70g7pCeHVylW81wzu6Z3s/aFhQpPiaYsGymQT+9dvV0Prlyvh1fVa/OnzRo7coguOKZcF06boIox2d3+PeVzOjYkVVfLfDXieK6ykv1liXzfbXKY//XODHDFdwoVGdG9o4xrG8h+lvXrDACAAcJtBp1FogNInUOQdBuvXnxNl3AuxTbVqV58Tdr3l7XFhfPmdYbzqtnx0pakwGtssYa3naoxzSGd9p/Pq+bF91U2aoe0z++0qnWmbv/7TL288bHM7jcNTuG8czwYjPUlT7UXUFOT/DucZ/K9MgPs1u7RtQ1kPwtODapmdo0CpQEZGQVKA4RzAMBejRKXAcS/o8BxJtQpINa1NjgGy7rWNDffUd/6bndK2ISmurLrolBJKmo/UCPaztCI6KnyaYRkN+o7Mw+Rr2SFvr30X2JvEEzP5Ty9VWAKFLXdn9MCs+c5LRtWpoZd3Z+3svh7l9BTUVVdXNJtBrin7ir9xd/oXO/vb+z/c3ETnBokkAMAEMcM+gASeirq3M7vKYfQ7hK+MgllbjPAGc0M19QoPDW+KDReX+6zIzWy7Us6YPd8jWv+L42MnqFdBSu1zfcD/eyJKl192iTd8soP05u9j8/Oy5jYv/PmpX9ukmM4Tx6ff9Z8Ffm6docpapPmPxn7Org94OkZ4NDS7i0jS1pi4wAAwHuYQR9AgtsD0uMRVVdKdaWxsB1aGh9PEnqzzLGzSOjNsrTvL1QZcqwNzmRmuKOspanIp6HtR2lE9HSVRI+XUZGazTo1FC1Qk+8FGbtDVSuly+KPJa3Z++Qt4qPRPd+nuQtlwOVTiUDCpxIdQbt68TWqa23Y87yvVWf/ci/PAGdy3QAAgPxjkWgSLy8STasveUdbxEhE4anqGspeKlLwuj9mtsNjHzvBVFx3gLYNP10jopUqtGMV1XbtLHheOwqfVqvvgy63LWmVasbPVXDu7ektiE1YdNoleL5dILWlt/gxfITRlWdLLQlvVYvbpDsWScE1Dv9tZLPtZH/Jdj97AACQFSwSHQyCwVioCgRiJR2BQPdwXlXV2c4wuFaqnW/UfqNU+2gg43DeW7taonrk9XpdXPOKNOT/qbTtQrWaiDYX36T6oZfrk+KabuFckpqKpOrmJZKk0JBZKmnt+vOS1th4h8RFp9bE/q2aHRtPW1lZtw4sNj7uqGPhaHt77N/E576iQvL5Yv9msCNqzvV03QAAAE9hBj2Jp2fQe5KwEVAXgUAsTGYok/Z31lq9uX6bHlxZr8dXf6gdzW0KlJUo0ny/6lsfUdSX/oY99gYrVVQoPMqlLCP+WCquM+6bHU27J62Z7orQGEXaui8ADRSWqbY6zXNmhhoAAPQCO4mmaUAHdJ9Pcvp7mhRbzqeQTpnJ5k+b9egb9XpoZb3e27RDw4oKNGvqAbpwWrmmTxyte393tS7/aIHa0/yspsAUqO3HbWk9FvMTk7I/eTqBOSu7WGb5jREAANg7sJPo3sDvdw6K/t7143ZdqLltg55++2M9uHK9nvv7JrW1Wx3t30c3nzdVXzziAI0cuqfjyR9fq1F7Bnff2T0ljcdS4HNpkWjVNZwr/n11dbeAnpVdLOtc2k66jQMAAKRADfpgEgrFZooTxbuMdJFmvXRySC1sL9c+rXPkb7lL/3LXSr1Rt01XnTRRz1z/eT0y70RdPN3fJZxL0lJ/NPVGP0nKhpWl/VhcWyS63Z9DYA5VhlRS1PV+Mu5h7vYGqJdvjAAAwN6NGfTBpGN2OFXtdXK9dCQS+z7x9+NCQ2bp6813yhScrOHRL2ho+6GyiurQYZt1/QX/pFMPGauighy9x0vjsbi2SHTr9e4QmDtbKPahU41CIeca9OQ3RgAAAGmgBj3JgK5BT0ca9dLWWq1U0GyzAAANR0lEQVT4YKse/PYvtfjAY9VaOFStpk5FrU/rB88/p6/XFkhb0ltA6VonnoK9Ib1rMnyEifVYT+r1XvO4FPxHejXoWTMQ2y8CAIC8ogYdMSnqpTc27tIjr2/QQyvXq7ahSSMCx+j8t57ThWue1lEb3800Z0uSpmyS3v6Muob0jvztcMACU9B90EXKDXhqQv0bmINBAjkAAMgKAvreJmnxZXNBoZ6ZNEMPTf9nvXjzs2q30nEHjtY3KyfrrBmTNKytuU93t3OIugdxIzk0TpHkXlfuKBRSsKpKwbXJM+UhAjMAABiwCOh7m1BItqpKa0eN08OHn65FU05R47CROqCoXVefPEnnH1OuQNnw2G1LR0gNDgHdbRMfB3WlmZ1eoDSD7efTqbkHAAAYYAjoe5FN23frsQnH6eFv36d3mws0pLVZZ364Rl8+5VCdVHWhCnxJU93z50tz5kitCVt6FhXFxtPkb5TjZkJlTdKufUq6bYKUUfcUiZlyAAAw6BDQB7nmtqiW/m2THl5Vrxfe3axou9XR/jL94pgJ+uIRB6h02Hnuv5yFGerQS8WqOrOly0JOY6WGEqmscJiGFQ7T1l1be9c9BQAAYBAioA9C1lqt3dCoh1fVa9GbH6pxV6v2HzVUX//8gfryMeU6aOwI519060TShxnq4D4nS48vVXWlFCmNl5/HJ+obdjWopKhEd593N8EcAAAgjjaLSQZym8VN23frsTc36OFV9Xr34x0aUujTmYftr/OPKdeJk8Z0L2FJlNwfXZJKShT+zytU3byk9z3CCwqk9nZJUsW1zuUugdKAaq+tTf+YAAAAgwBtFr2qj/2znUtY9tEvzp0aL2Ep6vkgUuwcEsO5pPBBTar68HdqKoy9iYs0RlT1eGxTo7RDejycS+4LRusaXVo/AgAA7IUI6PmUwa6eiXpdwpKKQ3/06kp1hvMOTa1Nql5a3auSlNFNUsNwh/FhozM+FgAAwGBFQM8nh1lrNTXFxh0Cep9KWHqS1B9dytKMtzESZVQAAABpI6DnU4pdPTs4lbAcE9hXN50XK2EZNTTNEpaehELdatD9240ipd3Dtb/Un/5xE8L51hLnm2zdtTX94wEAAAxyBPR8cpi1liTr92tt/bbslrD0xKGlYmjyLFV9srBvvcoDgc7H6NYTPaPADwAAMMjRxSVJv3ZxSapB3zR8Xz121Bl6uPLS2EZC2Sxh6e0prg2reml177u4JDzG8FSpara69EQvKSpRzewa2iwCAIC9jlsXFwJ6kn5vsxgO6/Vf/4/++8BT9cLEoxX1FeiYwL46/5jy7Jaw5FNCp5rwKaNVfbpU18bmRAAAYO9GQE9TPvqgP//OJn3/f9fqvKPH566EBQAAAJ5CH3QP+/zksXr5+/+UlxIWAAAAeAsB3QN8BHMAAADE+fJ9AgAAAAD2IKADAAAAHkJABwAAADyEgA4AAAB4CAEdAAAA8BACOgAAAOAhBHQAAADAQwjoAAAAgIcQ0AEAAAAPIaADAAAAHkJABwAAADyEgA4AAAB4CAEdAAAA8BACOgAAAOAhBHQAAADAQwjoAAAAgIcQ0AEAAAAPIaADAAAAHkJABwAAADyEgA4AAAB4CAEdAAAA8BACOgAAAOAhBHQAAADAQwjoAAAAgIcQ0AEAAAAPIaADAAAAHkJABwAAADyEgA4AAAB4CAEdAAAA8BACOgAAAOAhgz6gG2NmGmPeMcasM8Z8P9/nAwAAAKQyqAO6MaZA0m8lnSVpiqRLjDFT8ntWAAAAgLtBHdAlTZe0zlr7vrW2RdL9ks7O8zkBAAAArgZ7QB8vaX3C9/XxsS6MMVXGmJXGmJWbN2/ut5MDAAAAkg32gJ4Wa22NtXaatXba2LFj8306AAAA2IsN9oC+QdKEhO/L42MAAACAJw32gP6apMnGmInGmGJJF0tanOdzAgAAAFwV5vsEcsla22aM+TdJT0kqkHSHtfaveT4tAAAAwNWgDuiSZK1dImlJvs8DAAAASMdgL3EBAAAABhQCOgAAAOAhBHQAAADAQwjoAAAAgIcQ0AEAAAAPIaADAAAAHkJABwAAADyEgA4AAAB4CAEdAAAA8BACOgAAAOAhBHQAAADAQwjoAAAAgIcQ0AEAAAAPIaADAAAAHkJABwAAADyEgA4AAAB4CAEdAAAA8BACOgAAAOAhBHQAAADAQwjoAAAAgIcQ0AEAAAAPIaADAAAAHkJABwAAADyEgA4AAAB4CAEdAAAA8BACOgAAAOAhBHQAAADAQwjoAAAAgIcQ0AEAAAAPIaADAAAAHkJABwAAADyEgA4AAAB4CAEdAAAA8BACOgAAAOAhBHQAAADAQwjoAAAAgIcQ0AEAAAAPIaADAAAAHkJABwAAADyEgA4AAAB4CAEdAAAA8BACOgAAAOAhBHQAAADAQwjoAAAAgIcQ0AEAAAAPIaADAAAAHkJABwAAADyEgA4AAAB4CAEdAAAA8BACOgAAAOAhBHQAAADAQwjoAAAAgIcQ0AEAAAAPIaADAAAAHkJABwAAADyEgA4AAAB4CAEdAAAA8BACOgAAAOAhBHQAAADAQwjoAAAAgIcQ0AEAAAAPIaADAAAAHkJABwAAADyEgA4AAAB4CAEdAAAA8BACOgAAAOAhBHQAAADAQwjoAAAAgIcQ0AEAAAAPyUtAN8ZcYIz5qzGm3RgzLelnPzDGrDPGvGOMOTNhfGZ8bJ0x5vsJ4xONMa/Gxx8wxhTHx4fEv18X/3lFfz0+AAAAoLfyNYP+lqTzJL2YOGiMmSLpYkmHSZop6XZjTIExpkDSbyWdJWmKpEvit5WkWyTdaq2dJOkTSVfFx6+S9El8/Nb47QAAAABPy0tAt9b+zVr7jsOPzpZ0v7W22Vr7gaR1kqbH/7fOWvu+tbZF0v2SzjbGGEn/JOnh+O8vlHROwrEWxr9+WFJl/PYAAACAZxXm+wSSjJe0POH7+viYJK1PGp8hqUzSNmttm8Ptx3f8jrW2zRjTGL/9luQ7NcZUSaqKf7vDGOP05iFfxsjhnIEecN2gt7h20BtcN+gNrhsp4DSYs4BujHlG0v4OP6q21i7K1f32hrW2RlJNvs/DiTFmpbV2Ws+3BPbgukFvce2gN7hu0BtcN+5yFtCttaf34tc2SJqQ8H15fEwu4w2S9jHGFMZn0RNv33GsemNMoaTS+O0BAAAAz/Jam8XFki6Od2CZKGmypBWSXpM0Od6xpVixhaSLrbVW0nOSzo///hWSFiUc64r41+dLejZ+ewAAAMCz8tVm8VxjTL2k4yX92RjzlCRZa/8q6UFJb0t6UtLV1tpofHb83yQ9Jelvkh6M31aSvifpemPMOsVqzP8QH/+DpLL4+PWSOlszDjCeLL2B53HdoLe4dtAbXDfoDa4bF4ZJZQAAAMA7vFbiAgAAAOzVCOgAAACAhxDQPcYYU2uMWWuMedMYszI+NtoY87Qx5r34v/vm+zyRX8aYO4wxm4wxbyWMOV4nJua/jDHrjDFrjDFH5+/MkU8u181PjDEb4q85bxpjZiX87Afx6+YdY8yZ+Tlr5JsxZoIx5jljzNvGmL8aY66Jj/OaA1cprhtec9JAQPem06y1RyX0Bv2+pKXW2smSlmrgLnhF9twpaWbSmNt1cpZiHZEmK7Yh14J+Okd4z53qft1I0q3x15yjrLVLJMkYM0WxjlmHxX/ndmNMQb+dKbykTdK3rLVTJB0n6er49cFrDlJxu24kXnN6REAfGM6WtDD+9UJJ5+TxXOAB1toXJW1NGna7Ts6WdJeNWa7Y3gEH9M+Zwktcrhs3Z0u631rbbK39QNI6SdNzdnLwLGvtRmvt6/GvP1Wsm9p48ZqDFFJcN254zUlAQPceK+kvxphVxpiq+Nh+1tqN8a8/krRffk4NHud2nYyXtD7hdvVK/SKJvc+/xUsR7kgooeO6QTfGmApJn5P0qnjNQZqSrhuJ15weEdC95yRr7dGKfUR4tTHm84k/jG+2RG9MpMR1ggwskHSQpKMkbZT0q/yeDrzKGDNC0v9KutZauz3xZ7zmwI3DdcNrThoI6B5jrd0Q/3eTpEcV+3jn446PB+P/bsrfGcLD3K6TDZImJNyuPD4GyFr7cXxDuHZJ/6M9Hylz3aCTMaZIsZAVttY+Eh/mNQcpOV03vOakh4DuIcaY4caYkR1fSzpD0luSFku6In6zKyQtys8ZwuPcrpPFki6Pd1Y4TlJjwsfS2Msl1Qafq9hrjhS7bi42xgwxxkxUbMHfiv4+P+SfMcYotjv336y1v074Ea85cOV23fCak57CfJ8AuthP0qOxa1qFku611j5pjHlN0oPGmKskRSRdmMdzhAcYY+6TdKqkMcaYekk3SLpZztfJEkmzFFtw0yRpTr+fMDzB5bo51RhzlGLlCbWSvi5J1tq/GmMelPS2Yt0YrrbWRvNx3si7EyVdJmmtMebN+NgPxWsOUnO7bi7hNadnJlY2BgAAAMALKHEBAAAAPISADgAAAHgIAR0AAADwEAI6AAAA4CEEdAAAAMBDCOgAAACAhxDQAQAAAA/5/9n9dITqHD8BAAAAAElFTkSuQmCC\n"
                },
                "metadata": {
                  "needs_background": "light"
                }
              }
            ]
          }
        },
        "c8034bbc301a4416891d6473e725fa92": {
          "model_module": "@jupyter-widgets/base",
          "model_name": "LayoutModel",
          "model_module_version": "1.2.0",
          "state": {
            "_model_module": "@jupyter-widgets/base",
            "_model_module_version": "1.2.0",
            "_model_name": "LayoutModel",
            "_view_count": null,
            "_view_module": "@jupyter-widgets/base",
            "_view_module_version": "1.2.0",
            "_view_name": "LayoutView",
            "align_content": null,
            "align_items": null,
            "align_self": null,
            "border": null,
            "bottom": null,
            "display": null,
            "flex": null,
            "flex_flow": null,
            "grid_area": null,
            "grid_auto_columns": null,
            "grid_auto_flow": null,
            "grid_auto_rows": null,
            "grid_column": null,
            "grid_gap": null,
            "grid_row": null,
            "grid_template_areas": null,
            "grid_template_columns": null,
            "grid_template_rows": null,
            "height": null,
            "justify_content": null,
            "justify_items": null,
            "left": null,
            "margin": null,
            "max_height": null,
            "max_width": null,
            "min_height": null,
            "min_width": null,
            "object_fit": null,
            "object_position": null,
            "order": null,
            "overflow": null,
            "overflow_x": null,
            "overflow_y": null,
            "padding": null,
            "right": null,
            "top": null,
            "visibility": null,
            "width": null
          }
        },
        "887ea3760aac43f691d72fec0fa90acb": {
          "model_module": "@jupyter-widgets/base",
          "model_name": "LayoutModel",
          "model_module_version": "1.2.0",
          "state": {
            "_model_module": "@jupyter-widgets/base",
            "_model_module_version": "1.2.0",
            "_model_name": "LayoutModel",
            "_view_count": null,
            "_view_module": "@jupyter-widgets/base",
            "_view_module_version": "1.2.0",
            "_view_name": "LayoutView",
            "align_content": null,
            "align_items": null,
            "align_self": null,
            "border": null,
            "bottom": null,
            "display": null,
            "flex": null,
            "flex_flow": null,
            "grid_area": null,
            "grid_auto_columns": null,
            "grid_auto_flow": null,
            "grid_auto_rows": null,
            "grid_column": null,
            "grid_gap": null,
            "grid_row": null,
            "grid_template_areas": null,
            "grid_template_columns": null,
            "grid_template_rows": null,
            "height": null,
            "justify_content": null,
            "justify_items": null,
            "left": null,
            "margin": null,
            "max_height": null,
            "max_width": null,
            "min_height": null,
            "min_width": null,
            "object_fit": null,
            "object_position": null,
            "order": null,
            "overflow": null,
            "overflow_x": null,
            "overflow_y": null,
            "padding": null,
            "right": null,
            "top": null,
            "visibility": null,
            "width": null
          }
        },
        "92c3e1e66c624a8ba021447db217cdac": {
          "model_module": "@jupyter-widgets/controls",
          "model_name": "SliderStyleModel",
          "model_module_version": "1.5.0",
          "state": {
            "_model_module": "@jupyter-widgets/controls",
            "_model_module_version": "1.5.0",
            "_model_name": "SliderStyleModel",
            "_view_count": null,
            "_view_module": "@jupyter-widgets/base",
            "_view_module_version": "1.2.0",
            "_view_name": "StyleView",
            "description_width": "",
            "handle_color": null
          }
        },
        "efaf69d416924c2fa1cf692d5f70885e": {
          "model_module": "@jupyter-widgets/base",
          "model_name": "LayoutModel",
          "model_module_version": "1.2.0",
          "state": {
            "_model_module": "@jupyter-widgets/base",
            "_model_module_version": "1.2.0",
            "_model_name": "LayoutModel",
            "_view_count": null,
            "_view_module": "@jupyter-widgets/base",
            "_view_module_version": "1.2.0",
            "_view_name": "LayoutView",
            "align_content": null,
            "align_items": null,
            "align_self": null,
            "border": null,
            "bottom": null,
            "display": null,
            "flex": null,
            "flex_flow": null,
            "grid_area": null,
            "grid_auto_columns": null,
            "grid_auto_flow": null,
            "grid_auto_rows": null,
            "grid_column": null,
            "grid_gap": null,
            "grid_row": null,
            "grid_template_areas": null,
            "grid_template_columns": null,
            "grid_template_rows": null,
            "height": null,
            "justify_content": null,
            "justify_items": null,
            "left": null,
            "margin": null,
            "max_height": null,
            "max_width": null,
            "min_height": null,
            "min_width": null,
            "object_fit": null,
            "object_position": null,
            "order": null,
            "overflow": null,
            "overflow_x": null,
            "overflow_y": null,
            "padding": null,
            "right": null,
            "top": null,
            "visibility": null,
            "width": null
          }
        },
        "c40f1099566247258881d544c511df90": {
          "model_module": "@jupyter-widgets/controls",
          "model_name": "SliderStyleModel",
          "model_module_version": "1.5.0",
          "state": {
            "_model_module": "@jupyter-widgets/controls",
            "_model_module_version": "1.5.0",
            "_model_name": "SliderStyleModel",
            "_view_count": null,
            "_view_module": "@jupyter-widgets/base",
            "_view_module_version": "1.2.0",
            "_view_name": "StyleView",
            "description_width": "",
            "handle_color": null
          }
        },
        "31e6057a4a1347cf85cf86aa2762d61a": {
          "model_module": "@jupyter-widgets/base",
          "model_name": "LayoutModel",
          "model_module_version": "1.2.0",
          "state": {
            "_model_module": "@jupyter-widgets/base",
            "_model_module_version": "1.2.0",
            "_model_name": "LayoutModel",
            "_view_count": null,
            "_view_module": "@jupyter-widgets/base",
            "_view_module_version": "1.2.0",
            "_view_name": "LayoutView",
            "align_content": null,
            "align_items": null,
            "align_self": null,
            "border": null,
            "bottom": null,
            "display": null,
            "flex": null,
            "flex_flow": null,
            "grid_area": null,
            "grid_auto_columns": null,
            "grid_auto_flow": null,
            "grid_auto_rows": null,
            "grid_column": null,
            "grid_gap": null,
            "grid_row": null,
            "grid_template_areas": null,
            "grid_template_columns": null,
            "grid_template_rows": null,
            "height": null,
            "justify_content": null,
            "justify_items": null,
            "left": null,
            "margin": null,
            "max_height": null,
            "max_width": null,
            "min_height": null,
            "min_width": null,
            "object_fit": null,
            "object_position": null,
            "order": null,
            "overflow": null,
            "overflow_x": null,
            "overflow_y": null,
            "padding": null,
            "right": null,
            "top": null,
            "visibility": null,
            "width": null
          }
        }
      }
    }
  },
  "nbformat": 4,
  "nbformat_minor": 0
}