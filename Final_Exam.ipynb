{
  "nbformat": 4,
  "nbformat_minor": 0,
  "metadata": {
    "colab": {
      "provenance": [],
      "toc_visible": true,
      "authorship_tag": "ABX9TyMZBNUUcVbPyx4k2s0/PGRf",
      "include_colab_link": true
    },
    "kernelspec": {
      "name": "python3",
      "display_name": "Python 3"
    },
    "language_info": {
      "name": "python"
    }
  },
  "cells": [
    {
      "cell_type": "markdown",
      "metadata": {
        "id": "view-in-github",
        "colab_type": "text"
      },
      "source": [
        "<a href=\"https://colab.research.google.com/github/mknomics/teaching/blob/main/Final_Exam.ipynb\" target=\"_parent\"><img src=\"https://colab.research.google.com/assets/colab-badge.svg\" alt=\"Open In Colab\"/></a>"
      ]
    },
    {
      "cell_type": "code",
      "execution_count": 68,
      "metadata": {
        "id": "z5RkequITDSd"
      },
      "outputs": [],
      "source": [
        "import pandas as pd\n",
        "import numpy as np\n",
        "import math\n",
        "\n",
        "import matplotlib.pyplot as plt\n",
        "%matplotlib inline\n",
        "\n",
        "from sklearn.linear_model import LinearRegression\n",
        "from sklearn.metrics import mean_squared_error\n",
        "from sklearn import metrics\n",
        "from sklearn.model_selection import train_test_split\n",
        "from sklearn.preprocessing import PolynomialFeatures\n",
        "from sklearn.pipeline import Pipeline\n",
        "from sklearn.preprocessing import StandardScaler\n",
        "from sklearn.model_selection import train_test_split\n",
        "\n",
        "\n",
        "import statsmodels.api as sm\n",
        "import statsmodels.formula.api as smf\n",
        "import seaborn as sns\n",
        "%matplotlib inline \n",
        "\n",
        "pd.set_option('display.max_columns', None)"
      ]
    },
    {
      "cell_type": "code",
      "source": [
        "def model(X=True, Y=True):\n",
        "\n",
        "  reg_model = sm.GLS(Y, X).fit()\n",
        "  #X = sm.add_constant(X,  has_constant='add')  This method did not work for me\n",
        "  Yhat = reg_model.predict(X) #This method can make predictions but we don't need them in this example\n",
        "  print(reg_model.summary())\n",
        "  plt.figure()\n",
        "  ax1 = sns.distplot(Y, hist=False, color=\"r\", label=\"Actual Value\")\n",
        "  sns.distplot(Yhat, hist=False, color=\"b\", label=\"Fitted Values\" , ax=ax1)\n",
        "  plt.legend()\n",
        "  plt.show()\n",
        "  plt.close()\n",
        "  print('log(MSE)=' + str(math.log(mean_squared_error(Yhat,Y)))) # log transform MSE to make the large numbers easier to read.  Log preserves ordinality of data - it is an \"affine transformation\"\n",
        "  return\n",
        "\n",
        "def create_dummy(Categorical=True, dataframe=True):\n",
        "  dataframe=pd.get_dummies(dataframe[Categorical]).join(dataframe)\n",
        "  return dataframe\n",
        "\n",
        "def interact(D=True, X=True, dataframe=True):\n",
        "  for j in D:\n",
        "    for k in X:\n",
        "      dataframe[j+'_'+k]=dataframe[j]*dataframe[k]\n",
        "  return dataframe\n"
      ],
      "metadata": {
        "id": "BXEUXSFLvunP"
      },
      "execution_count": 2,
      "outputs": []
    },
    {
      "cell_type": "markdown",
      "source": [
        "## Load Data into Colab"
      ],
      "metadata": {
        "id": "qp3i_SCPwE6A"
      }
    },
    {
      "cell_type": "code",
      "source": [
        "df_house=create_dummy(Categorical='YrSold', dataframe=df_house)"
      ],
      "metadata": {
        "id": "TiKVA8H-KiPj"
      },
      "execution_count": 15,
      "outputs": []
    },
    {
      "cell_type": "code",
      "source": [
        "house_data_path='https://raw.githubusercontent.com/data-doctors/kaggle-house-prices-advanced-regression-techniques/master/data/train.csv'\n",
        "df_house=pd.read_csv(house_data_path) # invoke Pandas and use read_csv() method passing in the parameter of the csv location, in this case a url address\n",
        "df_house.head(1) # Visually Inspect that it loaded correctly\n",
        "#df_house.info() # info() is prefered to .dtypes method because info() gives null counts and dtypes and does not cut the output shortd\n",
        "\n",
        "# feature engineering age\n",
        "df_house['age']=df_house['YrSold']-df_house['YearBuilt'] # Age of house when sold\n",
        "df_house['SF']=df_house['1stFlrSF']+df_house['2ndFlrSF'] # Total Square Feet\n",
        "df_house['baths']=df_house['FullBath']+df_house['HalfBath'] # Total Number of Bathrooms\n",
        "df_house['constant']=1 # add a constant for later use in the regressions\n",
        "\n",
        "df_house = create_dummy(Categorical='SaleCondition', dataframe=df_house)\n",
        "\n",
        "df_house = create_dummy(Categorical='RoofStyle', dataframe=df_house)\n",
        "df_house = create_dummy(Categorical='Neighborhood', dataframe=df_house)\n",
        "\n",
        "df_house = interact(D=['Abnorml'], X=['SF'], dataframe=df_house)\n",
        "df_house = interact(D=['Abnorml'], X=['age'], dataframe=df_house)\n",
        "\n",
        "df_house['YrSold']=df_house['YrSold'].astype(str) # YrSold as string so that we can transform it into a dummy variable\n",
        "\n",
        "# Need to transform the numeric MoSold into meaningful strings I do this in two parts\n",
        "def month(X): # first define a function 'month()' \n",
        "  if X==1:\n",
        "    return 'Jan'\n",
        "  elif X==2:\n",
        "    return 'Feb'\n",
        "  elif X==3:\n",
        "    return 'Mar'\n",
        "  elif X==4:\n",
        "    return 'Apr'\n",
        "  elif X==5:\n",
        "    return 'May'\n",
        "  elif X==6:\n",
        "    return 'Jun'\n",
        "  elif X==7:\n",
        "    return 'Jul'\n",
        "  elif X==8:\n",
        "    return 'Aug'\n",
        "  elif X==9:\n",
        "    return 'Sep'\n",
        "  elif X==10:\n",
        "    return 'Oct'\n",
        "  elif X==11:\n",
        "    return 'Nov'\n",
        "  else:\n",
        "    return 'Dec'\n",
        "\n",
        "# second: apply the month() function to 'MoSold' column using the method 'apply(lambda x: function(x))' method\n",
        "df_house['MoSold'] = df_house['MoSold'].apply(lambda x: month(x))\n",
        "\n",
        "# take a look at the transformed data df_house['MoSold'].head()"
      ],
      "metadata": {
        "id": "1cQYdYSMWmlL"
      },
      "execution_count": 60,
      "outputs": []
    },
    {
      "cell_type": "markdown",
      "source": [
        "# Descriptive Statistics\n",
        "Answer the following questions.  To receive credit, you need to show your code and write a short answer.  A single question should be associated with only one code block.  "
      ],
      "metadata": {
        "id": "AGO3Qd_mNpIA"
      }
    },
    {
      "cell_type": "markdown",
      "source": [
        "## Example Question and Answer:\n",
        "Which neighborhood has the highest average sales price?"
      ],
      "metadata": {
        "id": "5FJ7HJS3N_yz"
      }
    },
    {
      "cell_type": "markdown",
      "source": [
        "### Example Answer: \n",
        "NoRidge has the highest average price of $335,295.  See Code-block below for support"
      ],
      "metadata": {
        "id": "e8_LHMD-PI-g"
      }
    },
    {
      "cell_type": "code",
      "source": [
        "Neighborhood_list = df_house['Neighborhood'].unique()\n",
        "\n",
        "for i in Neighborhood_list:\n",
        "  print( i + '   average price = ' + str(df_house.loc[df_house['Neighborhood']==i]['SalePrice'].mean()))"
      ],
      "metadata": {
        "colab": {
          "base_uri": "https://localhost:8080/"
        },
        "id": "tJ9pIXXjOSVT",
        "outputId": "95ae934a-8923-42ff-d36a-3dc7f3da7f55"
      },
      "execution_count": 22,
      "outputs": [
        {
          "output_type": "stream",
          "name": "stdout",
          "text": [
            "CollgCr   average price = 197965.77333333335\n",
            "Veenker   average price = 238772.72727272726\n",
            "Crawfor   average price = 210624.72549019608\n",
            "NoRidge   average price = 335295.31707317074\n",
            "Mitchel   average price = 156270.1224489796\n",
            "Somerst   average price = 225379.83720930232\n",
            "NWAmes   average price = 189050.0684931507\n",
            "OldTown   average price = 128225.30088495575\n",
            "BrkSide   average price = 124834.05172413793\n",
            "Sawyer   average price = 136793.13513513515\n",
            "NridgHt   average price = 316270.6233766234\n",
            "NAmes   average price = 145847.08\n",
            "SawyerW   average price = 186555.7966101695\n",
            "IDOTRR   average price = 100123.78378378379\n",
            "MeadowV   average price = 98576.4705882353\n",
            "Edwards   average price = 128219.7\n",
            "Timber   average price = 242247.44736842104\n",
            "Gilbert   average price = 192854.50632911394\n",
            "StoneBr   average price = 310499.0\n",
            "ClearCr   average price = 212565.42857142858\n",
            "NPkVill   average price = 142694.44444444444\n",
            "Blmngtn   average price = 194870.88235294117\n",
            "BrDale   average price = 104493.75\n",
            "SWISU   average price = 142591.36\n",
            "Blueste   average price = 137500.0\n"
          ]
        }
      ]
    },
    {
      "cell_type": "markdown",
      "source": [
        "## Question 1:  \n",
        "Which month are the most houses sold? "
      ],
      "metadata": {
        "id": "n3ZKinI_P0iw"
      }
    },
    {
      "cell_type": "markdown",
      "source": [
        "## Question 2: \n",
        "Which year are the most houses sold?"
      ],
      "metadata": {
        "id": "wyaftMGVP_bu"
      }
    },
    {
      "cell_type": "markdown",
      "source": [
        "## Question 3\n",
        "In which neighborhood are prices most dispersed or spread out?"
      ],
      "metadata": {
        "id": "tlXPR-x4QR8-"
      }
    },
    {
      "cell_type": "markdown",
      "source": [
        "## Question 4\n",
        "Which year has the lowest average sales price?  Which year has the highest?"
      ],
      "metadata": {
        "id": "hBqQVtBdQeQ9"
      }
    },
    {
      "cell_type": "code",
      "source": [
        "df_house['YearRemodAdd']"
      ],
      "metadata": {
        "id": "MBdJC7k9pRTz"
      },
      "execution_count": null,
      "outputs": []
    },
    {
      "cell_type": "markdown",
      "source": [
        "# Predictive Modeling\n",
        "\n",
        "\n",
        "\n"
      ],
      "metadata": {
        "id": "Gsf4zhTDR-0B"
      }
    },
    {
      "cell_type": "markdown",
      "source": [
        "## Question 5: \n",
        "Evaluate which model makes the most accurate in-sample predictions (Model 1, 2 or 3). Support your answers with an appropriate metric.   \n",
        "\n",
        "**Read the model definitions and variable definitions CAREFULLY to make sure your equation matches the model** and to avoid a misspecification.  You might need to define your own variables at times.  Some work has already been done in the beginning of this workbook but not all of it.  Attention to detail or lack thereof will matter here. \n"
      ],
      "metadata": {
        "id": "YZ7Ix0_WrD3J"
      }
    },
    {
      "cell_type": "markdown",
      "source": [
        "##Variable Definitions\n",
        "\n",
        "$WoodDeckSF$ is a continuous variable for Square Footage of Wood Deck on the house. \n",
        "\n",
        "$SF$ is total square feet of house \n",
        "\n",
        "$Age$ is defined as Year Sold minus Year Built \n",
        "\n",
        "$Abnorml$ is a dummy equal to one if df_house['SaleCondition']=='Abnorml' and zero otherwise  \n",
        "\n",
        "$Neigh_i$ is a dummy variable for the $i^{th}$ type of Neighborhood.  I ommitted several neighborhoods and note that my summation goes from 6 to 25 so that the subscripts numbering on my $\\beta$'s match with the numbering in the equation.  Refer to the \"Base Model\" to see which neighborhoods are contained in this set.  \n",
        "\n",
        "$Year_{2006}$ is a dummy equal to one if the house was sold in 2006.  Other year dummies are defined in the same way according to the subscript in the equation.  \n",
        "\n",
        "$Month_k$ is a dummy for month sold, with the omitted category being January.\n",
        "\n",
        "$Baths$ is the number of bathrooms the house has\n",
        "\n",
        "$Hip$ is a dummy equal to one if the house has a hip roof and zero otherwise\n",
        "\n",
        "$Updated$ is equal to 'YearSold' minus 'YearRemodAdd'"
      ],
      "metadata": {
        "id": "liB0yfIArLCj"
      }
    },
    {
      "cell_type": "markdown",
      "source": [
        "## Model 1\n",
        "$SalePrice = \\beta_0 + \\beta_1 WoodDeckSF + \\beta_2 SF + \\beta_3 Age + \\beta_4 Abnorml + \\beta_5 (Abnorml \\times SF) + \\Sigma_{i=6}^{i=25}\\beta_i Neigh_i + \\beta_{26} Baths + \\epsilon$\n",
        "\n"
      ],
      "metadata": {
        "id": "gM0t1kzR_SOh"
      }
    },
    {
      "cell_type": "code",
      "source": [
        "model(X=df_house[['constant','WoodDeckSF','SF','age', 'Abnorml', 'Abnorml_SF','CollgCr', 'Crawfor', 'NoRidge', 'Mitchel', 'Somerst',\n",
        "       'NWAmes', 'OldTown', 'BrkSide', 'Sawyer', 'NridgHt', 'NAmes',\n",
        "       'SawyerW', 'IDOTRR', 'MeadowV', 'Edwards', 'Timber', 'Gilbert',\n",
        "       'StoneBr', 'ClearCr', 'SWISU','baths']], Y=df_house['SalePrice'])"
      ],
      "metadata": {
        "colab": {
          "base_uri": "https://localhost:8080/",
          "height": 1000
        },
        "id": "UFXmMGz9_nHX",
        "outputId": "d0919593-5a31-4a26-9f85-8dc870f72164"
      },
      "execution_count": null,
      "outputs": [
        {
          "output_type": "stream",
          "name": "stdout",
          "text": [
            "                            GLS Regression Results                            \n",
            "==============================================================================\n",
            "Dep. Variable:              SalePrice   R-squared:                       0.760\n",
            "Model:                            GLS   Adj. R-squared:                  0.755\n",
            "Method:                 Least Squares   F-statistic:                     174.4\n",
            "Date:                Wed, 23 Nov 2022   Prob (F-statistic):               0.00\n",
            "Time:                        19:37:16   Log-Likelihood:                -17503.\n",
            "No. Observations:                1460   AIC:                         3.506e+04\n",
            "Df Residuals:                    1433   BIC:                         3.520e+04\n",
            "Df Model:                          26                                         \n",
            "Covariance Type:            nonrobust                                         \n",
            "==============================================================================\n",
            "                 coef    std err          t      P>|t|      [0.025      0.975]\n",
            "------------------------------------------------------------------------------\n",
            "constant    8.732e+04   6876.899     12.698      0.000    7.38e+04    1.01e+05\n",
            "WoodDeckSF    49.5443      8.843      5.603      0.000      32.198      66.890\n",
            "SF            86.7462      3.268     26.547      0.000      80.336      93.156\n",
            "age         -742.6026     72.043    -10.308      0.000    -883.924    -601.281\n",
            "Abnorml     -2.99e+04   1.09e+04     -2.739      0.006   -5.13e+04   -8485.506\n",
            "Abnorml_SF    11.1106      7.113      1.562      0.118      -2.841      25.063\n",
            "CollgCr     8215.0461   6292.126      1.306      0.192   -4127.719    2.06e+04\n",
            "Crawfor     3.697e+04   8407.811      4.397      0.000    2.05e+04    5.35e+04\n",
            "NoRidge     6.301e+04   8624.927      7.306      0.000    4.61e+04    7.99e+04\n",
            "Mitchel    -1.038e+04   7817.243     -1.328      0.185   -2.57e+04    4955.993\n",
            "Somerst     2.788e+04   6974.576      3.997      0.000    1.42e+04    4.16e+04\n",
            "NWAmes      -914.7062   7110.813     -0.129      0.898   -1.49e+04     1.3e+04\n",
            "OldTown    -6566.1994   7934.941     -0.828      0.408   -2.21e+04    8999.146\n",
            "BrkSide     3466.1047   8441.929      0.411      0.681   -1.31e+04       2e+04\n",
            "Sawyer     -1.014e+04   7244.043     -1.400      0.162   -2.44e+04    4068.420\n",
            "NridgHt     8.437e+04   7257.968     11.624      0.000    7.01e+04    9.86e+04\n",
            "NAmes      -4148.8590   6312.954     -0.657      0.511   -1.65e+04    8234.763\n",
            "SawyerW    -4747.0927   7403.403     -0.641      0.521   -1.93e+04    9775.577\n",
            "IDOTRR     -8075.0561   9402.596     -0.859      0.391   -2.65e+04    1.04e+04\n",
            "MeadowV    -4.224e+04    1.1e+04     -3.847      0.000   -6.38e+04   -2.07e+04\n",
            "Edwards    -2.143e+04   7019.947     -3.052      0.002   -3.52e+04   -7654.821\n",
            "Timber      3.324e+04   8394.003      3.961      0.000    1.68e+04    4.97e+04\n",
            "Gilbert    -3579.1093   7025.208     -0.509      0.611   -1.74e+04    1.02e+04\n",
            "StoneBr     8.564e+04   9653.112      8.872      0.000    6.67e+04    1.05e+05\n",
            "ClearCr     1.576e+04   9377.530      1.680      0.093   -2638.195    3.42e+04\n",
            "SWISU      -1.207e+04   1.05e+04     -1.152      0.250   -3.26e+04    8482.409\n",
            "baths      -1.122e+04   2264.995     -4.955      0.000   -1.57e+04   -6779.948\n",
            "==============================================================================\n",
            "Omnibus:                      384.299   Durbin-Watson:                   2.004\n",
            "Prob(Omnibus):                  0.000   Jarque-Bera (JB):            11400.191\n",
            "Skew:                           0.576   Prob(JB):                         0.00\n",
            "Kurtosis:                      16.641   Cond. No.                     4.01e+04\n",
            "==============================================================================\n",
            "\n",
            "Notes:\n",
            "[1] Standard Errors assume that the covariance matrix of the errors is correctly specified.\n",
            "[2] The condition number is large, 4.01e+04. This might indicate that there are\n",
            "strong multicollinearity or other numerical problems.\n"
          ]
        },
        {
          "output_type": "stream",
          "name": "stderr",
          "text": [
            "/usr/local/lib/python3.7/dist-packages/seaborn/distributions.py:2619: FutureWarning: `distplot` is a deprecated function and will be removed in a future version. Please adapt your code to use either `displot` (a figure-level function with similar flexibility) or `kdeplot` (an axes-level function for kernel density plots).\n",
            "  warnings.warn(msg, FutureWarning)\n",
            "/usr/local/lib/python3.7/dist-packages/seaborn/distributions.py:2619: FutureWarning: `distplot` is a deprecated function and will be removed in a future version. Please adapt your code to use either `displot` (a figure-level function with similar flexibility) or `kdeplot` (an axes-level function for kernel density plots).\n",
            "  warnings.warn(msg, FutureWarning)\n"
          ]
        },
        {
          "output_type": "display_data",
          "data": {
            "text/plain": [
              "<Figure size 432x288 with 1 Axes>"
            ],
            "image/png": "[encoded data removed]"
          },
          "metadata": {
            "needs_background": "light"
          }
        },
        {
          "output_type": "stream",
          "name": "stdout",
          "text": [
            "log(MSE)=21.138391062295902\n"
          ]
        }
      ]
    },
    {
      "cell_type": "markdown",
      "source": [
        "## Model 2\n",
        "$SalePrice = \\beta_0 + \\beta_1 WoodDeckSF + \\beta_2 SF + \\beta_3 Age + \\beta_4 Abnorml + \\beta_5 (Abnorml \\times SF) + \\Sigma_{i=6}^{i=25}\\beta_i Neigh_i +\\beta_{26} Year_{2006} + \\beta_{27} Year_{2007}  + \\beta_{28} Year_{2008} +  + \\beta_{29} Year_{2009} + \\Sigma_{k=30}^{k=41}\\beta_k Month_k + \\beta_{41} Baths + \\epsilon$ *italicized text*\n",
        "\n"
      ],
      "metadata": {
        "id": "-9MjUR8q3h92"
      }
    },
    {
      "cell_type": "markdown",
      "source": [
        "## Model 3\n",
        "$SalePrice = \\beta_0 + \\beta_1 WoodDeckSF + \\beta_2 SF + \\beta_3 Age + \\beta_4 Abnorml + \\beta_5 Updated  + \\Sigma_{i=6}^{i=25}\\beta_i Neigh_i + + \\beta_{26} Year_{2006} + \\beta_{27} Year_{2007}  + \\beta_{28} Year_{2008} +  + \\beta_{29} Year_{2009} + \\Sigma_{k=30}^{k=41}\\beta_k Month_k + \\beta_{41} Baths + \\beta_{43} Hip + \\epsilon$"
      ],
      "metadata": {
        "id": "56_OtJA-5Vol"
      }
    }
  ]
}